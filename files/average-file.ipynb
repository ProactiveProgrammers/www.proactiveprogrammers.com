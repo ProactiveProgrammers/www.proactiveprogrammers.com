{
  "metadata": {
    "language_info": {
      "codemirror_mode": {
        "name": "python",
        "version": 3
      },
      "file_extension": ".py",
      "mimetype": "text/x-python",
      "name": "python",
      "nbconvert_exporter": "python",
      "pygments_lexer": "ipython3",
      "version": "3.8"
    },
    "kernelspec": {
      "name": "python",
      "display_name": "Pyolite",
      "language": "python"
    },
    "toc-autonumbering": false,
    "toc-showmarkdowntxt": true,
    "toc-showcode": false
  },
  "nbformat_minor": 4,
  "nbformat": 4,
  "cells": [
    {
      "cell_type": "code",
      "source": "import asyncio, js, io, pandas, IPython",
      "metadata": {
        "trusted": true
      },
      "execution_count": 23,
      "outputs": []
    },
    {
      "cell_type": "code",
      "source": "DB_NAME = \"JupyterLite Storage\"",
      "metadata": {
        "trusted": true
      },
      "execution_count": 24,
      "outputs": []
    },
    {
      "cell_type": "code",
      "source": "async def get_contents(path):\n    queue = asyncio.Queue(1)\n    IDBOpenDBRequest = js.self.indexedDB.open(DB_NAME)\n    IDBOpenDBRequest.onsuccess = IDBOpenDBRequest.onerror = queue.put_nowait  \n    await queue.get()  \n    if IDBOpenDBRequest.result is None:\n        return None       \n    IDBTransaction = IDBOpenDBRequest.result.transaction(\"files\", \"readonly\")\n    IDBObjectStore = IDBTransaction.objectStore(\"files\")\n    IDBRequest = IDBObjectStore.get(path, \"key\")\n    IDBRequest.onsuccess = IDBRequest.onerror = queue.put_nowait   \n    await queue.get()   \n    return IDBRequest.result.to_py() if IDBRequest.result else None",
      "metadata": {
        "trusted": true
      },
      "execution_count": 35,
      "outputs": []
    },
    {
      "cell_type": "code",
      "source": "observations = await get_contents(\"observations.txt\")\nobservations_content_list = observations['content'].split(\"\\n\")",
      "metadata": {
        "trusted": true
      },
      "execution_count": 38,
      "outputs": []
    },
    {
      "cell_type": "code",
      "source": "print(observations_content_list)",
      "metadata": {
        "trusted": true
      },
      "execution_count": 39,
      "outputs": [
        {
          "name": "stdout",
          "text": "['5', '7', '9', '10', '12', '15']\n",
          "output_type": "stream"
        }
      ]
    },
    {
      "cell_type": "code",
      "source": "for observation in observations_content_list:\n  n = int(observation)\n  sum += n\n  count += 1\nprint(sum/count)",
      "metadata": {
        "trusted": true
      },
      "execution_count": 40,
      "outputs": [
        {
          "name": "stdout",
          "text": "9.666666666666666\n",
          "output_type": "stream"
        }
      ]
    },
    {
      "cell_type": "code",
      "source": "",
      "metadata": {},
      "execution_count": null,
      "outputs": []
    }
  ]
}