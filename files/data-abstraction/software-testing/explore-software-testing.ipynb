{
 "cells": [
  {
   "cell_type": "code",
   "execution_count": null,
   "metadata": {},
   "outputs": [],
   "source": [
    "# Explore the use of software testing techniques to:\n",
    "# 1) establish a confidence in correctness\n",
    "# 2) identify defects in the function under test\n",
    "\n",
    "# Note: running test cases in a Jupyter notebook is practically different\n",
    "# than the approach you would take if you were running a pytest test suite"
   ]
  },
  {
   "cell_type": "code",
   "execution_count": null,
   "metadata": {},
   "outputs": [],
   "source": [
    "# Technical Topics:\n",
    "\n",
    "# Defining and calling a function\n",
    "# Creating and running a test case\n",
    "# Defect detecting and debugging\n",
    "# Computing the square of a number\n",
    "# Using for loops and while loops"
   ]
  },
  {
   "cell_type": "code",
   "execution_count": null,
   "metadata": {},
   "outputs": [],
   "source": [
    "# define a function that uses a for loop to compute the square of a number\n",
    "# note that there is a defect inside of this implementation of compute_square_for\n",
    "def compute_square_for(value: int) -> int:\n",
    "    answer = 0\n",
    "    for _ in range(abs(value+1)):\n",
    "        answer = answer + abs(value)\n",
    "    return answer"
   ]
  },
  {
   "cell_type": "code",
   "execution_count": null,
   "metadata": {},
   "outputs": [],
   "source": [
    "# create and run two test cases for the compute_square_for function\n",
    "def test_compute_square_for_loop_positive():\n",
    "    value = 3\n",
    "    square_value = compute_square_for(value)\n",
    "    assert square_value == 9\n",
    "\n",
    "def test_compute_square_for_loop_negative():\n",
    "    value = -3\n",
    "    square_value = compute_square_for(value)\n",
    "    assert square_value == 9\n",
    "    \n",
    "test_compute_square_for_loop_positive()\n",
    "test_compute_square_for_loop_negative()"
   ]
  },
  {
   "cell_type": "code",
   "execution_count": null,
   "metadata": {},
   "outputs": [],
   "source": [
    "# define a function that uses a while loop to compute the square of a number\n",
    "# note that there is a defect inside of this implementation of compute_square_while\n",
    "def compute_square_while(value: int) -> int:\n",
    "    num_iterations = 0\n",
    "    answer = 0\n",
    "    while num_iterations < abs(value-1):\n",
    "        answer = answer + abs(value)\n",
    "        num_iterations = num_iterations + 1\n",
    "    return answer"
   ]
  },
  {
   "cell_type": "code",
   "execution_count": null,
   "metadata": {},
   "outputs": [],
   "source": [
    "# create and run two test cases for the compute_square_while function\n",
    "def test_compute_square_while_loop_positive():\n",
    "    value = 3\n",
    "    square_value = compute_square_while(value)\n",
    "    assert square_value == 9\n",
    "\n",
    "def test_compute_square_while_loop_negative():\n",
    "    value = -3\n",
    "    square_value = compute_square_while(value)\n",
    "    assert square_value == 9\n",
    "\n",
    "test_compute_square_while_loop_positive()\n",
    "test_compute_square_while_loop_negative()"
   ]
  },
  {
   "cell_type": "code",
   "execution_count": null,
   "metadata": {},
   "outputs": [],
   "source": [
    "# Questions:\n",
    "# 1) What was the defect in the square root computation that uses a while loop?\n",
    "# 2) What was the defect in the square root computation that uses a for loop?\n",
    "# 3) What exactly happens when a test case \"fails\" when run inside of a Jupyter notebook? What is a \"traceback\"?\n",
    "# 4) How is testing in this fashion different than running a test suite with Pytest?\n",
    "# 5) How do you know that the test cases \"passes\" when run inside of a Jupyter notebook?\n",
    "# 6) What are the strengths associated with running test cases in either Jupyter or with Pytest?\n",
    "# 7) What are the limitations associated with running test cases in either Jupyter or with Pytest?"
   ]
  },
  {
   "cell_type": "code",
   "execution_count": null,
   "metadata": {},
   "outputs": [],
   "source": [
    "# Task: add a different type of defect into the above function. Can you find a way to\n",
    "# introduce a defect into a function and then for the test case to not fail when you call the function?"
   ]
  }
 ],
 "metadata": {
  "kernelspec": {
   "display_name": "Python 3 (ipykernel)",
   "language": "python",
   "name": "python3"
  },
  "language_info": {
   "codemirror_mode": {
    "name": "ipython",
    "version": 3
   },
   "file_extension": ".py",
   "mimetype": "text/x-python",
   "name": "python",
   "nbconvert_exporter": "python",
   "pygments_lexer": "ipython3",
   "version": "3.10.1"
  },
  "toc-autonumbering": false,
  "toc-showcode": false,
  "toc-showmarkdowntxt": true
 },
 "nbformat": 4,
 "nbformat_minor": 4
}
