{
  "metadata": {
    "kernelspec": {
      "name": "python",
      "display_name": "Pyolite",
      "language": "python"
    },
    "language_info": {
      "codemirror_mode": {
        "name": "python",
        "version": 3
      },
      "file_extension": ".py",
      "mimetype": "text/x-python",
      "name": "python",
      "nbconvert_exporter": "python",
      "pygments_lexer": "ipython3",
      "version": "3.8"
    },
    "toc-autonumbering": false,
    "toc-showcode": false,
    "toc-showmarkdowntxt": true
  },
  "nbformat_minor": 4,
  "nbformat": 4,
  "cells": [
    {
      "cell_type": "code",
      "source": "# define a function that uses a for loop to compute the square of a number\n# note that there is a defect inside of this implementation of compute_square_for\ndef compute_square_for(value: int) -> int:\n    answer = 0\n    for _ in range(abs(value+1)):\n        answer = answer + abs(value)\n    return answer",
      "metadata": {
        "trusted": true
      },
      "execution_count": null,
      "outputs": []
    },
    {
      "cell_type": "code",
      "source": "# create and run two test cases for the compute_square_for function\ndef test_compute_square_for_loop_positive():\n    value = 3\n    square_value = compute_square_for(value)\n    assert square_value == 9\n\ndef test_compute_square_for_loop_negative():\n    value = -3\n    square_value = compute_square_for(value)\n    assert square_value == 9\n    \ntest_compute_square_for_loop_positive()\ntest_compute_square_for_loop_negative()",
      "metadata": {
        "trusted": true
      },
      "execution_count": null,
      "outputs": []
    },
    {
      "cell_type": "code",
      "source": "# define a function that uses a while loop to compute the square of a number\n# note that there is a defect inside of this implementation of compute_square_while\ndef compute_square_while(value: int) -> int:\n    num_iterations = 0\n    answer = 0\n    while num_iterations < abs(value-1):\n        answer = answer + abs(value)\n        num_iterations = num_iterations + 1\n    return answer",
      "metadata": {
        "trusted": true
      },
      "execution_count": null,
      "outputs": []
    },
    {
      "cell_type": "code",
      "source": "# create and run two test cases for the compute_square_while function\ndef test_compute_square_while_loop_positive():\n    value = 3\n    square_value = compute_square_while(value)\n    assert square_value == 9\n\ndef test_compute_square_while_loop_negative():\n    value = -3\n    square_value = compute_square_while(value)\n    assert square_value == 9\n\ntest_compute_square_while_loop_positive()\ntest_compute_square_while_loop_negative()",
      "metadata": {
        "trusted": true
      },
      "execution_count": null,
      "outputs": []
    },
    {
      "cell_type": "code",
      "source": "# Questions:\n# 1) What was the defect in the square root computation that uses a while loop?\n# 2) What was the defect in the square root computation that uses a for loop?\n# 3) What exactly happens when a test case \"fails\" when run inside of a Jupyter notebook?\n# 4) How is testing in this fashion different than running a test suite with Pytest?\n# 5) How do you know that the test cases \"passes\" when run inside of a Jupyter notebook?\n# 6) What are the strengths associated with running test cases in either Jupyter or with Pytest?\n# 7) What are the limitations associated with running test cases in either Jupyter or with Pytest?",
      "metadata": {
        "trusted": true
      },
      "execution_count": null,
      "outputs": []
    },
    {
      "cell_type": "code",
      "source": "# Task: add a different type of defect into the above function. Can you find a way to\n# introduce a defect into a function and then for the test case to not fail when you call the function?",
      "metadata": {},
      "execution_count": null,
      "outputs": []
    }
  ]
}