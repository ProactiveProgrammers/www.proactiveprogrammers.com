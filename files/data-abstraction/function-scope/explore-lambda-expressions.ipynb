{
  "metadata": {
    "kernelspec": {
      "name": "python",
      "display_name": "Pyolite",
      "language": "python"
    },
    "language_info": {
      "codemirror_mode": {
        "name": "python",
        "version": 3
      },
      "file_extension": ".py",
      "mimetype": "text/x-python",
      "name": "python",
      "nbconvert_exporter": "python",
      "pygments_lexer": "ipython3",
      "version": "3.8"
    },
    "toc-autonumbering": false,
    "toc-showcode": false,
    "toc-showmarkdowntxt": true
  },
  "nbformat_minor": 4,
  "nbformat": 4,
  "cells": [
    {
      "cell_type": "code",
      "source": "from typing import Callable\n\n# define the call_twice higher-order function\ndef call_twice(f: Callable[[int], int], number: int) -> int:\n    print(f\"Calling twice {f} with number {number}\")\n    return f(f(number))",
      "metadata": {
        "trusted": true
      },
      "execution_count": 3,
      "outputs": []
    },
    {
      "cell_type": "code",
      "source": "# define a lambda expression that can\nsquare = lambda x: x*x\nnumber = 5\nresult = call_twice(square, number)\nprint(\"Calling square lambda twice \" +\n      \"with \" +\n      str(number) +\n      \" is \" +\n      str(result))",
      "metadata": {
        "trusted": true
      },
      "execution_count": null,
      "outputs": []
    },
    {
      "cell_type": "code",
      "source": "# Questions:\n# 1) What is the input of the above source code segments?\n# 2) What is the ouptut of the above source code segments?\n# 3) What are the benefits of using a lambda expression?\n# 4) Why was the call_twice function re-defined in this notebook?\n# 5) What is the meaning of the notation <function <lambda> at [...]>?",
      "metadata": {
        "trusted": true
      },
      "execution_count": 6,
      "outputs": []
    },
    {
      "cell_type": "code",
      "source": "# Task: call the call_twice lambda higher-order function with\n# a different lambda expression and confirm that it works correctly.\n# For instance, you could make a cube lambda expression and pass\n# that as an input to the call_twice function.",
      "metadata": {
        "trusted": true
      },
      "execution_count": 7,
      "outputs": []
    },
    {
      "cell_type": "code",
      "source": "# Task: Wait, is the type annotation to call_twice correct when\n# the input is expected to be a lambda expression? Well, not really!\n#\n# Reference:\n# https://stackoverflow.com/questions/33833881/is-it-possible-to-type-hint-a-lambda-function\n#\n# Fun note: the CREATOR of the Python language weighs in with a response to this question!",
      "metadata": {
        "trusted": true
      },
      "execution_count": 8,
      "outputs": []
    }
  ]
}