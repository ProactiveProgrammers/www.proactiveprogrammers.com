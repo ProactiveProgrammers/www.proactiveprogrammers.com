{
 "cells": [
  {
   "cell_type": "code",
   "execution_count": 1,
   "metadata": {},
   "outputs": [],
   "source": [
    "# Explore Use of Lambda Expressions that are Like Succinct Functions"
   ]
  },
  {
   "cell_type": "code",
   "execution_count": 1,
   "metadata": {},
   "outputs": [],
   "source": [
    "# Technical Topics:\n",
    "\n",
    "# Type annotations for functions\n",
    "# Functions that accept variables as arguments\n",
    "# Functions that accepts functions as arguments\n",
    "# Calling a function and displaying its output\n",
    "# Defining and using lambda expressions"
   ]
  },
  {
   "cell_type": "code",
   "execution_count": 2,
   "metadata": {},
   "outputs": [],
   "source": [
    "from typing import Callable\n",
    "\n",
    "# define the call_twice higher-order function\n",
    "def call_twice(f: Callable[[int], int], number: int) -> int:\n",
    "    print(f\"Calling twice {f} with number {number}\")\n",
    "    return f(f(number))"
   ]
  },
  {
   "cell_type": "code",
   "execution_count": 3,
   "metadata": {},
   "outputs": [
    {
     "name": "stdout",
     "output_type": "stream",
     "text": [
      "<function <lambda> at 0x7f4e471f4820>\n",
      "Calling twice <function <lambda> at 0x7f4e471f4820> with number 5\n",
      "Calling square lambda twice with 5 is 625\n"
     ]
    }
   ],
   "source": [
    "# define a lambda expression that can\n",
    "square = lambda x: x*x\n",
    "print(square)\n",
    "number = 5\n",
    "result = call_twice(square, number)\n",
    "print(\"Calling square lambda twice \" +\n",
    "      \"with \" +\n",
    "      str(number) +\n",
    "      \" is \" +\n",
    "      str(result))"
   ]
  },
  {
   "cell_type": "code",
   "execution_count": 6,
   "metadata": {},
   "outputs": [],
   "source": [
    "# Summary Questions:\n",
    "# 1) What is the input of the above source code segments?\n",
    "# 2) What is the ouptut of the above source code segments?\n",
    "# 3) What are the benefits of using a lambda expression?\n",
    "# 4) Why was the call_twice function re-defined in this notebook?\n",
    "# 5) What is the meaning of the notation <function <lambda> at [...]>?"
   ]
  },
  {
   "cell_type": "code",
   "execution_count": 6,
   "metadata": {},
   "outputs": [],
   "source": []
  },
  {
   "cell_type": "code",
   "execution_count": 7,
   "metadata": {},
   "outputs": [],
   "source": [
    "# Technical Task: call the call_twice lambda higher-order function with\n",
    "# a different lambda expression and confirm that it works correctly.\n",
    "# For instance, you could make a cube lambda expression and pass\n",
    "# that as an input to the call_twice function."
   ]
  },
  {
   "cell_type": "code",
   "execution_count": 7,
   "metadata": {},
   "outputs": [],
   "source": []
  },
  {
   "cell_type": "code",
   "execution_count": 8,
   "metadata": {},
   "outputs": [],
   "source": [
    "# Fun Task: Wait, is the type annotation to call_twice correct when\n",
    "# the input is expected to be a lambda expression? Well, not really!\n",
    "#\n",
    "# Reference:\n",
    "# https://stackoverflow.com/questions/33833881/is-it-possible-to-type-hint-a-lambda-function\n",
    "#\n",
    "# Fun note: the CREATOR of the Python language weighs in with a response to this question!"
   ]
  }
 ],
 "metadata": {
  "kernelspec": {
   "display_name": "Python 3 (ipykernel)",
   "language": "python",
   "name": "python3"
  },
  "language_info": {
   "codemirror_mode": {
    "name": "ipython",
    "version": 3
   },
   "file_extension": ".py",
   "mimetype": "text/x-python",
   "name": "python",
   "nbconvert_exporter": "python",
   "pygments_lexer": "ipython3",
   "version": "3.10.1"
  },
  "toc-autonumbering": false,
  "toc-showcode": false,
  "toc-showmarkdowntxt": true
 },
 "nbformat": 4,
 "nbformat_minor": 4
}
