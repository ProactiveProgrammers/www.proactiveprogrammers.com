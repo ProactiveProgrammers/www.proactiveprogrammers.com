{
  "metadata": {
    "kernelspec": {
      "name": "python",
      "display_name": "Pyolite",
      "language": "python"
    },
    "language_info": {
      "codemirror_mode": {
        "name": "python",
        "version": 3
      },
      "file_extension": ".py",
      "mimetype": "text/x-python",
      "name": "python",
      "nbconvert_exporter": "python",
      "pygments_lexer": "ipython3",
      "version": "3.8"
    },
    "toc-autonumbering": false,
    "toc-showcode": false,
    "toc-showmarkdowntxt": true
  },
  "nbformat_minor": 4,
  "nbformat": 4,
  "cells": [
    {
      "cell_type": "code",
      "source": "# Absolute value mathematical function\n#\n# define a function that computes the absolute\n# value of a number using conditional logic\ndef abs(n: int) -> int:\n    if n >= 0:\n        return n\n    return -n",
      "metadata": {
        "trusted": true
      },
      "execution_count": null,
      "outputs": []
    },
    {
      "cell_type": "code",
      "source": "# call the abs function with different values and display the output\nabs_positive_input = abs(100)\nabs_negative_input = abs(-100)\nabs_zero_input = abs(0)\nprint(f\"The absolute value of a positive number is {abs_positive_input}\")\nprint(f\"The absolute value of a negative number is {abs_negative_input}\")\nprint(f\"The absolute value of zero is {abs_zero_input}\")",
      "metadata": {
        "trusted": true
      },
      "execution_count": null,
      "outputs": []
    },
    {
      "cell_type": "code",
      "source": "# Questions:\n# 1) What is the input of the above source code segments?\n# 2) What is the ouptut of the above source code segments?\n# 3) How is this source code different than the code in the slides?\n# 4) Which approach (e.g., with or without type annotations) do you prefer and why?\n# 5) How would you test this function to ensure it works correctly?",
      "metadata": {
        "trusted": true
      },
      "execution_count": null,
      "outputs": []
    },
    {
      "cell_type": "code",
      "source": "# Square root mathematical function\n#\n# define a function that computes the\n# square root of a number using an iteration construct\ndef sqrt(num: int, tol: float) -> float:\n    guess = 1.0\n    while abs(num - guess*guess) > tol:\n        guess = guess - (guess*guess - num)/(2*guess)\n    return guess",
      "metadata": {
        "trusted": true
      },
      "execution_count": null,
      "outputs": []
    },
    {
      "cell_type": "code",
      "source": "# call the square root function with a different input\nnumber = 5\ntolerance = 0.0001\nsquare_root_number = sqrt(number, tolerance)\nprint(f\"🙂 The square root of {number} is {square_root_number}\")",
      "metadata": {
        "trusted": true
      },
      "execution_count": null,
      "outputs": []
    },
    {
      "cell_type": "code",
      "source": "# call the square root function with a different input\nnumber = 4\ntolerance = 0.0001\nsquare_root_number = sqrt(number, tolerance)\nprint(f\"🙂 The square root of {number} is {square_root_number}\")",
      "metadata": {
        "trusted": true
      },
      "execution_count": null,
      "outputs": []
    },
    {
      "cell_type": "code",
      "source": "# Questions:\n# 1) What is the input of the above source code segments?\n# 2) What is the ouptut of the above source code segments?\n# 3) What are the functions formal and actual parameters?\n# 4) Why do the formal and actual parameters not have to have the same name?\n# 5) How would you test this function to ensure it works correctly?",
      "metadata": {
        "trusted": true
      },
      "execution_count": null,
      "outputs": []
    },
    {
      "cell_type": "code",
      "source": "# Recursive factorial function\n#\n# define a function that computes a factorial number\n# Reference: https://www.mathsisfun.com/numbers/factorial.html\ndef factorial(number: int) -> int:\n    if number == 1:\n        return 1\n    return number * factorial(number - 1)",
      "metadata": {
        "trusted": true
      },
      "execution_count": null,
      "outputs": []
    },
    {
      "cell_type": "code",
      "source": "# call the factorial function with a different input\nfactorial_input = 4\nfactorial_number = factorial(factorial_input)\nprint(f\"✨ {factorial_input}! is {factorial_number}\")",
      "metadata": {
        "trusted": true
      },
      "execution_count": null,
      "outputs": []
    },
    {
      "cell_type": "code",
      "source": "# call the factorial function with a different input\nfactorial_input = 5\nfactorial_number = factorial(factorial_input)\nprint(f\"✨ {factorial_input}! is {factorial_number}\")",
      "metadata": {
        "trusted": true
      },
      "execution_count": null,
      "outputs": []
    },
    {
      "cell_type": "code",
      "source": "# Questions:\n# 1) What is the input of the above source code segments?\n# 2) What is the ouptut of the above source code segments?\n# 3) What is the recursive case of the factorial function?\n# 4) What is the base case of the factorial function?\n# 5) Can you \"trace\" the execution of the recursive factorial function?",
      "metadata": {
        "trusted": true
      },
      "execution_count": null,
      "outputs": []
    },
    {
      "cell_type": "code",
      "source": "# Task: Call all of these functions with your own inputs and confirm\n# that they work correctly. Also, could you write these functions on your own?",
      "metadata": {
        "trusted": true
      },
      "execution_count": null,
      "outputs": []
    }
  ]
}