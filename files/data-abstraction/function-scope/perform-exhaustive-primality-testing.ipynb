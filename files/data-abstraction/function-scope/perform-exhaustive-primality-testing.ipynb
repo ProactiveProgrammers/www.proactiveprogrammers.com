{
  "metadata": {
    "kernelspec": {
      "name": "python",
      "display_name": "Pyolite",
      "language": "python"
    },
    "language_info": {
      "codemirror_mode": {
        "name": "python",
        "version": 3
      },
      "file_extension": ".py",
      "mimetype": "text/x-python",
      "name": "python",
      "nbconvert_exporter": "python",
      "pygments_lexer": "ipython3",
      "version": "3.8"
    },
    "toc-autonumbering": false,
    "toc-showcode": false,
    "toc-showmarkdowntxt": true
  },
  "nbformat_minor": 4,
  "nbformat": 4,
  "cells": [
    {
      "cell_type": "code",
      "source": "from typing import List\nfrom typing import Tuple\n\n# Implement an exhaustive primality testing algorithm\n# that can compute and return the divisor and an indicator\ndef primality_test_exhaustive(x: int) -> Tuple[bool, List[int]]:\n    smallest_divisor = None\n    for guess in range(2, x):\n        if x % guess == 0:\n            smallest_divisor = guess\n            break\n    if smallest_divisor is not None:\n        return (False, [smallest_divisor])\n    else:\n        return (True, [1, x])",
      "metadata": {
        "trusted": true
      },
      "execution_count": null,
      "outputs": []
    },
    {
      "cell_type": "code",
      "source": "# call the primality_test_exhaustive function with a different value and display the output\n(found, divisors) = primality_test_exhaustive(5)\nprint(f\"Was this number found to be a prime number? {found}\")\nprint(f\"What were the divisor(s) of this number? {divisors}\")",
      "metadata": {
        "trusted": true
      },
      "execution_count": null,
      "outputs": []
    },
    {
      "cell_type": "code",
      "source": "# call the primality_test_exhaustive function with a different value and display the output\n(found, divisors) = primality_test_exhaustive(29)\nprint(f\"Was this number found to be a prime number? {found}\")\nprint(f\"What were the divisor(s) of this number? {divisors}\")",
      "metadata": {
        "trusted": true
      },
      "execution_count": null,
      "outputs": []
    },
    {
      "cell_type": "code",
      "source": "# call the primality_test_exhaustive function with a different value and display the output\n(found, divisors) = primality_test_exhaustive(164)\nprint(f\"Was this number found to be a prime number? {found}\")\nprint(f\"What were the divisor(s) of this number? {divisors}\")",
      "metadata": {
        "trusted": true
      },
      "execution_count": null,
      "outputs": []
    },
    {
      "cell_type": "code",
      "source": "# Questions:\n# 1) What is the input of the above source code segments?\n# 2) What is the ouptut of the above source code segments?\n# 3) What is the maximum size of the list called divisors?\n# 4) How could you revise the function so that it returned all divisors?\n# 5) How would you test this function to ensure it works correctly?\n# 6) What would happen if the function did not have the import statements?\n# 7) What is the purpose of the % operating insided of the function?",
      "metadata": {
        "trusted": true
      },
      "execution_count": null,
      "outputs": []
    },
    {
      "cell_type": "code",
      "source": "# Task: Call this function with your own inputs and confirm that it is working correctly!",
      "metadata": {
        "trusted": true
      },
      "execution_count": null,
      "outputs": []
    }
  ]
}