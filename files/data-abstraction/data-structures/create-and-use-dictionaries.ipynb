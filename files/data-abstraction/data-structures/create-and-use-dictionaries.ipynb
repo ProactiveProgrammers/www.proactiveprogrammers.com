{
  "metadata": {
    "kernelspec": {
      "name": "python",
      "display_name": "Pyolite",
      "language": "python"
    },
    "language_info": {
      "codemirror_mode": {
        "name": "python",
        "version": 3
      },
      "file_extension": ".py",
      "mimetype": "text/x-python",
      "name": "python",
      "nbconvert_exporter": "python",
      "pygments_lexer": "ipython3",
      "version": "3.8"
    },
    "toc-autonumbering": false,
    "toc-showcode": false,
    "toc-showmarkdowntxt": true
  },
  "nbformat_minor": 4,
  "nbformat": 4,
  "cells": [
    {
      "cell_type": "code",
      "source": "# Explore and understand how to create mappings from\n# an input to an output through the use of a dictionary",
      "metadata": {
        "trusted": true
      },
      "execution_count": null,
      "outputs": []
    },
    {
      "cell_type": "code",
      "source": "# create a dictionary\nmlb_team_one = {\n    'Colorado' : 'Rockies',\n    'Boston'   : 'Red Sox',\n    'Minnesota': 'Twins',\n    'Milwaukee': 'Brewers'\n}",
      "metadata": {
        "trusted": true
      },
      "execution_count": null,
      "outputs": []
    },
    {
      "cell_type": "code",
      "source": "# create a dictionary\nmlb_team_two = dict([\n    ('Colorado', 'Rockies'),\n    ('Boston', 'Red Sox'),\n    ('Minnesota', 'Twins'),\n    ('Milwaukee', 'Brewers')\n])",
      "metadata": {
        "trusted": true
      },
      "execution_count": null,
      "outputs": []
    },
    {
      "cell_type": "code",
      "source": "# create a dictionary\nmlb_team_three = dict(\n    Colorado='Rockies',\n    Boston='Red Sox',\n    Minnesota='Twins',\n    Milwaukee='Brewers',\n    Seattle='Mariners'\n)",
      "metadata": {
        "trusted": true
      },
      "execution_count": null,
      "outputs": []
    },
    {
      "cell_type": "code",
      "source": "# display and manipulate the contents of a dictionary\n\n# display the address\nprint(type(mlb_team_one))\n\n# display the contents\nprint(mlb_team_one)\n\n# lookup specific values using a key\nprint(mlb_team_one['Minnesota'])\nprint(mlb_team_one['Colorado'])\n\n# add a new value to the dictionary\nmlb_team_one['Kansas City'] = 'Royals'\n\n# lookup the new value inside of the dictionary\nprint(mlb_team_one['Kansas City'])",
      "metadata": {
        "trusted": true
      },
      "execution_count": null,
      "outputs": []
    },
    {
      "cell_type": "code",
      "source": "# Task:\n# Implement all of the source code in the previous cell for the two other dictionaries called:\n# --> mlb_team_two\n# --> mlb_team_three",
      "metadata": {
        "trusted": true
      },
      "execution_count": null,
      "outputs": []
    },
    {
      "cell_type": "code",
      "source": "# Questions:\n# 1) What are the similarities and differences between functions and dictionaries?\n# 2) Does a function implement a mapping through a computation or storage?\n# 3) Does a dictionary implement a mapping through a computation or storage?\n# 4) What are the similarities and differences in the ways to create a dictionary?\n# 5) Do all approaches to creating a dictionary lead to the same mapping?",
      "metadata": {
        "trusted": true
      },
      "execution_count": null,
      "outputs": []
    },
    {
      "cell_type": "code",
      "source": "# Question: why does one approach work for creating a set\n# out of a list when the other approach causes a TypeError?",
      "metadata": {
        "trusted": true
      },
      "execution_count": null,
      "outputs": []
    },
    {
      "cell_type": "code",
      "source": "# attempt to access a key that does not exist in a dictionary\nprint(mlb_team_one['Toronto'])",
      "metadata": {
        "trusted": true
      },
      "execution_count": null,
      "outputs": []
    },
    {
      "cell_type": "code",
      "source": "# create a set where the numbers are both divisible by 2 and by 4\neven_positives_by_four = {n for n in range(20) if n % 2 == 0 and n % 4 == 0}\n\nfor value in even_positives_by_four:\n    print(value)\n\nprint(even_positives_by_four)",
      "metadata": {
        "trusted": true
      },
      "execution_count": null,
      "outputs": []
    },
    {
      "cell_type": "code",
      "source": "# create a dictionary that maps\n# a tuple to a character\nd = {(1, 1): 'a', (1, 2): 'b',\n     (2, 1): 'c', (2, 2): 'd'}\n\n# lookup a specific value based on a key\nprint(d[(1,1)])\n\n# lookup a different value vased on a key\nprint(d[(2,1)])",
      "metadata": {
        "trusted": true
      },
      "execution_count": null,
      "outputs": []
    },
    {
      "cell_type": "code",
      "source": "# attempt to create a dictionary that maps\n# a list to a character\nd = {[1, 1]: 'a', [1, 2]: 'b',\n     [2, 1]: 'c', [2, 2]: 'd'}",
      "metadata": {
        "trusted": true
      },
      "execution_count": null,
      "outputs": []
    },
    {
      "cell_type": "code",
      "source": "# Questions:\n# 1) Why is it possible to create a dictionary that uses a tuple as a key?\n# 2) Why is it not possible to create a dictionary that uses a list as a key?\n# 3) How do you decide between using a function and a dictionary?",
      "metadata": {
        "trusted": true
      },
      "execution_count": null,
      "outputs": []
    },
    {
      "cell_type": "code",
      "source": "import functools\n@functools.lru_cache(maxsize=128)\ndef fibonacci(n):\n    if n == 0:\n        return 0\n    elif n == 1:\n        return 1\n    return fibonacci(n - 1) + fibonacci(n - 2)",
      "metadata": {
        "trusted": true
      },
      "execution_count": null,
      "outputs": []
    },
    {
      "cell_type": "code",
      "source": "# call the fibonacci function multiple times\nprint(f\"fibonnacci(1) = {fibonacci(1)}\")\nprint(f\"fibonnacci(2) = {fibonacci(2)}\")\nprint(f\"fibonnacci(3) = {fibonacci(3)}\")\nprint(f\"fibonnacci(4) = {fibonacci(4)}\")\nprint(f\"fibonnacci(5) = {fibonacci(5)}\")\nprint(f\"fibonnacci(6) = {fibonacci(6)}\")\nprint(f\"fibonnacci(7) = {fibonacci(7)}\")",
      "metadata": {
        "trusted": true
      },
      "execution_count": null,
      "outputs": []
    },
    {
      "cell_type": "code",
      "source": "# Question: what are the trade-offs associated with using\n# memoization in the form of an LRU cache?",
      "metadata": {
        "trusted": true
      },
      "execution_count": null,
      "outputs": []
    }
  ]
}