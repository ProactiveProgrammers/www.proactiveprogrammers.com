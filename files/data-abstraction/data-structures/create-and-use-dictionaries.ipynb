{
 "cells": [
  {
   "cell_type": "code",
   "execution_count": null,
   "metadata": {},
   "outputs": [],
   "source": [
    "# Technical Topic: Explore and understand how to create mappings from\n",
    "# an input to an output through the use of a dictionary"
   ]
  },
  {
   "cell_type": "code",
   "execution_count": null,
   "metadata": {},
   "outputs": [],
   "source": [
    "# create a dictionary\n",
    "mlb_team_one = {\n",
    "    'Colorado' : 'Rockies',\n",
    "    'Boston'   : 'Red Sox',\n",
    "    'Minnesota': 'Twins',\n",
    "    'Milwaukee': 'Brewers'\n",
    "}"
   ]
  },
  {
   "cell_type": "code",
   "execution_count": null,
   "metadata": {},
   "outputs": [],
   "source": [
    "# create a dictionary\n",
    "mlb_team_two = dict([\n",
    "    ('Colorado', 'Rockies'),\n",
    "    ('Boston', 'Red Sox'),\n",
    "    ('Minnesota', 'Twins'),\n",
    "    ('Milwaukee', 'Brewers')\n",
    "])"
   ]
  },
  {
   "cell_type": "code",
   "execution_count": null,
   "metadata": {},
   "outputs": [],
   "source": [
    "# create a dictionary\n",
    "mlb_team_three = dict(\n",
    "    Colorado='Rockies',\n",
    "    Boston='Red Sox',\n",
    "    Minnesota='Twins',\n",
    "    Milwaukee='Brewers',\n",
    "    Seattle='Mariners'\n",
    ")"
   ]
  },
  {
   "cell_type": "code",
   "execution_count": null,
   "metadata": {},
   "outputs": [],
   "source": [
    "# display and manipulate the contents of a dictionary\n",
    "\n",
    "# display the address\n",
    "print(type(mlb_team_one))\n",
    "\n",
    "# display the contents\n",
    "print(mlb_team_one)\n",
    "\n",
    "# lookup specific values using a key\n",
    "print(mlb_team_one['Minnesota'])\n",
    "print(mlb_team_one['Colorado'])\n",
    "\n",
    "# add a new value to the dictionary\n",
    "mlb_team_one['Kansas City'] = 'Royals'\n",
    "\n",
    "# lookup the new value inside of the dictionary\n",
    "print(mlb_team_one['Kansas City'])"
   ]
  },
  {
   "cell_type": "code",
   "execution_count": null,
   "metadata": {},
   "outputs": [],
   "source": [
    "# attempt to access a key that does not exist in a dictionary\n",
    "print(mlb_team_one['Toronto'])"
   ]
  },
  {
   "cell_type": "code",
   "execution_count": null,
   "metadata": {},
   "outputs": [],
   "source": [
    "# Summary Questions:\n",
    "\n",
    "# 1) What are the similarities and differences in the ways to create a dictionary?\n",
    "# 2) Do all approaches to creating a dictionary lead to a dictionary with the same state?\n",
    "# 3) How does the Python programming language create and store the (key, value) pairs?\n",
    "# 4) How does the Python programming language lookup a value based on a specific key?"
   ]
  },
  {
   "cell_type": "code",
   "execution_count": null,
   "metadata": {},
   "outputs": [],
   "source": [
    "# create a new data structure called the Int_Dictionary to illustrate the concept of hashing\n",
    "# note that this structure only needs to compress the integer values and does not need\n",
    "# to convert arbitrary objects to numerical values; this is due to the fact that it handles int keys only\n",
    "\n",
    "# Reference: Figure 12.7 in Introduction to Copmutation and Programming Using Python\n",
    "from typing import Union\n",
    "\n",
    "class Int_Dictionary(object):\n",
    "    \"\"\"Define a dictionary that only has integer keys, suitable for demonstration purposes.\"\"\"\n",
    "    \n",
    "    def __init__(self, num_buckets: int) -> None:\n",
    "        \"\"\"Construct an empty dictionary that uses a backing list called buckets.\"\"\"\n",
    "        #create an empty bucket list\n",
    "        self.buckets = []\n",
    "        # create a tracker for the number of buckets\n",
    "        self.num_buckets = num_buckets\n",
    "        # create an empty list at each location in the bucket list\n",
    "        for i in range(num_buckets):\n",
    "            self.buckets.append([])\n",
    "            \n",
    "    def add_entry(self, key: int, value: int) -> None:\n",
    "        \"\"\"Add an entry to the dictionary given the provided key and value.\"\"\"\n",
    "        hash_bucket = self.buckets[key % self.num_buckets]\n",
    "        for i in range(len(hash_bucket)):\n",
    "            if hash_bucket[i][0] == key:\n",
    "                hash_bucket[i] = (key, value)\n",
    "                return\n",
    "        hash_bucket.append((key, value))\n",
    "        \n",
    "    def get_value(self, key: int) -> Union[int, None]:\n",
    "        \"\"\"Return the value associated with the key.\"\"\"\n",
    "        # extract the bucket list associated with this specific key\n",
    "        hash_bucket = self.buckets[key % self.num_buckets]\n",
    "        # iterate through all of the elements in the bucket list,\n",
    "        # looking for a specific element that has a matching key\n",
    "        for element in hash_bucket:\n",
    "            # found a matching key, so go ahead and return it\n",
    "            if element[0] == key:\n",
    "                return element[1]\n",
    "        # no matching key was found, so return None to indicate\n",
    "        # that the search failed when looking for the specific key\n",
    "        return None\n",
    "    \n",
    "    def __str__(self) -> str:\n",
    "        \"\"\"Define a textual representation for the dictionary.\"\"\"\n",
    "        result = \"{\"\n",
    "        for bucket in self.buckets:\n",
    "            for element in bucket:\n",
    "                result += f\"({element[0]}, {element[1]}), \"\n",
    "        return result[:-2] + \"}\""
   ]
  },
  {
   "cell_type": "code",
   "execution_count": null,
   "metadata": {},
   "outputs": [],
   "source": [
    "# demonstrate the use of the Int_Dictionary\n",
    "import random\n",
    "integer_dictionary = Int_Dictionary(17)\n",
    "for i in range(20):\n",
    "    key = random.choice(range(10**5))\n",
    "    integer_dictionary.add_entry(key, i)\n",
    "print(\"Contents of the Int_Dictionary:\")\n",
    "print(integer_dictionary)"
   ]
  },
  {
   "cell_type": "code",
   "execution_count": null,
   "metadata": {},
   "outputs": [],
   "source": [
    "# reveal the contents inside of the buckets\n",
    "# note that this breaks the abstraction barrier and reveals the internal contents of the dictionary\n",
    "print(\"The contents of the buckets are as follows:\")\n",
    "for hash_bucket in integer_dictionary.buckets:\n",
    "    print(f\"   {hash_bucket}\")"
   ]
  },
  {
   "cell_type": "code",
   "execution_count": 1,
   "metadata": {},
   "outputs": [],
   "source": [
    "# Summary Question: how do you know when a collision has taken place when adding data to the Int_Dictionary?\n",
    "\n",
    "# Task: run this program many times and keep track of how many collisions occur when performing hashing\n",
    "# Task: can you come up with a situation in which the Int_Dictionary never has a collision?\n",
    "\n",
    "# Concluding Question: what are the trade-offs associated with the time efficiency and space overhead of a dictionary?"
   ]
  }
 ],
 "metadata": {
  "kernelspec": {
   "display_name": "Python 3 (ipykernel)",
   "language": "python",
   "name": "python3"
  },
  "language_info": {
   "codemirror_mode": {
    "name": "ipython",
    "version": 3
   },
   "file_extension": ".py",
   "mimetype": "text/x-python",
   "name": "python",
   "nbconvert_exporter": "python",
   "pygments_lexer": "ipython3",
   "version": "3.11.2"
  },
  "toc-autonumbering": false,
  "toc-showcode": false,
  "toc-showmarkdowntxt": true
 },
 "nbformat": 4,
 "nbformat_minor": 4
}
