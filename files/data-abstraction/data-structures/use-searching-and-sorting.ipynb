{
  "metadata": {
    "kernelspec": {
      "name": "python",
      "display_name": "Pyolite",
      "language": "python"
    },
    "language_info": {
      "codemirror_mode": {
        "name": "python",
        "version": 3
      },
      "file_extension": ".py",
      "mimetype": "text/x-python",
      "name": "python",
      "nbconvert_exporter": "python",
      "pygments_lexer": "ipython3",
      "version": "3.8"
    },
    "toc-autonumbering": false,
    "toc-showcode": false,
    "toc-showmarkdowntxt": true
  },
  "nbformat_minor": 4,
  "nbformat": 4,
  "cells": [
    {
      "cell_type": "code",
      "source": "# Perform timing experiments using the timeit package\n\n# NOTE: these experiments are not rigorous doubling\n# experiments but rather small-scale experiments that\n# illustrate how the timing package works in Python\n\n# Refer to the documentation of timeit for more details:\n# https://docs.python.org/3/library/timeit.html",
      "metadata": {
        "trusted": true
      },
      "execution_count": null,
      "outputs": []
    },
    {
      "cell_type": "code",
      "source": "# import the timeit package used to collect\n# performance data about the function's execution\nimport timeit\n\n# define the function to analyze in a string\n# so that it can be passed to the timeit function\ncode_to_time = \"\"\"def factorial(n: int) -> int:\n    answer = 1\n    while n > 1:\n        answer *= n\n        n -= 1\n    return answer\n\nfor i in range(10):\n    factorial(i)\"\"\"\n\n# repeatedly run the timing function and\n# report the performance results; this\n# runs a total of three benchmarking campaigns\n# that will individually run the code a \n# total of 10000 times. It then reports\n# the average execution time for each campaign\nprint (timeit.repeat(stmt = code_to_time,\n                     repeat = 3,\n                     number = 10000))",
      "metadata": {
        "trusted": true
      },
      "execution_count": null,
      "outputs": []
    },
    {
      "cell_type": "code",
      "source": "# Questions:\n# 1) If you increase the number in range() does the execution time increase?\n# 2) How would you conduct a timing experiment for add_digits?\n# 3) How would you conduct a timing experiment for is_subset?\n# 4) What is the purpose of the repeat parameter?\n# 5) What is the purpose of the number parameter?",
      "metadata": {
        "trusted": true
      },
      "execution_count": null,
      "outputs": []
    },
    {
      "cell_type": "code",
      "source": "# Tasks: conduct experiments for the add_digits and is_subset functions\n# that are provided in the course slides for the module on Algorithmic Complexity",
      "metadata": {
        "trusted": true
      },
      "execution_count": null,
      "outputs": []
    }
  ]
}