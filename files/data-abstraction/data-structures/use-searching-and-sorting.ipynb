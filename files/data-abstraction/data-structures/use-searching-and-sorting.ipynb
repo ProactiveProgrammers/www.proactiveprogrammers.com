{
 "cells": [
  {
   "cell_type": "code",
   "execution_count": null,
   "metadata": {},
   "outputs": [],
   "source": [
    "# Goal: Explore Searching and Sorting Algorithms in Python\n",
    "\n",
    "# References:\n",
    "# https://realpython.com/binary-search-python/\n",
    "# https://realpython.com/sorting-algorithms-python/\n",
    "# https://stackoverflow.com/questions/19989910/recursion-binary-search-in-python\n",
    "# https://www.geeksforgeeks.org/python-program-for-binary-search/\n",
    "# https://docs.python.org/3/howto/sorting.html"
   ]
  },
  {
   "cell_type": "code",
   "execution_count": 1,
   "metadata": {},
   "outputs": [],
   "source": [
    "# Technical Topics:\n",
    "\n",
    "# Implementing searching and/orsorting algorithms\n",
    "# Using existing searching and/or sorting algorithms\n",
    "# Recognize the trade-offs with different data structures and algorithms\n",
    "# Implement a Python program that correctly places data in ascending order"
   ]
  },
  {
   "cell_type": "code",
   "execution_count": null,
   "metadata": {},
   "outputs": [],
   "source": [
    "# define an iterative linear search function for searching\n",
    "# a list of data values for a specified element\n",
    "from typing import List\n",
    "def linear_search(arr: List[int], x: int) -> int:\n",
    "    for i in range(len(arr)):\n",
    "        if arr[i] == x:\n",
    "          return True\n",
    "    return False"
   ]
  },
  {
   "cell_type": "code",
   "execution_count": null,
   "metadata": {},
   "outputs": [],
   "source": [
    "# Call the linear search algorithm\n",
    "\n",
    "# define the list of values\n",
    "values = [2, 3, 4, 10, 40]\n",
    "element = 10\n",
    " \n",
    "# call the linear search algorithm so that it\n",
    "# searches for the element inside of the values\n",
    "result = linear_search(values, element)\n",
    "print(f\"Was the result found in the list? {result}\")"
   ]
  },
  {
   "cell_type": "code",
   "execution_count": null,
   "metadata": {},
   "outputs": [],
   "source": [
    "# define a iterative binary search function for searching\n",
    "# a list of data values for a specified element\n",
    "from typing import List\n",
    "def binary_search(arr: List[int], x: int) -> int:\n",
    "    # Initialize the starting configuration for the search\n",
    "    low = 0\n",
    "    high = len(arr) - 1\n",
    "    mid = 0\n",
    "    # Iteratively search through the list of values\n",
    "    while low <= high:\n",
    "        mid = (high + low) // 2\n",
    "        # If x is greater, ignore left half\n",
    "        if arr[mid] < x:\n",
    "            low = mid + 1\n",
    "        # If x is smaller, ignore right half\n",
    "        elif arr[mid] > x:\n",
    "            high = mid - 1\n",
    "        # means x is present at mid\n",
    "        else:\n",
    "            return mid\n",
    "    # If we reach here, then the element was not present\n",
    "    return -1"
   ]
  },
  {
   "cell_type": "code",
   "execution_count": null,
   "metadata": {},
   "outputs": [],
   "source": [
    "# Call the binary search algorithm\n",
    "\n",
    "# define the list of values\n",
    "values = [2, 3, 4, 10, 40]\n",
    "element = 10\n",
    " \n",
    "# call the binary search algorithm so that it\n",
    "# searches for the element inside of the values\n",
    "result = binary_search(values, element)\n",
    " \n",
    "if result != -1:\n",
    "    print(\"The element is present at index\", str(result))\n",
    "else:\n",
    "    print(\"The element is not present in in the values\")"
   ]
  },
  {
   "cell_type": "code",
   "execution_count": null,
   "metadata": {},
   "outputs": [],
   "source": [
    "# Summary Questions:\n",
    "\n",
    "# 1) How are these two searching algorithms similar and different from each other?\n",
    "# 2) Which of these searching algorithms is likely to be faster for large inputs? Why?\n",
    "# 3) Which one of these searching algorithms is likely easier to implement and test? Why?\n",
    "# 4) How would you implement a recursive binary search algorithm? How would it be similar to and different from the iterative one?"
   ]
  },
  {
   "cell_type": "code",
   "execution_count": null,
   "metadata": {},
   "outputs": [],
   "source": [
    "# define the bubble sort algorithm for sorting a list of data;\n",
    "# please see the engineering effort on sorting algorithms for\n",
    "# more details about how to run this function in a doubling experiment\n",
    "def bubble_sort(array: List[int]) -> List[int]:\n",
    "    \"\"\"Sort an input list called array using bubble sort.\"\"\"\n",
    "    n = len(array)\n",
    "    for i in range(n):\n",
    "        # Create a flag that will allow the function to\n",
    "        # terminate early if there's nothing left to sort\n",
    "        already_sorted = True\n",
    "        # Start looking at each item of the list one by one,\n",
    "        # comparing it with its adjacent value. With each\n",
    "        # iteration, the portion of the array that you look at\n",
    "        # shrinks because the remaining items have already been\n",
    "        # sorted.\n",
    "        for j in range(n - i - 1):\n",
    "            if array[j] > array[j + 1]:\n",
    "                # If the item you're looking at is greater than its\n",
    "                # adjacent value, then swap them\n",
    "                array[j], array[j + 1] = array[j + 1], array[j]\n",
    "                # Since you had to swap two elements,\n",
    "                # set the `already_sorted` flag to `False` so the\n",
    "                # algorithm doesn't finish prematurely\n",
    "                already_sorted = False\n",
    "        # If there were no swaps during the last iteration,\n",
    "        # the array is already sorted, and you can terminate\n",
    "        if already_sorted:\n",
    "            break\n",
    "    return array"
   ]
  },
  {
   "cell_type": "code",
   "execution_count": null,
   "metadata": {},
   "outputs": [],
   "source": [
    "# demonstrate the use of the bubble_sort algorithm \n",
    "input_list = [56, 3, 5, 9, 0, -10, 5, 77, 9, 101]\n",
    "sorted_list = bubble_sort(input_list)\n",
    "print(f\"Contents of the input list: {input_list}\")\n",
    "print(f\"Contents of the sorted list: {sorted_list}\")"
   ]
  },
  {
   "cell_type": "code",
   "execution_count": null,
   "metadata": {},
   "outputs": [],
   "source": [
    "# define the insertion sort algorithm for sorting a list of data;\n",
    "# please see the engineering effort on sorting algorithms for\n",
    "# more details about how to run this function in a doubling experiment\n",
    "def insertion_sort(array: List[int]) -> List[int]:\n",
    "    \"\"\"Run an insertion sort on the provided array.\"\"\"\n",
    "    # Loop from the second element of the array until\n",
    "    # the last element\n",
    "    for i in range(1, len(array)):\n",
    "        # This is the element we want to position in its\n",
    "        # correct place\n",
    "        key_item = array[i]\n",
    "        # Initialize the variable that will be used to\n",
    "        # find the correct position of the element referenced\n",
    "        # by `key_item`\n",
    "        j = i - 1\n",
    "        # Run through the list of items (the left\n",
    "        # portion of the array) and find the correct position\n",
    "        # of the element referenced by `key_item`. Do this only\n",
    "        # if `key_item` is smaller than its adjacent values.\n",
    "        while j >= 0 and array[j] > key_item:\n",
    "            # Shift the value one position to the left\n",
    "            # and reposition j to point to the next element\n",
    "            # (from right to left)\n",
    "            array[j + 1] = array[j]\n",
    "            j -= 1\n",
    "        # When you finish shifting the elements, you can position\n",
    "        # `key_item` in its correct location\n",
    "        array[j + 1] = key_item\n",
    "    return array"
   ]
  },
  {
   "cell_type": "code",
   "execution_count": null,
   "metadata": {},
   "outputs": [],
   "source": [
    "# demonstrate the use of the insertion_sort algorithm \n",
    "input_list = [56, 3, 5, 9, 0, -10, 5, 77, 9, 101]\n",
    "sorted_list = insertion_sort(input_list)\n",
    "print(f\"Contents of the input list: {input_list}\")\n",
    "print(f\"Contents of the sorted list: {sorted_list}\")"
   ]
  },
  {
   "cell_type": "code",
   "execution_count": null,
   "metadata": {},
   "outputs": [],
   "source": [
    "# define the merge sort algorithm for sorting a list of data;\n",
    "# please see the engineering effort on sorting algorithms for\n",
    "# more details about how to run this function in a doubling experiment"
   ]
  },
  {
   "cell_type": "code",
   "execution_count": null,
   "metadata": {},
   "outputs": [],
   "source": [
    "# define the merge sort algorithm for sorting a list of data;\n",
    "# please see the engineering effort on sorting algorithms for\n",
    "# more details about how to run this function in a doubling experiment\n",
    "from typing import List\n",
    "def merge(left: List[int], right: List[int]) -> List[int]:\n",
    "    \"\"\"Define a convenience method that supports the merging of lists.\"\"\"\n",
    "    # If the first array is empty, then nothing needs\n",
    "    # to be merged, and you can return the second array as the result\n",
    "    if len(left) == 0:\n",
    "        return right\n",
    "    # If the second array is empty, then nothing needs\n",
    "    # to be merged, and you can return the first array as the result\n",
    "    if len(right) == 0:\n",
    "        return left\n",
    "    result = []\n",
    "    index_left = index_right = 0\n",
    "    # Now go through both arrays until all the elements\n",
    "    # make it into the resultant array\n",
    "    while len(result) < len(left) + len(right):\n",
    "        # The elements need to be sorted to add them to the\n",
    "        # resultant array, so you need to decide whether to get\n",
    "        # the next element from the first or the second array\n",
    "        if left[index_left] <= right[index_right]:\n",
    "            result.append(left[index_left])\n",
    "            index_left += 1\n",
    "        else:\n",
    "            result.append(right[index_right])\n",
    "            index_right += 1\n",
    "        # If you reach the end of either array, then you can\n",
    "        # add the remaining elements from the other array to\n",
    "        # the result and break the loop\n",
    "        if index_right == len(right):\n",
    "            result += left[index_left:]\n",
    "            break\n",
    "        if index_left == len(left):\n",
    "            result += right[index_right:]\n",
    "            break\n",
    "    return result\n",
    "\n",
    "def merge_sort(array: List[int]) -> List[int]:\n",
    "    \"\"\"Sort the provided list called array with the merge sort algorithm.\"\"\"\n",
    "    # If the input array contains fewer than two elements,\n",
    "    # then return it as the result of the function\n",
    "    if len(array) < 2:\n",
    "        return array\n",
    "    midpoint = len(array) // 2\n",
    "    # Sort the array by recursively splitting the input\n",
    "    # into two equal halves, sorting each half and merging them\n",
    "    # together into the final result\n",
    "    return merge(left=merge_sort(array[:midpoint]), right=merge_sort(array[midpoint:]))"
   ]
  },
  {
   "cell_type": "code",
   "execution_count": null,
   "metadata": {},
   "outputs": [],
   "source": [
    "# demonstrate the use of the merge_sort algorithm \n",
    "input_list = [56, 3, 5, 9, 0, -10, 5, 77, 9, 101]\n",
    "sorted_list = merge_sort(input_list)\n",
    "print(f\"Contents of the input list: {input_list}\")\n",
    "print(f\"Contents of the sorted list: {sorted_list}\")"
   ]
  },
  {
   "cell_type": "code",
   "execution_count": null,
   "metadata": {},
   "outputs": [],
   "source": [
    "# define the quick sort algorithm for sorting a list of data;\n",
    "# please see the engineering effort on sorting algorithms for\n",
    "# more details about how to run this function in a doubling experiment\n",
    "from random import randint\n",
    "from typing import List\n",
    "def quick_sort(array: List[int]) -> List[int]:\n",
    "    \"\"\"Sort the provided list called array with the quick sort algorithm.\"\"\"\n",
    "    # If the input array contains fewer than two elements,\n",
    "    # then return it as the result of the function\n",
    "    if len(array) < 2:\n",
    "        return array\n",
    "    low, same, high = [], [], []\n",
    "    # Select your `pivot` element randomly\n",
    "    pivot = array[randint(0, len(array) - 1)]\n",
    "    for item in array:\n",
    "        # Elements that are smaller than the `pivot` go to\n",
    "        # the `low` list. Elements that are larger than\n",
    "        # `pivot` go to the `high` list. Elements that are\n",
    "        # equal to `pivot` go to the `same` list.\n",
    "        if item < pivot:\n",
    "            low.append(item)\n",
    "        elif item == pivot:\n",
    "            same.append(item)\n",
    "        elif item > pivot:\n",
    "            high.append(item)\n",
    "    # The final result combines the sorted `low` list\n",
    "    # with the `same` list and the sorted `high` list\n",
    "    return quick_sort(low) + same + quick_sort(high)"
   ]
  },
  {
   "cell_type": "code",
   "execution_count": null,
   "metadata": {},
   "outputs": [],
   "source": [
    "# demonstrate the use of the quick_sort algorithm \n",
    "input_list = [56, 3, 5, 9, 0, -10, 5, 77, 9, 101]\n",
    "sorted_list = quick_sort(input_list)\n",
    "print(f\"Contents of the input list: {input_list}\")\n",
    "print(f\"Contents of the sorted list: {sorted_list}\")"
   ]
  },
  {
   "cell_type": "code",
   "execution_count": null,
   "metadata": {},
   "outputs": [],
   "source": [
    "# Summary Questions:\n",
    "\n",
    "# 1) What are the similarities and differences between these sorting algorithms?\n",
    "# 2) Do each of these algorithms produce the same output?\n",
    "# 3) Which of these algorithms is likely to be the slowest when run are large inputs?"
   ]
  },
  {
   "cell_type": "code",
   "execution_count": null,
   "metadata": {},
   "outputs": [],
   "source": [
    "# Demonstrate the use of a different approache for sorting data\n",
    "# with a built-in function provided by the Python language\n",
    "input_list = [56, 3, 5, 9, 0, -10, 5, 77, 9, 101]\n",
    "sorted_list = sorted(input_list)\n",
    "print(f\"Contents of the input list: {input_list}\")\n",
    "print(f\"Contents of the sorted list: {sorted_list}\")"
   ]
  },
  {
   "cell_type": "code",
   "execution_count": null,
   "metadata": {},
   "outputs": [],
   "source": [
    "# Demonstrate the use of a different approache for sorting data\n",
    "# with a built-in function provided by the Python language\n",
    "input_list = [56, 3, 5, 9, 0, -10, 5, 77, 9, 101]\n",
    "sorted_list = input_list.sort()\n",
    "print(f\"Contents of the input list: {input_list}\")\n",
    "print(f\"Contents of the sorted list: {sorted_list}\")\n",
    "print(f\"Contents of the input list: {input_list}\")"
   ]
  },
  {
   "cell_type": "code",
   "execution_count": null,
   "metadata": {},
   "outputs": [],
   "source": [
    "# Summary Questions:\n",
    "\n",
    "# 1) What are the similarities and differences between these two approaches?\n",
    "# 2) Why does one of the last two outputs display the value of None?\n",
    "# 3) What is the meaning of the term \"in-place sorting algorithm\"?\n",
    "# 4) What algorithm is used by the sort() and sorted() functions?"
   ]
  }
 ],
 "metadata": {
  "kernelspec": {
   "display_name": "Python 3 (ipykernel)",
   "language": "python",
   "name": "python3"
  },
  "language_info": {
   "codemirror_mode": {
    "name": "ipython",
    "version": 3
   },
   "file_extension": ".py",
   "mimetype": "text/x-python",
   "name": "python",
   "nbconvert_exporter": "python",
   "pygments_lexer": "ipython3",
   "version": "3.11.2"
  },
  "toc-autonumbering": false,
  "toc-showcode": false,
  "toc-showmarkdowntxt": true
 },
 "nbformat": 4,
 "nbformat_minor": 4
}
