{
  "metadata": {
    "kernelspec": {
      "name": "python",
      "display_name": "Pyolite",
      "language": "python"
    },
    "language_info": {
      "codemirror_mode": {
        "name": "python",
        "version": 3
      },
      "file_extension": ".py",
      "mimetype": "text/x-python",
      "name": "python",
      "nbconvert_exporter": "python",
      "pygments_lexer": "ipython3",
      "version": "3.8"
    },
    "toc-autonumbering": false,
    "toc-showcode": false,
    "toc-showmarkdowntxt": true
  },
  "nbformat_minor": 4,
  "nbformat": 4,
  "cells": [
    {
      "cell_type": "code",
      "source": "# Exhaustive Square Root Computation",
      "metadata": {
        "trusted": true
      },
      "execution_count": null,
      "outputs": []
    },
    {
      "cell_type": "code",
      "source": "# define a source code segment that can calculate\n# the square root of a number using an iterative\n# approach and this display the best guess\nx = 5\nepsilon = 0.01\nstep = epsilon**2\nnum_guesses = 0\nans = 0.0\nwhile abs(ans**2 - x) >= epsilon and ans <= x:\n    ans += step\n    num_guesses += 1\nprint(f\"Guessed {num_guesses} times\")\nif abs(ans**2 - x) >= epsilon:\n    print(f\"Could not find sqrt of {x}\")\nelse:\n    print(f\"{ans} is close to sqrt of {x}\")",
      "metadata": {
        "trusted": true
      },
      "execution_count": null,
      "outputs": []
    },
    {
      "cell_type": "code",
      "source": "# define a source code segment that can calculate\n# the square root of a number using an iterative\n# approach and this display the best guess\nx = 4\nepsilon = 0.01\nstep = epsilon**2\nnum_guesses = 0\nans = 0.0\nwhile abs(ans**2 - x) >= epsilon and ans <= x:\n    ans += step\n    num_guesses += 1\nprint(f\"Guessed {num_guesses} times\")\nif abs(ans**2 - x) >= epsilon:\n    print(f\"Could not find sqrt of {x}\")\nelse:\n    print(f\"{ans} is close to sqrt of {x}\")",
      "metadata": {
        "trusted": true
      },
      "execution_count": null,
      "outputs": []
    },
    {
      "cell_type": "code",
      "source": "# Questions:\n# 1) What is the input of the above source code segments?\n# 2) What is the ouptut of the above source code segments?\n# 3) What are the downsides associated with this approach?\n# 4) Can you explain why this implementation is inefficient?\n# 5) Can you implement this as a function instead of a \"script\"?",
      "metadata": {
        "trusted": true
      },
      "execution_count": null,
      "outputs": []
    },
    {
      "cell_type": "code",
      "source": "# Tasks:\n# 1) Implement the above source code segment as a function\n# 2) Make sure that the function has type annotations for the\n#    input and the output parameters\n# 3) Do not produce output with a print statement in the function\n# 4) Call the function with input and capture the output in a variable\n# 5) Display the output of the function using an f-string and a print statement",
      "metadata": {
        "trusted": true
      },
      "execution_count": null,
      "outputs": []
    },
    {
      "cell_type": "code",
      "source": "# Bisection Square Root Computation",
      "metadata": {
        "trusted": true
      },
      "execution_count": null,
      "outputs": []
    },
    {
      "cell_type": "code",
      "source": "x = 5\nepsilon = 0.0001\nstep = epsilon**2\nnum_guesses, low = 0, 0\nhigh = max(1,x)\nanswer = (high + low)/2\nwhile abs(answer**2 - x) >= epsilon:\n    num_guesses += 1\n    if answer**2 < x:\n        low = answer\n    else:\n        high = answer\n    answer = (high + low)/2\nprint(f\"Guessed {num_guesses} times\")\nif abs(answer**2 - x) >= epsilon:\n    print(f\"Could not find sqrt of {x}\")\nelse:\n    print(f\"{answer} is close to sqrt of {x}\")",
      "metadata": {
        "trusted": true
      },
      "execution_count": null,
      "outputs": []
    },
    {
      "cell_type": "code",
      "source": "x = 4\nepsilon = 0.0001\nstep = epsilon**2\nnum_guesses, low = 0, 0\nhigh = max(1,x)\nanswer = (high + low)/2\nwhile abs(answer**2 - x) >= epsilon:\n    num_guesses += 1\n    if answer**2 < x:\n        low = answer\n    else:\n        high = answer\n    answer = (high + low)/2\nprint(f\"Guessed {num_guesses} times\")\nif abs(answer**2 - x) >= epsilon:\n    print(f\"Could not find sqrt of {x}\")\nelse:\n    print(f\"{answer} is close to sqrt of {x}\")",
      "metadata": {
        "trusted": true
      },
      "execution_count": null,
      "outputs": []
    },
    {
      "cell_type": "code",
      "source": "# Questions:\n# 1) What is the input of the above source code segments?\n# 2) What is the ouptut of the above source code segments?\n# 3) Can you explain why this implementation is efficient?\n# 4) By how much more efficient is this approach than the previous one?\n# 5) Can you implement this as a function instead of a \"script\"?",
      "metadata": {
        "trusted": true
      },
      "execution_count": null,
      "outputs": []
    }
  ]
}