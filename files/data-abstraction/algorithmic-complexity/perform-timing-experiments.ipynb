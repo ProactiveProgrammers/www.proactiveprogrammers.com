{
 "cells": [
  {
   "cell_type": "code",
   "execution_count": null,
   "metadata": {},
   "outputs": [],
   "source": [
    "# Perform timing experiments using the timeit package\n",
    "\n",
    "# NOTE: these experiments are not rigorous doubling\n",
    "# experiments but rather small-scale experiments that\n",
    "# illustrate how the timing package works in Python\n",
    "\n",
    "# Refer to the documentation of timeit for more details:\n",
    "# https://docs.python.org/3/library/timeit.html"
   ]
  },
  {
   "cell_type": "code",
   "execution_count": null,
   "metadata": {},
   "outputs": [],
   "source": [
    "# import the timeit package used to collect\n",
    "# performance data about the function's execution\n",
    "import timeit\n",
    "\n",
    "# define the function to analyze in a string\n",
    "# so that it can be passed to the timeit function\n",
    "code_to_time = \"\"\"def factorial(n: int) -> int:\n",
    "    answer = 1\n",
    "    while n > 1:\n",
    "        answer *= n\n",
    "        n -= 1\n",
    "    return answer\n",
    "\n",
    "for i in range(10):\n",
    "    factorial(i)\"\"\"\n",
    "\n",
    "# repeatedly run the timing function and\n",
    "# report the performance results; this\n",
    "# runs a total of three benchmarking campaigns\n",
    "# that will individually run the code a \n",
    "# total of 10000 times. It then reports\n",
    "# the average execution time for each campaign\n",
    "print (timeit.repeat(stmt = code_to_time,\n",
    "                     repeat = 3,\n",
    "                     number = 10000))"
   ]
  },
  {
   "cell_type": "code",
   "execution_count": null,
   "metadata": {},
   "outputs": [],
   "source": [
    "# Summary Questions:\n",
    "# 1) If you increase the number in range() does the execution time increase?\n",
    "# 2) How would you conduct a timing experiment for add_digits?\n",
    "# 3) How would you conduct a timing experiment for is_subset?\n",
    "# 4) What is the purpose of the repeat parameter?\n",
    "# 5) What is the purpose of the number parameter?"
   ]
  },
  {
   "cell_type": "code",
   "execution_count": null,
   "metadata": {},
   "outputs": [],
   "source": []
  },
  {
   "cell_type": "code",
   "execution_count": null,
   "metadata": {},
   "outputs": [],
   "source": [
    "# Technical Tasks: conduct experiments for the add_digits and is_subset functions\n",
    "# that are provided in the course slides for the module on Algorithmic Complexity"
   ]
  }
 ],
 "metadata": {
  "kernelspec": {
   "display_name": "Python 3 (ipykernel)",
   "language": "python",
   "name": "python3"
  },
  "language_info": {
   "codemirror_mode": {
    "name": "ipython",
    "version": 3
   },
   "file_extension": ".py",
   "mimetype": "text/x-python",
   "name": "python",
   "nbconvert_exporter": "python",
   "pygments_lexer": "ipython3",
   "version": "3.10.1"
  },
  "toc-autonumbering": false,
  "toc-showcode": false,
  "toc-showmarkdowntxt": true
 },
 "nbformat": 4,
 "nbformat_minor": 4
}
