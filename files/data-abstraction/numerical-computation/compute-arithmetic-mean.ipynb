{
 "cells": [
  {
   "cell_type": "code",
   "execution_count": null,
   "metadata": {},
   "outputs": [],
   "source": [
    "# Use Functions to Calculate an Arithmetic Mean (i.e., Compute an Average)"
   ]
  },
  {
   "cell_type": "code",
   "execution_count": null,
   "metadata": {},
   "outputs": [],
   "source": [
    "# Technical Topics:\n",
    "\n",
    "# Calling functions like sum() and len()\n",
    "# Type annotations for functions\n",
    "# Lists that contain integer data\n",
    "# Formatted string output with print() and str()\n",
    "# Comparing alternatives to function definition"
   ]
  },
  {
   "cell_type": "code",
   "execution_count": null,
   "metadata": {},
   "outputs": [],
   "source": [
    "# define a function that can compute the arithmetic\n",
    "# mean of a list of numerical values; note that\n",
    "# this function does not have type annotations\n",
    "def compute_mean(numbers):\n",
    "    s = sum(numbers)\n",
    "    N = len(numbers)\n",
    "    mean = s / N\n",
    "    return mean\n",
    "numbers = [5,1,7,99,4]\n",
    "print(str(compute_mean(numbers)))"
   ]
  },
  {
   "cell_type": "code",
   "execution_count": null,
   "metadata": {},
   "outputs": [],
   "source": [
    "# define a function that can compute the arithmetic\n",
    "# mean of a list of numerical values; note that\n",
    "# this function does have type annotations for\n",
    "# both the input and the output\n",
    "from typing import List\n",
    "\n",
    "def compute_mean(numbers: List) -> float:\n",
    "    s = sum(numbers)\n",
    "    N = len(numbers)\n",
    "    mean = s / N\n",
    "    return mean\n",
    "numbers = [5,1,7,99,4]\n",
    "print(str(compute_mean(numbers)))"
   ]
  },
  {
   "cell_type": "code",
   "execution_count": null,
   "metadata": {},
   "outputs": [],
   "source": [
    "# Summary Questions:\n",
    "# 1) What is the input of the above source code segments?\n",
    "# 2) What is the output of the above source code segments?\n",
    "# 3) Do you prefer functions with or without type annotations?\n",
    "# 4) What are the benefits associated with using type annotations?\n",
    "# 5) What are the downsides associated with using type annotations?"
   ]
  },
  {
   "cell_type": "code",
   "execution_count": null,
   "metadata": {},
   "outputs": [],
   "source": []
  },
  {
   "cell_type": "code",
   "execution_count": null,
   "metadata": {},
   "outputs": [],
   "source": [
    "# Technical Tasks:\n",
    "# 1) Try both of the functions with a larger list of values\n",
    "# 2) Confirm that both functions produce the same output\n",
    "# 3) Pick different names for the variables that are more descriptive"
   ]
  },
  {
   "cell_type": "code",
   "execution_count": null,
   "metadata": {},
   "outputs": [],
   "source": []
  }
 ],
 "metadata": {
  "kernelspec": {
   "display_name": "Python 3 (ipykernel)",
   "language": "python",
   "name": "python3"
  },
  "language_info": {
   "codemirror_mode": {
    "name": "ipython",
    "version": 3
   },
   "file_extension": ".py",
   "mimetype": "text/x-python",
   "name": "python",
   "nbconvert_exporter": "python",
   "pygments_lexer": "ipython3",
   "version": "3.10.1"
  },
  "toc-autonumbering": false,
  "toc-showcode": false,
  "toc-showmarkdowntxt": true
 },
 "nbformat": 4,
 "nbformat_minor": 4
}
