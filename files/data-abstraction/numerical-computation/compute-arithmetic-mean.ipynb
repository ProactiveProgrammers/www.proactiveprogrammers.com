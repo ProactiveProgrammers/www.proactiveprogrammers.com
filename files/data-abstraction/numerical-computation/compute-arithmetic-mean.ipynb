{
  "metadata": {
    "kernelspec": {
      "name": "python",
      "display_name": "Pyolite",
      "language": "python"
    },
    "language_info": {
      "codemirror_mode": {
        "name": "python",
        "version": 3
      },
      "file_extension": ".py",
      "mimetype": "text/x-python",
      "name": "python",
      "nbconvert_exporter": "python",
      "pygments_lexer": "ipython3",
      "version": "3.8"
    },
    "toc-autonumbering": false,
    "toc-showcode": false,
    "toc-showmarkdowntxt": true
  },
  "nbformat_minor": 4,
  "nbformat": 4,
  "cells": [
    {
      "cell_type": "code",
      "source": "# define a function that can compute the arithmetic\n# mean of a list of numerical values; note that\n# this function does not have type annotations\ndef compute_mean(numbers):\n    s = sum(numbers)\n    N = len(numbers)\n    mean = s / N\n    return mean\nnumbers = [5,1,7,99,4]\nprint(str(compute_mean(numbers)))",
      "metadata": {
        "trusted": true
      },
      "execution_count": null,
      "outputs": []
    },
    {
      "cell_type": "code",
      "source": "# define a function that can compute the arithmetic\n# mean of a list of numerical values; note that\n# this function does have type annotations for\n# both the input and the output\nfrom typing import List\n\ndef compute_mean(numbers: List) -> float:\n    s = sum(numbers)\n    N = len(numbers)\n    mean = s / N\n    return mean\nnumbers = [5,1,7,99,4]\nprint(str(compute_mean(numbers)))",
      "metadata": {
        "trusted": true
      },
      "execution_count": null,
      "outputs": []
    },
    {
      "cell_type": "code",
      "source": "# Questions:\n# 1) What is the input of the above source code segments?\n# 2) What is the ouptut of the above source code segments?\n# 3) Do you prefer functions with or without type annotations?\n# 4) What are the benefits associated with using type annotations?\n# 5) What are the downsides associated with using type annotations?",
      "metadata": {
        "trusted": true
      },
      "execution_count": null,
      "outputs": []
    },
    {
      "cell_type": "code",
      "source": "# Tasks:\n# 1) Try both of the functions with a larger list of values\n# 2) Confirm that both functions produce the same output\n# 3) Pick different names for the variables that are more descriptive",
      "metadata": {
        "trusted": true
      },
      "execution_count": null,
      "outputs": []
    }
  ]
}