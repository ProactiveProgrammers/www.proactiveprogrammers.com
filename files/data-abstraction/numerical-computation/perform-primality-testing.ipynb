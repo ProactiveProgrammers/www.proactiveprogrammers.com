{
 "cells": [
  {
   "cell_type": "code",
   "execution_count": null,
   "metadata": {},
   "outputs": [],
   "source": [
    "# Exhaustive Primality Testing"
   ]
  },
  {
   "cell_type": "code",
   "execution_count": null,
   "metadata": {},
   "outputs": [],
   "source": [
    "# Technical Topics:\n",
    "\n",
    "# Iteration with a while loop\n",
    "# Conditional logic with if-else\n",
    "# Performing integer exponentiation\n",
    "# Formatted string output with print()\n",
    "# Calculating the square root of an integer"
   ]
  },
  {
   "cell_type": "code",
   "execution_count": null,
   "metadata": {},
   "outputs": [],
   "source": [
    "# define a source code segment that can determine\n",
    "# whether or not a number is a prime number.\n",
    "x = 1013\n",
    "sm_div = None\n",
    "for guess in range(2, x):\n",
    "    if x % guess == 0:\n",
    "        sm_div = guess\n",
    "        break\n",
    "if sm_div != None:\n",
    "    print(f\"Smallest divisor of {x} is {sm_div}\")\n",
    "else:\n",
    "    print(f\"Wow, {x} is a prime number!\")\n",
    "print(f\"Performed a search through a range consisting of {len(range(2,x))} values!\")"
   ]
  },
  {
   "cell_type": "code",
   "execution_count": null,
   "metadata": {},
   "outputs": [],
   "source": [
    "# Questions:\n",
    "# 1) What is the input of the above source code segment?\n",
    "# 2) What is the ouptut of the above source code segment?\n",
    "# 3) What are the efficiency downsides associated with this approach?\n",
    "# 4) Can you implement this as a function instead of a \"script\"?\n",
    "# 5) What are the benefits of using a function?"
   ]
  },
  {
   "cell_type": "code",
   "execution_count": null,
   "metadata": {},
   "outputs": [],
   "source": []
  },
  {
   "cell_type": "code",
   "execution_count": null,
   "metadata": {},
   "outputs": [],
   "source": [
    "# Tasks:\n",
    "# 1) Implement the above source code segment as a function\n",
    "# 2) Make sure that the function has type annotations for the\n",
    "#    input and the output parameters\n",
    "# 3) Do not produce output with a print statement in the function\n",
    "# 4) Call the function with input and capture the output in a variable\n",
    "# 5) Display the output of the function using an f-string and a print statement\n",
    "# 6) Make sure that you understand the output of len(range(2,x))\n",
    "# 7) Try your new function with inputs different than x = 1013"
   ]
  },
  {
   "cell_type": "code",
   "execution_count": null,
   "metadata": {},
   "outputs": [],
   "source": []
  },
  {
   "cell_type": "code",
   "execution_count": null,
   "metadata": {},
   "outputs": [],
   "source": [
    "# Efficient Primality Testing"
   ]
  },
  {
   "cell_type": "code",
   "execution_count": null,
   "metadata": {},
   "outputs": [],
   "source": [
    "# define a source code segment that can determine\n",
    "# whether or not a number is a prime number\n",
    "x = 1013\n",
    "sm_div = None\n",
    "if x % 2 == 0:\n",
    "    sm_div = 2\n",
    "else:\n",
    "    for guess in range(3, x, 2):\n",
    "        if x % guess == 0:\n",
    "            sm_div = guess\n",
    "            break\n",
    "if sm_div != None:\n",
    "    print(f\"Smallest divisor of {x} is {sm_div}\")\n",
    "else:\n",
    "    print(f\"Wow, {x} is a prime number!\")\n",
    "print(f\"Performed a search through a range consisting of {len(range(3,x,2))} values!\")"
   ]
  },
  {
   "cell_type": "code",
   "execution_count": null,
   "metadata": {},
   "outputs": [],
   "source": [
    "# Questions:\n",
    "# 1) What is the input of the above source code segment?\n",
    "# 2) What is the ouptut of the above source code segment?\n",
    "# 3) What are the efficiency benefits associated with this approach?\n",
    "# 4) Why is this approach more efficient than the previous one?\n",
    "# 5) Can you implement this as a function instead of a \"script\"?"
   ]
  },
  {
   "cell_type": "code",
   "execution_count": null,
   "metadata": {},
   "outputs": [],
   "source": []
  },
  {
   "cell_type": "code",
   "execution_count": null,
   "metadata": {},
   "outputs": [],
   "source": [
    "# Tasks:\n",
    "# 1) Implement the above source code segment as a function\n",
    "# 2) Make sure that the function has type annotations for the\n",
    "#    input and the output parameters\n",
    "# 3) Do not produce output with a print statement in the function\n",
    "# 4) Call the function with input and capture the output in a variable\n",
    "# 5) Display the output of the function using an f-string and a print statement\n",
    "# 6) Make sure that you understand the output of len(range(3,x,2))\n",
    "# 7) Try your new function with inputs different than x = 1013"
   ]
  },
  {
   "cell_type": "code",
   "execution_count": null,
   "metadata": {},
   "outputs": [],
   "source": []
  }
 ],
 "metadata": {
  "kernelspec": {
   "display_name": "Python 3 (ipykernel)",
   "language": "python",
   "name": "python3"
  },
  "language_info": {
   "codemirror_mode": {
    "name": "ipython",
    "version": 3
   },
   "file_extension": ".py",
   "mimetype": "text/x-python",
   "name": "python",
   "nbconvert_exporter": "python",
   "pygments_lexer": "ipython3",
   "version": "3.10.5"
  },
  "toc-autonumbering": false,
  "toc-showcode": false,
  "toc-showmarkdowntxt": true
 },
 "nbformat": 4,
 "nbformat_minor": 4
}
