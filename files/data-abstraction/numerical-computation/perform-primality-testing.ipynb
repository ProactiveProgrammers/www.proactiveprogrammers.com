{
  "metadata": {
    "kernelspec": {
      "name": "python",
      "display_name": "Pyolite",
      "language": "python"
    },
    "language_info": {
      "codemirror_mode": {
        "name": "python",
        "version": 3
      },
      "file_extension": ".py",
      "mimetype": "text/x-python",
      "name": "python",
      "nbconvert_exporter": "python",
      "pygments_lexer": "ipython3",
      "version": "3.8"
    },
    "toc-autonumbering": false,
    "toc-showcode": false,
    "toc-showmarkdowntxt": true
  },
  "nbformat_minor": 4,
  "nbformat": 4,
  "cells": [
    {
      "cell_type": "code",
      "source": "# Exhaustive Primality Testing",
      "metadata": {
        "trusted": true
      },
      "execution_count": null,
      "outputs": []
    },
    {
      "cell_type": "code",
      "source": "# define a source code segment that can determine\n# whether or not a number is a prime number.\nx = 1013\nsm_div = None\nfor guess in range(2, x):\n    if x % guess == 0:\n        sm_div = guess\n        break\nif sm_div != None:\n    print(f\"Smallest divisor of {x} is {sm_div}\")\nelse:\n    print(f\"Wow, {x} is a prime number!\")\nprint(f\"Performed a search through a range consisting of {len(range(2,x))} values!\")",
      "metadata": {
        "trusted": true
      },
      "execution_count": null,
      "outputs": []
    },
    {
      "cell_type": "code",
      "source": "# Questions:\n# 1) What is the input of the above source code segment?\n# 2) What is the ouptut of the above source code segment?\n# 3) What are the efficiency downsides associated with this approach?\n# 4) Can you implement this as a function instead of a \"script\"?\n# 5) What are the benefits of using a function?",
      "metadata": {
        "trusted": true
      },
      "execution_count": null,
      "outputs": []
    },
    {
      "cell_type": "code",
      "source": "# Tasks:\n# 1) Implement the above source code segment as a function\n# 2) Make sure that the function has type annotations for the\n#    input and the output parameters\n# 3) Do not produce output with a print statement in the function\n# 4) Call the function with input and capture the output in a variable\n# 5) Display the output of the function using an f-string and a print statement\n# 6) Make sure that you understand the output of len(range(2,x))\n# 7) Try your new function with inputs different than x = 1013",
      "metadata": {
        "trusted": true
      },
      "execution_count": null,
      "outputs": []
    },
    {
      "cell_type": "code",
      "source": "# Efficient Primality Testing",
      "metadata": {
        "trusted": true
      },
      "execution_count": null,
      "outputs": []
    },
    {
      "cell_type": "code",
      "source": "# define a source code segment that can determine\n# whether or not a number is a prime number\nx = 1013\nsm_div = None\nif x % 2 == 0:\n    sm_div = 2\nelse:\n    for guess in range(3, x, 2):\n        if x % guess == 0:\n            sm_div = guess\n            break\nif sm_div != None:\n    print(f\"Smallest divisor of {x} is {sm_div}\")\nelse:\n    print(f\"Wow, {x} is a prime number!\")\nprint(f\"Performed a search through a range consisting of {len(range(3,x,2))} values!\")",
      "metadata": {
        "trusted": true
      },
      "execution_count": null,
      "outputs": []
    },
    {
      "cell_type": "code",
      "source": "# Questions:\n# 1) What is the input of the above source code segment?\n# 2) What is the ouptut of the above source code segment?\n# 3) What are the efficiency benefits associated with this approach?\n# 4) Why is this approach more efficient than the previous one?\n# 5) Can you implement this as a function instead of a \"script\"?",
      "metadata": {
        "trusted": true
      },
      "execution_count": null,
      "outputs": []
    },
    {
      "cell_type": "code",
      "source": "# Tasks:\n# 1) Implement the above source code segment as a function\n# 2) Make sure that the function has type annotations for the\n#    input and the output parameters\n# 3) Do not produce output with a print statement in the function\n# 4) Call the function with input and capture the output in a variable\n# 5) Display the output of the function using an f-string and a print statement\n# 6) Make sure that you understand the output of len(range(3,x,2))\n# 7) Try your new function with inputs different than x = 1013",
      "metadata": {
        "trusted": true
      },
      "execution_count": null,
      "outputs": []
    }
  ]
}
