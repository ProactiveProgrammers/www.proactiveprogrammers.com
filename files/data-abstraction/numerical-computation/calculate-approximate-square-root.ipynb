{
 "cells": [
  {
   "cell_type": "code",
   "execution_count": null,
   "metadata": {},
   "outputs": [],
   "source": [
    "# Exhaustive Square Root Computation"
   ]
  },
  {
   "cell_type": "code",
   "execution_count": null,
   "metadata": {},
   "outputs": [],
   "source": [
    "# Technical Topics:\n",
    "\n",
    "# Iteration with a while loop\n",
    "# Conditional logic with if-else\n",
    "# Performing integer exponentiation\n",
    "# Formatted string output with print()\n",
    "# Calculating the square root of an integer"
   ]
  },
  {
   "cell_type": "code",
   "execution_count": null,
   "metadata": {},
   "outputs": [],
   "source": [
    "# define a source code segment that can calculate\n",
    "# the square root of a number using an iterative\n",
    "# approach and then display the best guess\n",
    "# Input: 5\n",
    "x = 5\n",
    "epsilon = 0.01\n",
    "step = epsilon**2\n",
    "num_guesses = 0\n",
    "ans = 0.0\n",
    "while abs(ans**2 - x) >= epsilon and ans <= x:\n",
    "    ans += step\n",
    "    num_guesses += 1\n",
    "print(f\"Guessed {num_guesses} times\")\n",
    "if abs(ans**2 - x) >= epsilon:\n",
    "    print(f\"Could not find sqrt of {x}\")\n",
    "else:\n",
    "    print(f\"{ans} is close to sqrt of {x}\")"
   ]
  },
  {
   "cell_type": "code",
   "execution_count": null,
   "metadata": {},
   "outputs": [],
   "source": [
    "# define a source code segment that can calculate\n",
    "# the square root of a number using an iterative\n",
    "# approach and then display the best guess\n",
    "# Input: 4\n",
    "x = 4\n",
    "epsilon = 0.01\n",
    "step = epsilon**2\n",
    "num_guesses = 0\n",
    "ans = 0.0\n",
    "while abs(ans**2 - x) >= epsilon and ans <= x:\n",
    "    ans += step\n",
    "    num_guesses += 1\n",
    "print(f\"Guessed {num_guesses} times\")\n",
    "if abs(ans**2 - x) >= epsilon:\n",
    "    print(f\"Could not find sqrt of {x}\")\n",
    "else:\n",
    "    print(f\"{ans} is close to sqrt of {x}\")"
   ]
  },
  {
   "cell_type": "code",
   "execution_count": null,
   "metadata": {},
   "outputs": [],
   "source": [
    "# Summary Questions:\n",
    "# 1) What is the input of the above source code segments?\n",
    "# 2) What is the output of the above source code segments?\n",
    "# 3) What are the downsides associated with this approach?\n",
    "# 4) Can you explain why this implementation is inefficient?\n",
    "# 5) Can you implement this as a function instead of a \"script\"?"
   ]
  },
  {
   "cell_type": "code",
   "execution_count": null,
   "metadata": {},
   "outputs": [],
   "source": []
  },
  {
   "cell_type": "code",
   "execution_count": null,
   "metadata": {},
   "outputs": [],
   "source": [
    "# Technical Tasks for Exhaustive:\n",
    "# 1. Implement one of the above source code segments as a function\n",
    "# 2. Make sure that the function has type annotations for the\n",
    "#    input and the output parameters\n",
    "# 3. Do not produce output with a print statement in the function\n",
    "# 4. Call the function with input and capture the output in a variable\n",
    "# 5. Display the output of the function using an f-string and a print statement"
   ]
  },
  {
   "cell_type": "code",
   "execution_count": null,
   "metadata": {},
   "outputs": [],
   "source": []
  },
  {
   "cell_type": "code",
   "execution_count": null,
   "metadata": {},
   "outputs": [],
   "source": [
    "# Bisection Square Root Computation"
   ]
  },
  {
   "cell_type": "code",
   "execution_count": null,
   "metadata": {},
   "outputs": [],
   "source": [
    "# define a source code segment that can calculate\n",
    "# the square root of a number using a fast bisection\n",
    "# approach and then display the best guess\n",
    "# Input: 5\n",
    "x = 5\n",
    "epsilon = 0.0001\n",
    "step = epsilon**2\n",
    "num_guesses, low = 0, 0\n",
    "high = max(1,x)\n",
    "answer = (high + low)/2\n",
    "while abs(answer**2 - x) >= epsilon:\n",
    "    num_guesses += 1\n",
    "    if answer**2 < x:\n",
    "        low = answer\n",
    "    else:\n",
    "        high = answer\n",
    "    answer = (high + low)/2\n",
    "print(f\"Guessed {num_guesses} times\")\n",
    "if abs(answer**2 - x) >= epsilon:\n",
    "    print(f\"Could not find sqrt of {x}\")\n",
    "else:\n",
    "    print(f\"{answer} is close to sqrt of {x}\")"
   ]
  },
  {
   "cell_type": "code",
   "execution_count": null,
   "metadata": {},
   "outputs": [],
   "source": [
    "# define a source code segment that can calculate\n",
    "# the square root of a number using a fast bisection\n",
    "# approach and then display the best guess\n",
    "# Input: 4\n",
    "x = 4\n",
    "epsilon = 0.0001\n",
    "step = epsilon**2\n",
    "num_guesses, low = 0, 0\n",
    "high = max(1,x)\n",
    "answer = (high + low)/2\n",
    "while abs(answer**2 - x) >= epsilon:\n",
    "    num_guesses += 1\n",
    "    if answer**2 < x:\n",
    "        low = answer\n",
    "    else:\n",
    "        high = answer\n",
    "    answer = (high + low)/2\n",
    "print(f\"Guessed {num_guesses} times\")\n",
    "if abs(answer**2 - x) >= epsilon:\n",
    "    print(f\"Could not find sqrt of {x}\")\n",
    "else:\n",
    "    print(f\"{answer} is close to sqrt of {x}\")"
   ]
  },
  {
   "cell_type": "code",
   "execution_count": null,
   "metadata": {},
   "outputs": [],
   "source": [
    "# Summary Questions:\n",
    "# 1. What is the input of the above source code segments?\n",
    "# 2. What is the output of the above source code segments?\n",
    "# 3. Can you explain why this implementation is efficient?\n",
    "# 4. By how much more efficient is this approach than the previous one?\n",
    "# 5. Can you implement this as a function instead of a \"script\"?"
   ]
  },
  {
   "cell_type": "code",
   "execution_count": null,
   "metadata": {},
   "outputs": [],
   "source": []
  },
  {
   "cell_type": "code",
   "execution_count": null,
   "metadata": {},
   "outputs": [],
   "source": [
    "# Technical Tasks for Bisection:\n",
    "# 1. Implement one of the above source code segments as a function\n",
    "# 2. Make sure that the function has type annotations for the\n",
    "#    input and the output parameters\n",
    "# 3. Do not produce output with a print statement in the function\n",
    "# 4. Call the function with input and capture the output in a variable\n",
    "# 5. Display the output of the function using an f-string and a print statement"
   ]
  },
  {
   "cell_type": "code",
   "execution_count": null,
   "metadata": {},
   "outputs": [],
   "source": []
  }
 ],
 "metadata": {
  "kernelspec": {
   "display_name": "Python 3 (ipykernel)",
   "language": "python",
   "name": "python3"
  },
  "language_info": {
   "codemirror_mode": {
    "name": "ipython",
    "version": 3
   },
   "file_extension": ".py",
   "mimetype": "text/x-python",
   "name": "python",
   "nbconvert_exporter": "python",
   "pygments_lexer": "ipython3",
   "version": "3.10.5"
  },
  "toc-autonumbering": false,
  "toc-showcode": false,
  "toc-showmarkdowntxt": true
 },
 "nbformat": 4,
 "nbformat_minor": 4
}
