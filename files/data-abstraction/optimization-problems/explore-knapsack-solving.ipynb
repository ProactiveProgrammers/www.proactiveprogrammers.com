{
  "metadata": {
    "kernelspec": {
      "name": "python",
      "display_name": "Pyolite",
      "language": "python"
    },
    "language_info": {
      "codemirror_mode": {
        "name": "python",
        "version": 3
      },
      "file_extension": ".py",
      "mimetype": "text/x-python",
      "name": "python",
      "nbconvert_exporter": "python",
      "pygments_lexer": "ipython3",
      "version": "3.8"
    },
    "toc-autonumbering": false,
    "toc-showcode": false,
    "toc-showmarkdowntxt": true
  },
  "nbformat_minor": 4,
  "nbformat": 4,
  "cells": [
    {
      "cell_type": "code",
      "source": "# Define the class that will represent the data values\n\nfrom typing import List\nfrom typing import Tuple\n\n\nclass Item(object):\n\n    def __init__(self, n, v, w):\n        \"\"\"Construct an instance of the Item class.\"\"\"\n        self._name = n\n        self._value = v\n        self._weight = w\n\n    def get_name(self) -> str:\n        \"\"\"Access the name of an Item.\"\"\"\n        return self._name\n\n    def get_value(self) -> int:\n        \"\"\"Access the value of an Item.\"\"\"\n        return self._value\n\n    def get_weight(self) -> int:\n        \"\"\"Access the weight of an Item.\"\"\"\n        return self._weight\n\n    def __repr__(self) -> str:\n        \"\"\"Produce a textual representation of the Item.\"\"\"\n        return f\"({self._name}, {self._value}, {self._weight})\"",
      "metadata": {
        "trusted": true
      },
      "execution_count": null,
      "outputs": []
    },
    {
      "cell_type": "code",
      "source": "# define the helper functions that process an instance of the class\n\ndef value(item: Item) -> int:\n    \"\"\"Return the value for a specific item.\"\"\"\n    return item.get_value()\n\n\ndef weight_inverse(item: Item) -> float:\n    \"\"\"Return the inverse of the weight for a specific item.\"\"\"\n    return 1.0 / item.get_weight()\n\n\ndef density(item: Item) -> float:\n    \"\"\"Return the density of the item.\"\"\"\n    return item.get_value() / item.get_weight()",
      "metadata": {
        "trusted": true
      },
      "execution_count": null,
      "outputs": []
    },
    {
      "cell_type": "code",
      "source": "# create a greedy solver\n\ndef greedy(items: List[Item], max_weight: int, key_function) -> Tuple[List[Item], float]:\n    \"\"\"Perform the greedy algorithm for items, a maximum weight of a knapsack, and an objective function.\"\"\"\n    items_copy = sorted(items, key=key_function, reverse=True)\n    result: List[Item] = []\n    total_value, total_weight = 0.0, 0.0\n    for i in range(len(items_copy)):\n        if (total_weight + items_copy[i].get_weight()) <= max_weight:\n            result.append(items_copy[i])\n            total_weight += items_copy[i].get_weight()\n            total_value += items_copy[i].get_value()\n    return (result, total_value)",
      "metadata": {
        "trusted": true
      },
      "execution_count": null,
      "outputs": []
    },
    {
      "cell_type": "code",
      "source": "# define a function that can create an instance of the 0/1 Knapsack problem\n\ndef build_items() -> List[Item]:\n    \"\"\"Create an instance of a 0/1 knapsack using instances of the Item class.\"\"\"\n    names = [\"Clock\", \"Painting\", \"Radio\", \"Vase\", \"Book\", \"Computer\"]\n    values = [175, 90, 20, 50, 10, 200]\n    weights = [10, 9, 4, 2, 1, 20]\n    items: List[Item] = []\n    for i in range(len(values)):\n        items.append(Item(names[i], values[i], weights[i]))\n    return items",
      "metadata": {
        "trusted": true
      },
      "execution_count": null,
      "outputs": []
    },
    {
      "cell_type": "code",
      "source": "# define the functions that perform exhaustive enumeration\n\ndef powerset(s: List[Item]):\n    \"\"\"Generate the powerset of a list of items.\"\"\"\n    # Reference:\n    # https://stackoverflow.com/questions/1482308/how-to-get-all-subsets-of-a-set-powerset\n    x = len(s)\n    masks = [1 << i for i in range(x)]\n    for i in range(1 << x):\n        yield [ss for mask, ss in zip(masks, s) if i & mask]\n\n\ndef exhaustive_enumeration(pset, max_weight, get_value, get_weight):\n    \"\"\"Run an exhaustive enumeration algorithm to find best combination.\"\"\"\n    best_value = 0.0\n    best_set = []\n    for items in pset:\n        items_value = 0.0\n        items_weight = 0.0\n        for item in items:\n            items_value += get_value(item)\n            items_weight += get_weight(item)\n        if items_weight <= max_weight and items_value > best_value:\n            best_value = items_value\n            best_set = items\n    return (best_set, best_value)",
      "metadata": {
        "trusted": true
      },
      "execution_count": null,
      "outputs": []
    },
    {
      "cell_type": "code",
      "source": "# define the functions for running the greedy algorithm\n\ndef run_greedy(items: List[Item], max_weight: int, key_function) -> None:\n    \"\"\"Run the greedy algorithm and display the result.\"\"\"\n    taken, value = greedy(items, max_weight, key_function)\n    print(\"Total value of items taken is\", value)\n    for item in taken:\n        print(\"  \", item)\n\ndef run_all_greedy(max_weight=20) -> None:\n    \"\"\"Run all greedy algorithm with all possible objective functions.\"\"\"\n    print(\"Running all of the knapsack solvers!\")\n    print()\n    items = build_items()\n    print(\"Using greedy-by-value to fill knapsack of size\", max_weight)\n    run_greedy(items, max_weight, value)\n    print()\n    print(\"Using greedy-by-weight to fill knapsack of size\", max_weight)\n    run_greedy(items, max_weight, weight_inverse)\n    print()\n    print(\"Using greedy-by-density to fill knapsack of size\", max_weight)\n    run_greedy(items, max_weight, density)\n    print()",
      "metadata": {
        "trusted": true
      },
      "execution_count": null,
      "outputs": []
    },
    {
      "cell_type": "code",
      "source": "# define the function for running the exhaustive algorithm\n\ndef run_exhaustive_enumeration(max_weight=20):\n    \"\"\"Use the exhaustive enumeration algorithm for a problem instance.\"\"\"\n    items = build_items()\n    print(\"Generating the powerset of all items!\")\n    pset = powerset(items)\n    print()\n    print(\"Using exhaustive enumeration to fill a knapsack of size\", max_weight)\n    taken, value = exhaustive_enumeration(pset, max_weight, Item.get_value, Item.get_weight)\n    print(\"Total value of items taken is\", value)\n    for item in taken:\n        print(\"  \", item)",
      "metadata": {
        "trusted": true
      },
      "execution_count": null,
      "outputs": []
    },
    {
      "cell_type": "code",
      "source": "# run the greedy algorithms for the specific instance and display the solution\n\nrun_all_greedy()",
      "metadata": {
        "trusted": true
      },
      "execution_count": null,
      "outputs": []
    },
    {
      "cell_type": "code",
      "source": "# Task: add a new function to define your own instance of the 0/1 Knapsack problem and solve it with the greedy algorithms",
      "metadata": {
        "trusted": true
      },
      "execution_count": null,
      "outputs": []
    },
    {
      "cell_type": "code",
      "source": "# run the exhaustive algorithm for the specific instance and display the solution\n\nrun_exhaustive_enumeration()",
      "metadata": {
        "trusted": true
      },
      "execution_count": null,
      "outputs": []
    },
    {
      "cell_type": "code",
      "source": "# Task: add a new function to define your own instance of the 0/1 Knapsack problem and solve it with the exhaustive algorithm",
      "metadata": {
        "trusted": true
      },
      "execution_count": null,
      "outputs": []
    },
    {
      "cell_type": "code",
      "source": "# Questions:\n# 1) What are the similarities and differences between the iterative and exhaustive algorithms?\n# 2) Which algorithm is likely to be faster, the greedy or the exhaustive one?\n# 3) Which algorithm is likely to produce a better answer, the greedy or the exhaustive one?\n# 4) What steps did you have to take to define your own instance of the 0/1 knapsack and solve it with a greedy algorithm?\n# 5) What steps did you have to take to define your own instance of the 0/1 knapsack and solve it with the exhaustive algorithm?",
      "metadata": {},
      "execution_count": null,
      "outputs": []
    }
  ]
}