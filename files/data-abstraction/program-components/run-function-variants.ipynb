{
  "metadata": {
    "kernelspec": {
      "name": "python",
      "display_name": "Pyolite",
      "language": "python"
    },
    "language_info": {
      "codemirror_mode": {
        "name": "python",
        "version": 3
      },
      "file_extension": ".py",
      "mimetype": "text/x-python",
      "name": "python",
      "nbconvert_exporter": "python",
      "pygments_lexer": "ipython3",
      "version": "3.8"
    },
    "toc-autonumbering": false,
    "toc-showcode": false,
    "toc-showmarkdowntxt": true
  },
  "nbformat_minor": 4,
  "nbformat": 4,
  "cells": [
    {
      "cell_type": "code",
      "source": "# define and then call a recursive function for factorial computation\ndef factorial(number: int) -> int:\n    if number == 1:\n        return 1\n    return number * factorial(number - 1)\nnum = 5\nprint(\"The factorial of \" + str(num) +\n        \" is \" + str(factorial(num)))",
      "metadata": {
        "trusted": true
      },
      "execution_count": null,
      "outputs": []
    },
    {
      "cell_type": "code",
      "source": "# define and then call an iterative function for factorial computation\nfrom typing import Tuple\ndef fibonacci_tuple(n: int) -> Tuple[int]:\n    result = ( )\n    a = 1\n    b = 1\n    for i in range(n):\n        result += (a,)\n        a, b = b, a + b\n    return result\n\nfor fibonacci_value in fibonacci_tuple(10):\n    print(fibonacci_value, end=\" \")",
      "metadata": {
        "trusted": true
      },
      "execution_count": null,
      "outputs": []
    },
    {
      "cell_type": "code",
      "source": "# define and then call an iterative function for factorial computation\nfrom typing import List\ndef fibonacci_list(n: int) -> List[int]:\n    result = [  ]\n    a = 1\n    b = 1\n    for i in range(n):\n        result.append(a)\n        a, b = b, a + b\n    return result\n\nfor fibonacci_value in fibonacci_list(10):\n    print(fibonacci_value, end=\" \")",
      "metadata": {
        "trusted": true
      },
      "execution_count": null,
      "outputs": []
    },
    {
      "cell_type": "code",
      "source": "# define and then call a generator function for factorial computation\nfrom typing import Iterator\ndef fibonacci_generator(n: int) -> Iterator[int]:\n    a = 1\n    b = 1\n    for i in range(n):\n        yield a\n        a, b = b, a + b\n\nfor fibonacci_value in fibonacci_generator(10):\n    print(fibonacci_value, end=\" \")",
      "metadata": {
        "trusted": true
      },
      "execution_count": null,
      "outputs": []
    },
    {
      "cell_type": "code",
      "source": "# define a recursive function and then repeatedly call it to compute fibonacci numbers\ndef fibonacci_recursive(n: int) -> int:\n    if n == 0 or n == 1:\n        return 1\n    else:\n        return fibonacci_recursive(n-1) + fibonacci_recursive(n-2)\n\nfor i in range(10):\n    print(f\"fibonacci of {i} = {fibonacci_recursive(i)}\")",
      "metadata": {
        "trusted": true
      },
      "execution_count": null,
      "outputs": []
    },
    {
      "cell_type": "code",
      "source": "# Questions:\n# 1) How are these functions similar to and different from each other?\n# 2) Which approach is the easiest/hardest for you to understand? Why?\n# 3) Which approach do you think is the fastest to compute its output? Why?",
      "metadata": {
        "trusted": true
      },
      "execution_count": null,
      "outputs": []
    }
  ]
}