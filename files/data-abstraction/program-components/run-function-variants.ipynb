{
 "cells": [
  {
   "cell_type": "code",
   "execution_count": null,
   "metadata": {},
   "outputs": [],
   "source": [
    "# Demonstrate different ways to define and call a function in Python"
   ]
  },
  {
   "cell_type": "code",
   "execution_count": null,
   "metadata": {},
   "outputs": [],
   "source": [
    "# Technical Topics:\n",
    "\n",
    "# Conditional logic\n",
    "# Iterative functions\n",
    "# Recursive functions\n",
    "# Generator functions\n",
    "# Range function"
   ]
  },
  {
   "cell_type": "code",
   "execution_count": null,
   "metadata": {},
   "outputs": [],
   "source": [
    "# define and then call a recursive function for factorial computation\n",
    "def factorial(number: int) -> int:\n",
    "    if number == 1:\n",
    "        return 1\n",
    "    return number * factorial(number - 1)\n",
    "num = 5\n",
    "print(\"The factorial of \" + str(num) +\n",
    "        \" is \" + str(factorial(num)))"
   ]
  },
  {
   "cell_type": "code",
   "execution_count": null,
   "metadata": {},
   "outputs": [],
   "source": [
    "# define and then call an iterative function for factorial computation\n",
    "from typing import Tuple\n",
    "def fibonacci_tuple(n: int) -> Tuple[int]:\n",
    "    result = ( )\n",
    "    a = 1\n",
    "    b = 1\n",
    "    for i in range(n):\n",
    "        result += (a,)\n",
    "        a, b = b, a + b\n",
    "    return result\n",
    "\n",
    "for fibonacci_value in fibonacci_tuple(10):\n",
    "    print(fibonacci_value, end=\" \")"
   ]
  },
  {
   "cell_type": "code",
   "execution_count": null,
   "metadata": {},
   "outputs": [],
   "source": [
    "# define and then call an iterative function for factorial computation\n",
    "from typing import List\n",
    "def fibonacci_list(n: int) -> List[int]:\n",
    "    result = [  ]\n",
    "    a = 1\n",
    "    b = 1\n",
    "    for i in range(n):\n",
    "        result.append(a)\n",
    "        a, b = b, a + b\n",
    "    return result\n",
    "\n",
    "for fibonacci_value in fibonacci_list(10):\n",
    "    print(fibonacci_value, end=\" \")"
   ]
  },
  {
   "cell_type": "code",
   "execution_count": null,
   "metadata": {},
   "outputs": [],
   "source": [
    "# define and then call a generator function for factorial computation\n",
    "from typing import Iterator\n",
    "def fibonacci_generator(n: int) -> Iterator[int]:\n",
    "    a = 1\n",
    "    b = 1\n",
    "    for i in range(n):\n",
    "        yield a\n",
    "        a, b = b, a + b\n",
    "\n",
    "for fibonacci_value in fibonacci_generator(10):\n",
    "    print(fibonacci_value, end=\" \")"
   ]
  },
  {
   "cell_type": "code",
   "execution_count": null,
   "metadata": {},
   "outputs": [],
   "source": [
    "# define a recursive function and then repeatedly call it to compute fibonacci numbers\n",
    "def fibonacci_recursive(n: int) -> int:\n",
    "    if n == 0 or n == 1:\n",
    "        return 1\n",
    "    else:\n",
    "        return fibonacci_recursive(n-1) + fibonacci_recursive(n-2)\n",
    "\n",
    "for i in range(10):\n",
    "    print(f\"fibonacci of {i} = {fibonacci_recursive(i)}\")"
   ]
  },
  {
   "cell_type": "code",
   "execution_count": null,
   "metadata": {},
   "outputs": [],
   "source": [
    "# Summary Questions:\n",
    "\n",
    "# 1) How are these functions similar to and different from each other?\n",
    "# 2) Which approach is the easiest/hardest for you to understand? Why?\n",
    "# 3) Which approach do you think is the fastest to compute its output? Why?"
   ]
  }
 ],
 "metadata": {
  "kernelspec": {
   "display_name": "Python 3 (ipykernel)",
   "language": "python",
   "name": "python3"
  },
  "language_info": {
   "codemirror_mode": {
    "name": "ipython",
    "version": 3
   },
   "file_extension": ".py",
   "mimetype": "text/x-python",
   "name": "python",
   "nbconvert_exporter": "python",
   "pygments_lexer": "ipython3",
   "version": "3.10.5"
  },
  "toc-autonumbering": false,
  "toc-showcode": false,
  "toc-showmarkdowntxt": true
 },
 "nbformat": 4,
 "nbformat_minor": 4
}
