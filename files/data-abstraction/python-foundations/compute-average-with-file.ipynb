{
 "cells": [
  {
   "cell_type": "code",
   "execution_count": null,
   "metadata": {},
   "outputs": [],
   "source": [
    "# import the needed packages; this could take time\n",
    "# and perhaps produce a warning that does not\n",
    "# influence the correctness of the program\n",
    "import asyncio, js, io, IPython"
   ]
  },
  {
   "cell_type": "code",
   "execution_count": null,
   "metadata": {},
   "outputs": [],
   "source": [
    "# define the name of the storage database\n",
    "DB_NAME = \"JupyterLite Storage\""
   ]
  },
  {
   "cell_type": "code",
   "execution_count": null,
   "metadata": {},
   "outputs": [],
   "source": [
    "# access files in Jupyter Lite\n",
    "async def get_contents(path):\n",
    "    queue = asyncio.Queue(1)\n",
    "    IDBOpenDBRequest = js.self.indexedDB.open(DB_NAME)\n",
    "    IDBOpenDBRequest.onsuccess = IDBOpenDBRequest.onerror = queue.put_nowait\n",
    "    await queue.get()\n",
    "    if IDBOpenDBRequest.result is None:\n",
    "        return None\n",
    "    IDBTransaction = IDBOpenDBRequest.result.transaction(\"files\", \"readonly\")\n",
    "    IDBObjectStore = IDBTransaction.objectStore(\"files\")\n",
    "    IDBRequest = IDBObjectStore.get(path, \"key\")\n",
    "    IDBRequest.onsuccess = IDBRequest.onerror = queue.put_nowait\n",
    "    await queue.get()\n",
    "    return IDBRequest.result.to_py() if IDBRequest.result else None"
   ]
  },
  {
   "cell_type": "code",
   "execution_count": null,
   "metadata": {},
   "outputs": [],
   "source": [
    "# input the observation data and display the contents of the file\n",
    "observations = await get_contents(\"discrete-structures/making-connections/observations.txt\")\n",
    "observations_contents = observations['content'].split(\"\\n\")\n",
    "print(observations_contents)"
   ]
  },
  {
   "cell_type": "code",
   "execution_count": null,
   "metadata": {},
   "outputs": [],
   "source": [
    "# compute the average of the observations and\n",
    "# display the sum, the count, and the average\n",
    "sum = 0\n",
    "count = 0\n",
    "for observation in observations_contents:\n",
    "  n = int(observation)\n",
    "  sum += n\n",
    "  count += 1\n",
    "print(\"sum = \" + str(sum))\n",
    "print(\"count = \" + str(count))\n",
    "print(\"average = \" + str(sum/count))"
   ]
  }
 ],
 "metadata": {
  "kernelspec": {
   "display_name": "Python 3 (ipykernel)",
   "language": "python",
   "name": "python3"
  },
  "language_info": {
   "codemirror_mode": {
    "name": "ipython",
    "version": 3
   },
   "file_extension": ".py",
   "mimetype": "text/x-python",
   "name": "python",
   "nbconvert_exporter": "python",
   "pygments_lexer": "ipython3",
   "version": "3.10.2"
  },
  "toc-autonumbering": false,
  "toc-showcode": false,
  "toc-showmarkdowntxt": true
 },
 "nbformat": 4,
 "nbformat_minor": 4
}
