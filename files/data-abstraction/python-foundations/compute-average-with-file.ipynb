{
 "cells": [
  {
   "cell_type": "code",
   "execution_count": 5,
   "metadata": {},
   "outputs": [],
   "source": [
    "# Topic Summary:\n",
    "\n",
    "# File input with Pathlib Paths\n",
    "# String tokenization with split\n",
    "# Iteration with a for loop\n",
    "# Average computation\n",
    "# Data conversion with int() and str()"
   ]
  },
  {
   "cell_type": "code",
   "execution_count": 5,
   "metadata": {},
   "outputs": [
    {
     "name": "stdout",
     "output_type": "stream",
     "text": [
      "['5', '7', '9', '10', '12', '15']\n"
     ]
    }
   ],
   "source": [
    "# WORKS ON: Local Jupyter Lab Server or Local or Remote Jupyter Lite Server\n",
    "#\n",
    "# DOES NOT WORK ON: Google Colab\n",
    "\n",
    "# Read in the CSV file\n",
    "\n",
    "from pathlib import Path\n",
    "observations_path = Path(\"observations.txt\")\n",
    "observations_contents = observations_path.read_text()\n",
    "split_observations_contents = observations_contents.split(\"\\n\")\n",
    "print(split_observations_contents)"
   ]
  },
  {
   "cell_type": "code",
   "execution_count": 6,
   "metadata": {},
   "outputs": [
    {
     "name": "stdout",
     "output_type": "stream",
     "text": [
      "sum = 58\n",
      "count = 6\n",
      "average = 9.666666666666666\n"
     ]
    }
   ],
   "source": [
    "# compute the average of the observations and\n",
    "# display the sum, the count, and the average\n",
    "sum = 0\n",
    "count = 0\n",
    "for observation in split_observations_contents:\n",
    "  n = int(observation)\n",
    "  sum += n\n",
    "  count += 1\n",
    "print(\"sum = \" + str(sum))\n",
    "print(\"count = \" + str(count))\n",
    "print(\"average = \" + str(sum/count))"
   ]
  },
  {
   "cell_type": "code",
   "execution_count": null,
   "metadata": {},
   "outputs": [],
   "source": []
  }
 ],
 "metadata": {
  "kernelspec": {
   "display_name": "Python 3 (ipykernel)",
   "language": "python",
   "name": "python3"
  },
  "language_info": {
   "codemirror_mode": {
    "name": "ipython",
    "version": 3
   },
   "file_extension": ".py",
   "mimetype": "text/x-python",
   "name": "python",
   "nbconvert_exporter": "python",
   "pygments_lexer": "ipython3",
   "version": "3.10.1"
  },
  "toc-autonumbering": false,
  "toc-showcode": false,
  "toc-showmarkdowntxt": true
 },
 "nbformat": 4,
 "nbformat_minor": 4
}
