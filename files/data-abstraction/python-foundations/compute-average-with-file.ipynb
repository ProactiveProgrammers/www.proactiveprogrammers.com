{
 "cells": [
  {
   "cell_type": "code",
   "execution_count": null,
   "metadata": {},
   "outputs": [],
   "source": [
    "# Technical Topics:\n",
    "\n",
    "# File input with Pathlib Paths\n",
    "# String tokenization with split\n",
    "# Iteration with a for loop\n",
    "# Average computation\n",
    "# Data conversion with int() and str()"
   ]
  },
  {
   "cell_type": "code",
   "execution_count": null,
   "metadata": {},
   "outputs": [],
   "source": [
    "# WORKS ON: Local Jupyter Lab Server or Local or Remote Jupyter Lite Server\n",
    "#\n",
    "# DOES NOT WORK ON: Google Colab\n",
    "\n",
    "# Read in the CSV file\n",
    "\n",
    "from pathlib import Path\n",
    "observations_path = Path(\"observations.txt\")\n",
    "observations_contents = observations_path.read_text()\n",
    "split_observations_contents = observations_contents.split(\"\\n\")\n",
    "print(split_observations_contents)"
   ]
  },
  {
   "cell_type": "code",
   "execution_count": null,
   "metadata": {},
   "outputs": [],
   "source": [
    "# WORKS ON: Google Colab\n",
    "#\n",
    "# DOES NOT WORK ON: Local Jupyter Lab Server or Local or Remote Jupyter Lite Server\n",
    "\n",
    "# Read in the CSV file\n",
    "import pandas\n",
    "\n",
    "observations_data_frame = pandas.read_csv('https://raw.githubusercontent.com/ProactiveProgrammers/www.proactiveprogrammers.com/master/files/data-abstraction/python-foundations/observations.txt', header=None)\n",
    "split_observations_contents = observations_data_frame.iloc[:,0].tolist()\n",
    "print(split_observations_contents)"
   ]
  },
  {
   "cell_type": "code",
   "execution_count": null,
   "metadata": {},
   "outputs": [],
   "source": [
    "# NOTE: Either one of the two previous approaches for \n",
    "# file input should produce the correct split_observations_contents\n",
    "# variable that will enable the following source code to run\n",
    "\n",
    "# compute the average of the observations\n",
    "sum = 0\n",
    "count = 0\n",
    "for observation in split_observations_contents:\n",
    "  n = int(observation)\n",
    "  sum += n\n",
    "  count += 1\n",
    "\n",
    "# display the result of the computation\n",
    "print(\"sum = \" + str(sum))\n",
    "print(\"count = \" + str(count))\n",
    "print(\"average = \" + str(sum/count))"
   ]
  },
  {
   "cell_type": "code",
   "execution_count": null,
   "metadata": {},
   "outputs": [],
   "source": [
    "# Summary Questions:\n",
    "\n",
    "# 1. What are the similarities and differences between the two approaches to reading in the data from the file?\n",
    "# 2. What is the purpose of the int() and str() functions?\n",
    "# 3. Can you describe in a few sentences how to compute the average of a list of numbers?\n",
    "# 4. Based on what you have seen in this source code and read online, what is the purpose of a pathlib Path object?\n",
    "# 5. Based on what you have seen in this source code and read online, what is the purpose of a pandas data frame?"
   ]
  }
 ],
 "metadata": {
  "kernelspec": {
   "display_name": "Python 3 (ipykernel)",
   "language": "python",
   "name": "python3"
  },
  "language_info": {
   "codemirror_mode": {
    "name": "ipython",
    "version": 3
   },
   "file_extension": ".py",
   "mimetype": "text/x-python",
   "name": "python",
   "nbconvert_exporter": "python",
   "pygments_lexer": "ipython3",
   "version": "3.10.1"
  },
  "toc-autonumbering": false,
  "toc-showcode": false,
  "toc-showmarkdowntxt": true
 },
 "nbformat": 4,
 "nbformat_minor": 4
}
