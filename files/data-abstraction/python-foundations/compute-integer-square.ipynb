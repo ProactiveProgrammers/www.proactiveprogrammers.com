{
 "cells": [
  {
   "cell_type": "code",
   "execution_count": null,
   "id": "49cd6c46",
   "metadata": {},
   "outputs": [],
   "source": [
    "# Compute the Square of an Integer Value"
   ]
  },
  {
   "cell_type": "code",
   "execution_count": null,
   "metadata": {},
   "outputs": [],
   "source": [
    "# Technical Topics:\n",
    "\n",
    "# Define a function that accepts an input and produces an output\n",
    "# Iteration with either a while loop or a for loop\n",
    "# Calling a function and displaying its output\n",
    "# Formatted output with print and f-strings\n",
    "# Debugging a Python function to fix a problem"
   ]
  },
  {
   "cell_type": "code",
   "execution_count": null,
   "metadata": {},
   "outputs": [],
   "source": [
    "# define a function that does not correctly compute\n",
    "# the square of a number through the exclusive use\n",
    "# of iteration and addition\n",
    "def compute_square(value: int) -> int:\n",
    "    \"\"\"Square a number through iteration.\"\"\"\n",
    "    num_iterations = 0\n",
    "    answer = 0\n",
    "    while num_iterations < value:\n",
    "        answer = answer + value\n",
    "        num_iterations = num_iterations + 1\n",
    "    return answer"
   ]
  },
  {
   "cell_type": "code",
   "execution_count": null,
   "metadata": {},
   "outputs": [],
   "source": [
    "# attempt to compute the square of a number using\n",
    "# the previously defined function. Note that this\n",
    "# is calling the function with a positive number.\n",
    "# What would happen if it was called with a negative\n",
    "# number? Let's try that in the next cell, okay?\n",
    "value = 3\n",
    "value_squared = compute_square(value)\n",
    "print(f\"{value} * {value} = {value_squared}\")"
   ]
  },
  {
   "cell_type": "code",
   "execution_count": null,
   "metadata": {},
   "outputs": [],
   "source": [
    "# attempt to compute the square of a number using\n",
    "# the previously defined function. Note that this\n",
    "# is calling the function with a negative number.\n",
    "# Can you explain the output provided by this cell?\n",
    "value = -3\n",
    "value_squared = compute_square(value)\n",
    "print(f\"{value} * {value} = {value_squared}\")"
   ]
  },
  {
   "cell_type": "code",
   "execution_count": null,
   "metadata": {},
   "outputs": [],
   "source": [
    "# define a function that does correctly compute\n",
    "# the square of a number through the exclusive use\n",
    "# of iteration and addition\n",
    "def compute_square_for(value: int) -> int:\n",
    "    \"\"\"Square a number through iteration.\"\"\"\n",
    "    answer = 0\n",
    "    for _ in range(abs(value)):\n",
    "        answer = answer + abs(value)\n",
    "    return answer"
   ]
  },
  {
   "cell_type": "code",
   "execution_count": null,
   "metadata": {},
   "outputs": [],
   "source": [
    "# attempt to compute the square of a number using\n",
    "# the previously defined function. Note that this\n",
    "# is calling the function with a positive number.\n",
    "# What would happen if it was called with a negative\n",
    "# number? Let's try that in the next cell, okay?\n",
    "value = 3\n",
    "value_squared = compute_square_for(value)\n",
    "print(f\"{value} * {value} = {value_squared}\")"
   ]
  },
  {
   "cell_type": "code",
   "execution_count": null,
   "metadata": {},
   "outputs": [],
   "source": [
    "# attempt to compute the square of a number using\n",
    "# the previously defined function. Note that this\n",
    "# is calling the function with a negative number.\n",
    "# Can you explain the output provided by this cell?\n",
    "value = -3\n",
    "value_squared = compute_square_for(value)\n",
    "print(f\"{value} * {value} = {value_squared}\")"
   ]
  },
  {
   "cell_type": "code",
   "execution_count": null,
   "metadata": {},
   "outputs": [],
   "source": [
    "# Technical Tasks:\n",
    "\n",
    "# Provide your own implementation of a Jupyter notebook\n",
    "# cell that can call the **incorrect function** with a\n",
    "# different input. Make sure that you understand every\n",
    "# line of the source code that your write!"
   ]
  },
  {
   "cell_type": "code",
   "execution_count": null,
   "metadata": {},
   "outputs": [],
   "source": []
  },
  {
   "cell_type": "code",
   "execution_count": null,
   "metadata": {},
   "outputs": [],
   "source": [
    "# Technical Tasks:\n",
    "\n",
    "# Provide your own implementation of a Jupyter notebook\n",
    "# cell that can call the **correct function** with a\n",
    "# different input. Make sure that you understand every\n",
    "# line of the source code that your write!"
   ]
  },
  {
   "cell_type": "code",
   "execution_count": null,
   "metadata": {},
   "outputs": [],
   "source": []
  },
  {
   "cell_type": "code",
   "execution_count": null,
   "metadata": {},
   "outputs": [],
   "source": [
    "# Summary Questions:\n",
    "\n",
    "# 1. What was the defect in the provided function?\n",
    "# 2. How was the defect in the provided function ultimately fixed?\n",
    "# 3. Can you describe in a few sentences how to compute the square of a number?\n",
    "# 4. Based on what you have seen in this source code and read online, what is the purpose of a f strings in print()?\n",
    "# 5. Based on what you have seen in this source code and read online, what are other ways in which you can print a value?"
   ]
  },
  {
   "cell_type": "code",
   "execution_count": null,
   "id": "80800954",
   "metadata": {},
   "outputs": [],
   "source": []
  }
 ],
 "metadata": {
  "kernelspec": {
   "display_name": "Python 3 (ipykernel)",
   "language": "python",
   "name": "python3"
  },
  "language_info": {
   "codemirror_mode": {
    "name": "ipython",
    "version": 3
   },
   "file_extension": ".py",
   "mimetype": "text/x-python",
   "name": "python",
   "nbconvert_exporter": "python",
   "pygments_lexer": "ipython3",
   "version": "3.10.1"
  },
  "toc-autonumbering": false,
  "toc-showcode": false,
  "toc-showmarkdowntxt": true
 },
 "nbformat": 4,
 "nbformat_minor": 4
}
