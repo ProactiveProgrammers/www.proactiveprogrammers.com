{
  "metadata": {
    "kernelspec": {
      "name": "python",
      "display_name": "Pyolite",
      "language": "python"
    },
    "language_info": {
      "codemirror_mode": {
        "name": "python",
        "version": 3
      },
      "file_extension": ".py",
      "mimetype": "text/x-python",
      "name": "python",
      "nbconvert_exporter": "python",
      "pygments_lexer": "ipython3",
      "version": "3.8"
    },
    "toc-autonumbering": false,
    "toc-showcode": false,
    "toc-showmarkdowntxt": true
  },
  "nbformat_minor": 4,
  "nbformat": 4,
  "cells": [
    {
      "cell_type": "code",
      "source": "# define a function that does not correctly compute\n# the square of a number through the exclusive use\n# of iteration and addition\ndef compute_square(value: int) -> int:\n    \"\"\"Square a number through iteration.\"\"\"\n    num_iterations = 0\n    answer = 0\n    while num_iterations < value:\n        answer = answer + value\n        num_iterations = num_iterations + 1\n    return answer",
      "metadata": {
        "trusted": true
      },
      "execution_count": null,
      "outputs": []
    },
    {
      "cell_type": "code",
      "source": "# attempt to compute the square of a number using\n# the previously defined function. Note that this\n# is calling the function with a positive number.\n# What would happen if it was called with a negative\n# number? Let's try that in the next cell, okay?\nvalue = 3\nvalue_squared = compute_square(value)\nprint(f\"{value} * {value} = {value_squared}\")",
      "metadata": {
        "trusted": true
      },
      "execution_count": null,
      "outputs": []
    },
    {
      "cell_type": "code",
      "source": "# attempt to compute the square of a number using\n# the previously defined function. Note that this\n# is calling the function with a negative number.\n# Can you explain the output provided by this cell?\nvalue = -3\nvalue_squared = compute_square(value)\nprint(f\"{value} * {value} = {value_squared}\")",
      "metadata": {
        "trusted": true
      },
      "execution_count": null,
      "outputs": []
    },
    {
      "cell_type": "code",
      "source": "# define a function that does correctly compute\n# the square of a number through the exclusive use\n# of iteration and addition\ndef compute_square_for(value: int) -> int:\n    \"\"\"Square a number through iteration.\"\"\"\n    answer = 0\n    for _ in range(abs(value)):\n        answer = answer + abs(value)\n    return answer",
      "metadata": {
        "trusted": true
      },
      "execution_count": null,
      "outputs": []
    },
    {
      "cell_type": "code",
      "source": "# attempt to compute the square of a number using\n# the previously defined function. Note that this\n# is calling the function with a positive number.\n# What would happen if it was called with a negative\n# number? Let's try that in the next cell, okay?\nvalue = 3\nvalue_squared = compute_square_for(value)\nprint(f\"{value} * {value} = {value_squared}\")",
      "metadata": {
        "trusted": true
      },
      "execution_count": null,
      "outputs": []
    },
    {
      "cell_type": "code",
      "source": "# attempt to compute the square of a number using\n# the previously defined function. Note that this\n# is calling the function with a negative number.\n# Can you explain the output provided by this cell?\nvalue = -3\nvalue_squared = compute_square_for(value)\nprint(f\"{value} * {value} = {value_squared}\")",
      "metadata": {
        "trusted": true
      },
      "execution_count": null,
      "outputs": []
    },
    {
      "cell_type": "code",
      "source": "# Provide your own implementation of a Jupyter notebook\n# cell that can call the incorrect function with a\n# different input. Make sure that you understand every\n# line of the source code that your write!",
      "metadata": {
        "trusted": true
      },
      "execution_count": null,
      "outputs": []
    },
    {
      "cell_type": "code",
      "source": "",
      "metadata": {},
      "execution_count": null,
      "outputs": []
    },
    {
      "cell_type": "code",
      "source": "# Provide your own implementation of a Jupyter notebook\n# cell that can call the incorrect function with a\n# different input. Make sure that you understand every\n# line of the source code that your write!",
      "metadata": {},
      "execution_count": null,
      "outputs": []
    },
    {
      "cell_type": "code",
      "source": "",
      "metadata": {},
      "execution_count": null,
      "outputs": []
    }
  ]
}