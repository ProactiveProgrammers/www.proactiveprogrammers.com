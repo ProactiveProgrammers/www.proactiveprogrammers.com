{
 "cells": [
  {
   "cell_type": "code",
   "execution_count": null,
   "metadata": {},
   "outputs": [],
   "source": [
    "# Perform Comparisons of Data Values"
   ]
  },
  {
   "cell_type": "code",
   "execution_count": null,
   "metadata": {},
   "outputs": [],
   "source": [
    "# Technical Topics:\n",
    "\n",
    "# Define a function that accepts an input and produces an output\n",
    "# Conditional logic through the use of an if-else statement\n",
    "# Calling a function and displaying its output\n",
    "# Formatted output with print and f-strings"
   ]
  },
  {
   "cell_type": "code",
   "execution_count": null,
   "metadata": {},
   "outputs": [],
   "source": [
    "# define a function that can determine if a number\n",
    "# is even or odd using modular arithmetic;\n",
    "# make sure that you can explain in your own\n",
    "# words what each line of this source code does!\n",
    "def determine_even_odd(value: int) -> str:\n",
    "    \"\"\"Determine if a number is even or odd.\"\"\"\n",
    "    if value % 2 == 0:\n",
    "        return \"even\"\n",
    "    else:\n",
    "        return \"odd\""
   ]
  },
  {
   "cell_type": "code",
   "execution_count": null,
   "metadata": {},
   "outputs": [],
   "source": [
    "# determine if the number 10 is an even or an odd number\n",
    "# by calling the function and displaying the result\n",
    "number = 10\n",
    "response = determine_even_odd(number)\n",
    "print(f\"The number of {number} is {response}!\")"
   ]
  },
  {
   "cell_type": "code",
   "execution_count": null,
   "metadata": {},
   "outputs": [],
   "source": [
    "# determine if the number -10 is an even or an odd number\n",
    "# by calling the function and displaying the result\n",
    "number = -10\n",
    "response = determine_even_odd(number)\n",
    "print(f\"The number of {number} is {response}!\")"
   ]
  },
  {
   "cell_type": "code",
   "execution_count": null,
   "metadata": {},
   "outputs": [],
   "source": [
    "# determine if the number 0 is an even or an odd number\n",
    "# by calling the function and displaying the result\n",
    "number = 0\n",
    "response = determine_even_odd(number)\n",
    "print(f\"The number of {number} is {response}!\")"
   ]
  },
  {
   "cell_type": "code",
   "execution_count": null,
   "metadata": {},
   "outputs": [],
   "source": [
    "# determine if the number -0 is an even or an odd number\n",
    "# by calling the function and displaying the result\n",
    "number = -0\n",
    "response = determine_even_odd(number)\n",
    "print(f\"The number of {number} is {response}!\")"
   ]
  },
  {
   "cell_type": "code",
   "execution_count": null,
   "metadata": {},
   "outputs": [],
   "source": [
    "# determine if the number 11 is an even or an odd number\n",
    "# by calling the function and displaying the result\n",
    "number = 11\n",
    "response = determine_even_odd(number)\n",
    "print(f\"The number of {number} is {response}!\")"
   ]
  },
  {
   "cell_type": "code",
   "execution_count": null,
   "metadata": {},
   "outputs": [],
   "source": [
    "# determine if the number -11 is an even or an odd number\n",
    "# by calling the function and displaying the result\n",
    "number = -11\n",
    "response = determine_even_odd(number)\n",
    "print(f\"The number of {number} is {response}!\")"
   ]
  },
  {
   "cell_type": "code",
   "execution_count": null,
   "metadata": {},
   "outputs": [],
   "source": [
    "# Technical Tasks:\n",
    "\n",
    "# Provide your own implementation of a Jupyter notebook\n",
    "# cell that can determine if a different number than one\n",
    "# of those already chosen is even or odd. Make sure that\n",
    "# you understand every line of source code that you write!"
   ]
  },
  {
   "cell_type": "code",
   "execution_count": null,
   "metadata": {},
   "outputs": [],
   "source": []
  },
  {
   "cell_type": "code",
   "execution_count": null,
   "metadata": {},
   "outputs": [],
   "source": [
    "# Summary Questions:\n",
    "\n",
    "# 1. Can you describe in a few sentences how to determine if a number is even or odd?\n",
    "# 2. What is the meaning of the source code statement \"def determine_even_odd(value: int) -> str:\"?\n",
    "# 3. What steps do you need to take when you want to call a function and capture its return value?"
   ]
  },
  {
   "cell_type": "code",
   "execution_count": null,
   "metadata": {},
   "outputs": [],
   "source": []
  }
 ],
 "metadata": {
  "kernelspec": {
   "display_name": "Python 3 (ipykernel)",
   "language": "python",
   "name": "python3"
  },
  "language_info": {
   "codemirror_mode": {
    "name": "ipython",
    "version": 3
   },
   "file_extension": ".py",
   "mimetype": "text/x-python",
   "name": "python",
   "nbconvert_exporter": "python",
   "pygments_lexer": "ipython3",
   "version": "3.10.5"
  },
  "toc-autonumbering": false,
  "toc-showcode": false,
  "toc-showmarkdowntxt": true
 },
 "nbformat": 4,
 "nbformat_minor": 4
}
