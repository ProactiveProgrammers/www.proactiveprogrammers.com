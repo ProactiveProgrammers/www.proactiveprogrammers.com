{
  "metadata": {
    "kernelspec": {
      "name": "python",
      "display_name": "Pyolite",
      "language": "python"
    },
    "language_info": {
      "codemirror_mode": {
        "name": "python",
        "version": 3
      },
      "file_extension": ".py",
      "mimetype": "text/x-python",
      "name": "python",
      "nbconvert_exporter": "python",
      "pygments_lexer": "ipython3",
      "version": "3.8"
    },
    "toc-autonumbering": false,
    "toc-showcode": false,
    "toc-showmarkdowntxt": true
  },
  "nbformat_minor": 4,
  "nbformat": 4,
  "cells": [
    {
      "cell_type": "code",
      "source": "# define a function that can determine if a number\n# is even or odd using modular arithmetic;\n# make sure that you can explain in your own\n# words what each line of this source code does!\ndef determine_even_odd(value: int) -> str:\n    \"\"\"Determine if a number is even or odd.\"\"\"\n    if value % 2 == 0:\n        return \"even\"\n    else:\n        return \"odd\"",
      "metadata": {
        "trusted": true
      },
      "execution_count": null,
      "outputs": []
    },
    {
      "cell_type": "code",
      "source": "# determine if the number 10 is an even or an odd number\n# by calling the function and displaying the result\nnumber = 10\nresponse = determine_even_odd(number)\nprint(f\"The number of {number} is {response}!\")",
      "metadata": {
        "trusted": true
      },
      "execution_count": null,
      "outputs": []
    },
    {
      "cell_type": "code",
      "source": "# determine if the number -10 is an even or an odd number\n# by calling the function and displaying the result\nnumber = -10\nresponse = determine_even_odd(number)\nprint(f\"The number of {number} is {response}!\")",
      "metadata": {
        "trusted": true
      },
      "execution_count": null,
      "outputs": []
    },
    {
      "cell_type": "code",
      "source": "# determine if the number 0 is an even or an odd number\n# by calling the function and displaying the result\nnumber = 0\nresponse = determine_even_odd(number)\nprint(f\"The number of {number} is {response}!\")",
      "metadata": {
        "trusted": true
      },
      "execution_count": null,
      "outputs": []
    },
    {
      "cell_type": "code",
      "source": "# determine if the number -0 is an even or an odd number\n# by calling the function and displaying the result\nnumber = -0\nresponse = determine_even_odd(number)\nprint(f\"The number of {number} is {response}!\")",
      "metadata": {
        "trusted": true
      },
      "execution_count": null,
      "outputs": []
    },
    {
      "cell_type": "code",
      "source": "# determine if the number 11 is an even or an odd number\n# by calling the function and displaying the result\nnumber = 11\nresponse = determine_even_odd(number)\nprint(f\"The number of {number} is {response}!\")",
      "metadata": {
        "trusted": true
      },
      "execution_count": null,
      "outputs": []
    },
    {
      "cell_type": "code",
      "source": "# determine if the number -11 is an even or an odd number\n# by calling the function and displaying the result\nnumber = -11\nresponse = determine_even_odd(number)\nprint(f\"The number of {number} is {response}!\")",
      "metadata": {
        "trusted": true
      },
      "execution_count": null,
      "outputs": []
    },
    {
      "cell_type": "code",
      "source": "# Provide your own implementation of a Jupyter notebook\n# cell that can determine if a different number than one\n# of those already chosen is even or odd. Make sure that\n# you understand every line of source code that you write!",
      "metadata": {
        "trusted": true
      },
      "execution_count": null,
      "outputs": []
    },
    {
      "cell_type": "code",
      "source": "",
      "metadata": {},
      "execution_count": null,
      "outputs": []
    }
  ]
}