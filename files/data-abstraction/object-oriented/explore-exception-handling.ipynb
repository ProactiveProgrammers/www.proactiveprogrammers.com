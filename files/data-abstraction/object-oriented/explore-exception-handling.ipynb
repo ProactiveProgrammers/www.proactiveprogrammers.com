{
 "cells": [
  {
   "cell_type": "code",
   "execution_count": null,
   "metadata": {},
   "outputs": [],
   "source": [
    "# Explore and understand how to use exception handling in the Python programming language"
   ]
  },
  {
   "cell_type": "code",
   "execution_count": null,
   "metadata": {},
   "outputs": [],
   "source": [
    "# Technical Topics:\n",
    "\n",
    "# Type annotations\n",
    "# Ratios between two numbers\n",
    "# Exception handling\n",
    "# Object-oriented programming\n",
    "# List data container"
   ]
  },
  {
   "cell_type": "code",
   "execution_count": null,
   "metadata": {},
   "outputs": [],
   "source": [
    "# define a function that computes the ratios of the floats\n",
    "# inside of two input lists and then creates an output list\n",
    "from typing import List\n",
    "\n",
    "def get_ratios(one: List, two: List) -> List[float]:\n",
    "    ratios = []\n",
    "    for index in range(len(one)):\n",
    "        try:\n",
    "            ratios.append(one[index] / two[index])\n",
    "        except ZeroDivisionError:\n",
    "            ratios.append(float('nan'))\n",
    "        except:\n",
    "            raise ValueError(\"Incorrect arguments\")\n",
    "    return ratios"
   ]
  },
  {
   "cell_type": "code",
   "execution_count": null,
   "metadata": {},
   "outputs": [],
   "source": [
    "# run the get_ratios function with exception handling\n",
    "try:\n",
    "    print(get_ratios([1, 2, 7, 6], [1, 2, 0, 3]))\n",
    "    print(get_ratios([], []))\n",
    "    print(get_ratios([1, 2, 7], [1, 2, 10, 3]))\n",
    "    print(get_ratios([1, 2, 7, 6], [1, 2, 10]))\n",
    "except ValueError as message:\n",
    "    print(message)"
   ]
  },
  {
   "cell_type": "code",
   "execution_count": null,
   "metadata": {},
   "outputs": [],
   "source": [
    "# run the get_ratios function without exception handling\n",
    "print(get_ratios([1, 2, 7, 6], [1, 2, 0, 3]))\n",
    "print(get_ratios([], []))\n",
    "print(get_ratios([1, 2, 7], [1, 2, 10, 3]))\n",
    "print(get_ratios([1, 2, 7, 6], [1, 2, 10]))"
   ]
  },
  {
   "cell_type": "code",
   "execution_count": null,
   "metadata": {},
   "outputs": [],
   "source": [
    "# define a person class and all of the components that go along with the class\n",
    "from typing import List\n",
    "\n",
    "class Person:\n",
    "    \"\"\"Define a Person class.\"\"\"\n",
    "\n",
    "    def __init__(\n",
    "        self, name: str, country: str, phone_number: str, job: str, email: str\n",
    "    ) -> None:\n",
    "        \"\"\"Define the constructor for a person.\"\"\"\n",
    "        self.name = name\n",
    "        self.country = country\n",
    "        self.phone_number = phone_number\n",
    "        self.job = job\n",
    "        self.email = email\n",
    "\n",
    "    def __repr__(self) -> str:\n",
    "        \"\"\"Return a textual representation of the person.\"\"\"\n",
    "        return f\"{self.name} is a {self.job} who lives in {self.country}. You can call this person at {self.phone_number} and email them at {self.email}\"\n",
    "\n",
    "    def create_list(self) -> List[str]:\n",
    "        \"\"\"Create a list of strings representing the person.\"\"\"\n",
    "        details = []\n",
    "        details.append(self.name)\n",
    "        details.append(self.country)\n",
    "        details.append(self.phone_number)\n",
    "        details.append(self.job)\n",
    "        details.append(self.email)\n",
    "        return details"
   ]
  },
  {
   "cell_type": "code",
   "execution_count": null,
   "metadata": {},
   "outputs": [],
   "source": [
    "# create an instance of the person class and then display their textual representation\n",
    "courtney_rice = Person(\"Courtney Rice\", \"Kenya\", \"0946592841\", \"Clinical Scientist\", \"coreycarter@example.org\")\n",
    "print(courtney_rice)"
   ]
  },
  {
   "cell_type": "code",
   "execution_count": null,
   "metadata": {},
   "outputs": [],
   "source": [
    "# create a list of the contents of the person and display the contents of the list\n",
    "courtney_rice_list = courtney_rice.create_list()\n",
    "print(courtney_rice_list)"
   ]
  },
  {
   "cell_type": "code",
   "execution_count": 16,
   "metadata": {},
   "outputs": [],
   "source": [
    "# Technical Task: create as least one additional instance of the People class and display their contents\n",
    "# Technical Task: create a list of the contents of the person and display the contents of the list"
   ]
  },
  {
   "cell_type": "code",
   "execution_count": null,
   "metadata": {},
   "outputs": [],
   "source": [
    "# define a Dog class, create instances of the Dog class, and then display their contents\n",
    "class Dog:\n",
    "    species = \"Canis familiaris\"\n",
    "\n",
    "    def __init__(self, name, age):\n",
    "        self.name = name\n",
    "        self.age = age\n",
    "\n",
    "miles = Dog(\"Miles\", 4)\n",
    "bosco = Dog(\"Bosco\", 8)\n",
    "print(miles)\n",
    "print(bosco)"
   ]
  },
  {
   "cell_type": "code",
   "execution_count": null,
   "metadata": {},
   "outputs": [],
   "source": [
    "# Summary Questions:\n",
    "# 1) What are the key ways in which Python supports exception handling?\n",
    "# 2) What are the benefits associated with using exception handling in Python?\n",
    "# 3) What is one circumstance in which the ratios source code will throw an exception?\n",
    "# 4) What are the trade-offs associated with using objects in Python programs?\n",
    "# 5) What is the connection between a class and an object in a Python program?"
   ]
  },
  {
   "cell_type": "code",
   "execution_count": null,
   "metadata": {},
   "outputs": [],
   "source": [
    "# Technical Task: define a textual representation of the Dog class in the same fashion as was done for the People class"
   ]
  }
 ],
 "metadata": {
  "kernelspec": {
   "display_name": "Python 3 (ipykernel)",
   "language": "python",
   "name": "python3"
  },
  "language_info": {
   "codemirror_mode": {
    "name": "ipython",
    "version": 3
   },
   "file_extension": ".py",
   "mimetype": "text/x-python",
   "name": "python",
   "nbconvert_exporter": "python",
   "pygments_lexer": "ipython3",
   "version": "3.10.5"
  },
  "toc-autonumbering": false,
  "toc-showcode": false,
  "toc-showmarkdowntxt": true
 },
 "nbformat": 4,
 "nbformat_minor": 4
}
