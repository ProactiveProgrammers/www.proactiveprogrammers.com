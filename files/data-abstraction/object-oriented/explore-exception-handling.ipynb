{
  "metadata": {
    "kernelspec": {
      "name": "python",
      "display_name": "Pyolite",
      "language": "python"
    },
    "language_info": {
      "codemirror_mode": {
        "name": "python",
        "version": 3
      },
      "file_extension": ".py",
      "mimetype": "text/x-python",
      "name": "python",
      "nbconvert_exporter": "python",
      "pygments_lexer": "ipython3",
      "version": "3.8"
    },
    "toc-autonumbering": false,
    "toc-showcode": false,
    "toc-showmarkdowntxt": true
  },
  "nbformat_minor": 4,
  "nbformat": 4,
  "cells": [
    {
      "cell_type": "code",
      "source": "# define a function that computes the ratios of the floats\n# inside of two input lists and then creates an output list\nfrom typing import List\n\ndef get_ratios(one: List, two: List) -> List[float]:\n    ratios = []\n    for index in range(len(one)):\n        try:\n            ratios.append(one[index] / two[index])\n        except ZeroDivisionError:\n            ratios.append(float('nan'))\n        except:\n            raise ValueError(\"Incorrect arguments\")\n    return ratios",
      "metadata": {
        "trusted": true
      },
      "execution_count": null,
      "outputs": []
    },
    {
      "cell_type": "code",
      "source": "# run the get_ratios function with exception handling\ntry:\n    print(get_ratios([1, 2, 7, 6], [1, 2, 0, 3]))\n    print(get_ratios([], []))\n    print(get_ratios([1, 2, 7], [1, 2, 10, 3]))\n    print(get_ratios([1, 2, 7, 6], [1, 2, 10]))\nexcept ValueError as message:\n    print(message)",
      "metadata": {
        "trusted": true
      },
      "execution_count": null,
      "outputs": []
    },
    {
      "cell_type": "code",
      "source": "# run the get_ratios function without exception handling\nprint(get_ratios([1, 2, 7, 6], [1, 2, 0, 3]))\nprint(get_ratios([], []))\nprint(get_ratios([1, 2, 7], [1, 2, 10, 3]))\nprint(get_ratios([1, 2, 7, 6], [1, 2, 10]))",
      "metadata": {
        "trusted": true
      },
      "execution_count": null,
      "outputs": []
    },
    {
      "cell_type": "code",
      "source": "# define a person class and all of the components that go along with the class\nfrom typing import List\n\nclass Person:\n    \"\"\"Define a Person class.\"\"\"\n\n    def __init__(\n        self, name: str, country: str, phone_number: str, job: str, email: str\n    ) -> None:\n        \"\"\"Define the constructor for a person.\"\"\"\n        self.name = name\n        self.country = country\n        self.phone_number = phone_number\n        self.job = job\n        self.email = email\n\n    def __repr__(self) -> str:\n        \"\"\"Return a textual representation of the person.\"\"\"\n        return f\"{self.name} is a {self.job} who lives in {self.country}. You can call this person at {self.phone_number} and email them at {self.email}\"\n\n    def create_list(self) -> List[str]:\n        \"\"\"Create a list of strings representing the person.\"\"\"\n        details = []\n        details.append(self.name)\n        details.append(self.country)\n        details.append(self.phone_number)\n        details.append(self.job)\n        details.append(self.email)\n        return details",
      "metadata": {
        "trusted": true
      },
      "execution_count": null,
      "outputs": []
    },
    {
      "cell_type": "code",
      "source": "# create an instance of the person class and then display their textual representation\ncourtney_rice = Person(\"Courtney Rice\", \"Kenya\", \"0946592841\", \"Clinical Scientist\", \"coreycarter@example.org\")\nprint(courtney_rice)",
      "metadata": {
        "trusted": true
      },
      "execution_count": null,
      "outputs": []
    },
    {
      "cell_type": "code",
      "source": "# create a list of the contents of the person and display the contents of the list\ncourtney_rice_list = courtney_rice.create_list()\nprint(courtney_rice_list)",
      "metadata": {
        "trusted": true
      },
      "execution_count": null,
      "outputs": []
    },
    {
      "cell_type": "code",
      "source": "# Task: create as least one additional instance of the People class and display their contents\n# Task: create a list of the contents of the person and display the contents of the list",
      "metadata": {
        "trusted": true
      },
      "execution_count": 16,
      "outputs": []
    },
    {
      "cell_type": "code",
      "source": "# define a Dog class, create instances of the Dog class, and then display their contents\nclass Dog:\n    species = \"Canis familiaris\"\n\n    def __init__(self, name, age):\n        self.name = name\n        self.age = age\n\nmiles = Dog(\"Miles\", 4)\nbosco = Dog(\"Bosco\", 8)\nprint(miles)\nprint(bosco)",
      "metadata": {
        "trusted": true
      },
      "execution_count": null,
      "outputs": []
    },
    {
      "cell_type": "code",
      "source": "# Task: define a textual representation of the Dog class in the same fashion as was done for the People class",
      "metadata": {},
      "execution_count": null,
      "outputs": []
    }
  ]
}