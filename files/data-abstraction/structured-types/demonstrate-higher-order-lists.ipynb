{
 "cells": [
  {
   "cell_type": "code",
   "execution_count": null,
   "metadata": {},
   "outputs": [],
   "source": [
    "# Demonstrate the Use of a Higher-Order Function that Applies a Function to Every Element of a List"
   ]
  },
  {
   "cell_type": "code",
   "execution_count": null,
   "metadata": {},
   "outputs": [],
   "source": [
    "# Technical Topics:\n",
    "\n",
    "# Type annotations for functions\n",
    "# Functions that accept variables as arguments\n",
    "# Functions that accepts functions as arguments\n",
    "# Calling a function and displaying its output\n",
    "# Import statements in Python programs"
   ]
  },
  {
   "cell_type": "code",
   "execution_count": null,
   "metadata": {},
   "outputs": [],
   "source": [
    "# define a function that can apply a provided\n",
    "# function to each element in the list to change\n",
    "def apply_to_each(list_to_change, function):\n",
    "    for i in range(len(list_to_change)):\n",
    "        list_to_change[i] = function(list_to_change[i])"
   ]
  },
  {
   "cell_type": "code",
   "execution_count": null,
   "metadata": {},
   "outputs": [],
   "source": [
    "values = [1, -2, 3.33]\n",
    "print(\"values =\", values)\n",
    "apply_to_each(values, abs)\n",
    "print(\"values =\", values)"
   ]
  },
  {
   "cell_type": "code",
   "execution_count": null,
   "metadata": {},
   "outputs": [],
   "source": [
    "# Summary Questions:\n",
    "\n",
    "# 1) What is the input of the above source code segments?\n",
    "# 2) What is the output of the above source code segments?\n",
    "# 3) What is the behavior of the function called apply_to_each?\n",
    "# 4) What are the benefits of using higher-order functions in Python?\n",
    "# 5) How does this higher-order function use/change the input list?"
   ]
  },
  {
   "cell_type": "code",
   "execution_count": null,
   "metadata": {},
   "outputs": [],
   "source": []
  },
  {
   "cell_type": "code",
   "execution_count": 1,
   "metadata": {},
   "outputs": [],
   "source": [
    "# Technical Task: Add different calls to apply_to_each using different\n",
    "# mathematical functions that are available in Python. Please\n",
    "# see the course slides for additional examples to try!\n",
    "\n",
    "# Reference to the Course Schedule:\n",
    "# https://proactiveprogrammers.com/data-abstraction/schedule-data-abstraction/"
   ]
  },
  {
   "cell_type": "code",
   "execution_count": null,
   "metadata": {},
   "outputs": [],
   "source": []
  }
 ],
 "metadata": {
  "kernelspec": {
   "display_name": "Python 3 (ipykernel)",
   "language": "python",
   "name": "python3"
  },
  "language_info": {
   "codemirror_mode": {
    "name": "ipython",
    "version": 3
   },
   "file_extension": ".py",
   "mimetype": "text/x-python",
   "name": "python",
   "nbconvert_exporter": "python",
   "pygments_lexer": "ipython3",
   "version": "3.10.5"
  },
  "toc-autonumbering": false,
  "toc-showcode": false,
  "toc-showmarkdowntxt": true
 },
 "nbformat": 4,
 "nbformat_minor": 4
}
