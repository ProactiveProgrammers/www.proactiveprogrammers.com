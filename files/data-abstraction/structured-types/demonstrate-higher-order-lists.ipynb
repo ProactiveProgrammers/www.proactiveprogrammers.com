{
  "metadata": {
    "kernelspec": {
      "name": "python",
      "display_name": "Pyolite",
      "language": "python"
    },
    "language_info": {
      "codemirror_mode": {
        "name": "python",
        "version": 3
      },
      "file_extension": ".py",
      "mimetype": "text/x-python",
      "name": "python",
      "nbconvert_exporter": "python",
      "pygments_lexer": "ipython3",
      "version": "3.8"
    },
    "toc-autonumbering": false,
    "toc-showcode": false,
    "toc-showmarkdowntxt": true
  },
  "nbformat_minor": 4,
  "nbformat": 4,
  "cells": [
    {
      "cell_type": "code",
      "source": "from typing import Callable\n\n# define a function that can square a number;\n# use print statements for the purposes of\n# debugging so that the behavior of this\n# function and the next function are most clear\ndef square(number: int) -> int:\n    print(f\"Called square({number})\")\n    print(f\"  returning {number*number}\")\n    return number * number\n\n\n# define a higher-order function that can accept a function\n# as input and a number as input and then call the provided\n# function with the provided input; again, use print\n# statements for the purposes of debugging so that the\n# behavior of this function is most clear\ndef call_twice(f: Callable[[int], int], number: int) -> int:\n    print(f\"Calling twice {f} with number {number}\")\n    return f(f(number))",
      "metadata": {
        "trusted": true
      },
      "execution_count": null,
      "outputs": []
    },
    {
      "cell_type": "code",
      "source": "num = 5\nresult = call_twice(square, num)\nprint(\"Calling the square twice with \" + str(num) + \" is \" + str(result))",
      "metadata": {
        "trusted": true
      },
      "execution_count": null,
      "outputs": []
    },
    {
      "cell_type": "code",
      "source": "# define a source code segment that can calculate\n# the square root of a number using an iterative\n# approach and this display the best guess\nnum = 5\nresult = num ** 4\nprint(\"Checking the computation of square twice as \" + str(num) + \" is \" + str(result))",
      "metadata": {
        "trusted": true
      },
      "execution_count": null,
      "outputs": []
    },
    {
      "cell_type": "code",
      "source": "# Questions:\n# 1) What is the input of the above source code segments?\n# 2) What is the ouptut of the above source code segments?\n# 3) What is the meaning of the <function square at [...]> notation?\n# 4) What is the meaning of def call_twice(f: Callable[[int], int], number: int) -> int notation?\n# 5) What are the benefits of using higher-order functions in Python?",
      "metadata": {
        "trusted": true
      },
      "execution_count": null,
      "outputs": []
    },
    {
      "cell_type": "code",
      "source": "# Task: Call the call_twice function with different inputs\n# and confirm that it produces the correct output.\n# For instance, can you implement a cube function and then\n# pass that as input to the call_twice function?",
      "metadata": {
        "trusted": true
      },
      "execution_count": null,
      "outputs": []
    }
  ]
}