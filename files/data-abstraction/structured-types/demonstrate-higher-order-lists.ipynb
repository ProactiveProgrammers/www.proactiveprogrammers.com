{
  "metadata": {
    "kernelspec": {
      "name": "python",
      "display_name": "Pyolite",
      "language": "python"
    },
    "language_info": {
      "codemirror_mode": {
        "name": "python",
        "version": 3
      },
      "file_extension": ".py",
      "mimetype": "text/x-python",
      "name": "python",
      "nbconvert_exporter": "python",
      "pygments_lexer": "ipython3",
      "version": "3.8"
    },
    "toc-autonumbering": false,
    "toc-showcode": false,
    "toc-showmarkdowntxt": true
  },
  "nbformat_minor": 4,
  "nbformat": 4,
  "cells": [
    {
      "cell_type": "code",
      "source": "# define a function that can apply a provided\n# function to each element in the list to change\ndef apply_to_each(list_to_change, function):\n    for i in range(len(list_to_change)):\n        list_to_change[i] = function(list_to_change[i])",
      "metadata": {
        "trusted": true
      },
      "execution_count": null,
      "outputs": []
    },
    {
      "cell_type": "code",
      "source": "values = [1, -2, 3.33]\nprint(\"values =\", values)\napply_to_each(values, abs)\nprint(\"values =\", values)",
      "metadata": {
        "trusted": true
      },
      "execution_count": null,
      "outputs": []
    },
    {
      "cell_type": "code",
      "source": "# Questions:\n# 1) What is the input of the above source code segments?\n# 2) What is the output of the above source code segments?\n# 3) What is the behavior of the function called apply_to_each?\n# 4) What are the benefits of using higher-order functions in Python?\n# 5) How does this higher order function use/change the input list?",
      "metadata": {
        "trusted": true
      },
      "execution_count": null,
      "outputs": []
    },
    {
      "cell_type": "code",
      "source": "# Task: Add different calls to apply_to_each using different\n# mathematical functions that are available in Python. Please\n# see the course slides for additional examples to try!",
      "metadata": {
        "trusted": true
      },
      "execution_count": null,
      "outputs": []
    }
  ]
}