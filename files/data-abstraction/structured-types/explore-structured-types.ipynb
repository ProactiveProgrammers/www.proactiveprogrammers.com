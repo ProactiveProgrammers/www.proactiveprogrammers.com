{
 "cells": [
  {
   "cell_type": "code",
   "execution_count": null,
   "metadata": {},
   "outputs": [],
   "source": [
    "# Demonstrate the Use of a Wide Variety of Structured Types in the Python Programming Language"
   ]
  },
  {
   "cell_type": "code",
   "execution_count": null,
   "metadata": {},
   "outputs": [],
   "source": [
    "# Perform intersections with tuples of values\n",
    "#\n",
    "# define a function that uses a single\n",
    "# for loop to compute the intersection of\n",
    "# the two input tuples\n",
    "def intersect(tuple_one, tuple_two):\n",
    "    result = ()\n",
    "    for element in tuple_one:\n",
    "        if element in tuple_two:\n",
    "            result += (element,)\n",
    "    return result"
   ]
  },
  {
   "cell_type": "code",
   "execution_count": null,
   "metadata": {},
   "outputs": [],
   "source": [
    "# create two tuples and then compute their intersection\n",
    "first_tuple = (1, \"a\", 2)\n",
    "second_tuple = (\"b\", 2, \"a\")\n",
    "intersection_tuple_one = intersect(first_tuple, second_tuple)\n",
    "intersection_tuple_two = intersect(second_tuple, first_tuple)\n",
    "print(f\"Intersection of {first_tuple} with {second_tuple} is {intersection_tuple_one}\")\n",
    "print(f\"Intersection of {second_tuple} with {first_tuple} is {intersection_tuple_two}\")"
   ]
  },
  {
   "cell_type": "code",
   "execution_count": null,
   "metadata": {},
   "outputs": [],
   "source": [
    "# Create lists using either comprehensions or iteration constructs\n",
    "#\n",
    "# define a list comprehension and show the output that it produces\n",
    "list_comprehension = [(x, y) for x in range(6) if x % 2 == 0 for y in range(6) if y % 3 == 0]\n",
    "print(list_comprehension)"
   ]
  },
  {
   "cell_type": "code",
   "execution_count": null,
   "metadata": {},
   "outputs": [],
   "source": [
    "# define an empty list and then populate it with two-tuples of values\n",
    "list_builder = []\n",
    "for x in range(6):\n",
    "    if x % 2 == 0:\n",
    "        for y in range(6):\n",
    "            if y % 3 == 0:\n",
    "                list_builder.append((x, y))\n",
    "print(list_builder)"
   ]
  },
  {
   "cell_type": "code",
   "execution_count": null,
   "metadata": {},
   "outputs": [],
   "source": [
    "# Note that both of the two approaches to creating the list should\n",
    "# produce the same output! If they do not, please review the code and\n",
    "# confirm that you correctly ran the cells in this Jupyter Notebook."
   ]
  },
  {
   "cell_type": "code",
   "execution_count": null,
   "metadata": {},
   "outputs": [],
   "source": [
    "# Create sets in Python and learn how they store immutable elements\n",
    "#\n",
    "# create a set that contains data variables with different types\n",
    "different_data_types_set = {53, 'pencil', (1, 1, 2, 3, 5), 3.14159}\n",
    "\n",
    "print(\"Set defined with a multiple types:\")\n",
    "print(different_data_types_set)"
   ]
  },
  {
   "cell_type": "code",
   "execution_count": null,
   "metadata": {},
   "outputs": [],
   "source": [
    "# create a list from the set and demonstrate the fact that an error occurs\n",
    "different_data_types_list = [53, 'pencil', (1, 1, 2, 3, 5), 3.14159]\n",
    "new_different_data_types_set = {different_data_types_list}"
   ]
  },
  {
   "cell_type": "code",
   "execution_count": null,
   "metadata": {},
   "outputs": [],
   "source": [
    "# Summary Questions: \n",
    "\n",
    "# 1) What does the TypeError mean when it explains that the `list` type is unhashable?\n",
    "# 2) What are some examples of data types in the Python language that are unhashable?\n",
    "# 3) What is the relationship between mutable data types and unhashable data types?\n",
    "#    Suggestion: Search online to see if you can find some articles that explain this issue!"
   ]
  },
  {
   "cell_type": "code",
   "execution_count": null,
   "metadata": {},
   "outputs": [],
   "source": [
    "# Create two dictionaries so that it is possible to display their contents\n",
    "#\n",
    "# create the first dictionary as an empty dictionary\n",
    "# and then add key-value pairs to the dictionary\n",
    "bosco = {}\n",
    "bosco[\"Name\"] = \"Bosco\"\n",
    "bosco[\"Age\"] = 6\n",
    "bosco[\"Breed\"] = \"Havanese\"\n",
    "\n",
    "# create the second dictionary as an empty dictionary\n",
    "# and then add key-value pairs to the dictionary\n",
    "faith = {}\n",
    "faith[\"Name\"] = \"Faith\"\n",
    "faith[\"Age\"] = 14\n",
    "faith[\"Breed\"] = \"Havanese\""
   ]
  },
  {
   "cell_type": "code",
   "execution_count": null,
   "metadata": {},
   "outputs": [],
   "source": [
    "# display the entire contents of both dictionaries\n",
    "print(bosco)\n",
    "print(faith)"
   ]
  },
  {
   "cell_type": "code",
   "execution_count": null,
   "metadata": {},
   "outputs": [],
   "source": [
    "# display only specific attributes of the dictionaries\n",
    "print(f\"The name of the first dog is: {bosco['Name']}\")\n",
    "print(f\"The name of the first dog is: {faith['Name']}\")"
   ]
  },
  {
   "cell_type": "code",
   "execution_count": null,
   "metadata": {},
   "outputs": [],
   "source": [
    "# Summary Questions:\n",
    "\n",
    "# 1) How would you decide which structured type you should use to store data?\n",
    "# 2) How are these structured types similar to and different from each other?\n",
    "# 3) What are the benefits associated with using the dictionary structured type?"
   ]
  }
 ],
 "metadata": {
  "kernelspec": {
   "display_name": "Python 3 (ipykernel)",
   "language": "python",
   "name": "python3"
  },
  "language_info": {
   "codemirror_mode": {
    "name": "ipython",
    "version": 3
   },
   "file_extension": ".py",
   "mimetype": "text/x-python",
   "name": "python",
   "nbconvert_exporter": "python",
   "pygments_lexer": "ipython3",
   "version": "3.10.5"
  },
  "toc-autonumbering": false,
  "toc-showcode": false,
  "toc-showmarkdowntxt": true
 },
 "nbformat": 4,
 "nbformat_minor": 4
}
