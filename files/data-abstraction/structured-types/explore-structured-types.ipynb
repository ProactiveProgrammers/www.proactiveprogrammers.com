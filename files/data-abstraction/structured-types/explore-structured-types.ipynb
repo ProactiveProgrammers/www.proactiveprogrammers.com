{
  "metadata": {
    "kernelspec": {
      "name": "python",
      "display_name": "Pyolite",
      "language": "python"
    },
    "language_info": {
      "codemirror_mode": {
        "name": "python",
        "version": 3
      },
      "file_extension": ".py",
      "mimetype": "text/x-python",
      "name": "python",
      "nbconvert_exporter": "python",
      "pygments_lexer": "ipython3",
      "version": "3.8"
    },
    "toc-autonumbering": false,
    "toc-showcode": false,
    "toc-showmarkdowntxt": true
  },
  "nbformat_minor": 4,
  "nbformat": 4,
  "cells": [
    {
      "cell_type": "code",
      "source": "# --> Performing intersections with tuples of values\n#\n# define a function that uses a single\n# for loop to compute the intersection of\n# the two input tuples\ndef intersect(tuple_one, tuple_two):\n    result = ()\n    for element in tuple_one:\n        if element in tuple_two:\n            result += (element,)\n    return result",
      "metadata": {
        "trusted": true
      },
      "execution_count": null,
      "outputs": []
    },
    {
      "cell_type": "code",
      "source": "# create two tuples and then compute their intersection\nfirst_tuple = (1, \"a\", 2)\nsecond_tuple = (\"b\", 2, \"a\")\nintersection_tuple_one = intersect(first_tuple, second_tuple)\nintersection_tuple_two = intersect(second_tuple, first_tuple)\nprint(f\"Intersection of {first_tuple} with {second_tuple} is {intersection_tuple_one}\")\nprint(f\"Intersection of {second_tuple} with {first_tuple} is {intersection_tuple_two}\")",
      "metadata": {
        "trusted": true
      },
      "execution_count": null,
      "outputs": []
    },
    {
      "cell_type": "code",
      "source": "# Note that the two different orderings of the input parameters should\n# produce similar, but not exactly the same, output for the tuple intersection",
      "metadata": {
        "trusted": true
      },
      "execution_count": null,
      "outputs": []
    },
    {
      "cell_type": "code",
      "source": "# --> Create lists using either comprehensions or iteration constructs\n#\n# define a list comprehension and show the output that it produces\nlist_comprehension = [(x, y) for x in range(6) if x % 2 == 0 for y in range(6) if y % 3 == 0]\nprint(list_comprehension)",
      "metadata": {
        "trusted": true
      },
      "execution_count": null,
      "outputs": []
    },
    {
      "cell_type": "code",
      "source": "# define an empty list and them populate it with two-tuples of values\nlist_builder = []\nfor x in range(6):\n    if x % 2 == 0:\n        for y in range(6):\n            if y % 3 == 0:\n                list_builder.append((x, y))\nprint(list_builder)",
      "metadata": {
        "trusted": true
      },
      "execution_count": null,
      "outputs": []
    },
    {
      "cell_type": "code",
      "source": "# Note that both of the two approaches to creating the list should\n# produce the same output! If they do not, please review the code and\n# confirm that you correctly ran the cells in this Jupyter Notebook.",
      "metadata": {
        "trusted": true
      },
      "execution_count": null,
      "outputs": []
    },
    {
      "cell_type": "code",
      "source": "# --> Create sets in Python and learn how they store immutable elements\n#\n# create a set that contains data variables with different types\ndifferent_data_types_set = {53, 'pencil', (1, 1, 2, 3, 5), 3.14159}\n\nprint(\"Set defined with a multiple types:\")\nprint(different_data_types_set)",
      "metadata": {
        "trusted": true
      },
      "execution_count": null,
      "outputs": []
    },
    {
      "cell_type": "code",
      "source": "# create a list from the set and demonstrate the fact that an error occurs\ndifferent_data_types_list = [53, 'pencil', (1, 1, 2, 3, 5), 3.14159]\nnew_different_data_types_set = {different_data_types_list}",
      "metadata": {
        "trusted": true
      },
      "execution_count": null,
      "outputs": []
    },
    {
      "cell_type": "code",
      "source": "# What does the TypeError mean when it explains that the `list` type is \"unhashable\"?\n# Search online to see if you can find some articles that explain this issue!",
      "metadata": {
        "trusted": true
      },
      "execution_count": null,
      "outputs": []
    },
    {
      "cell_type": "code",
      "source": "# --> Create two dictionaries so that it is possible to display their contents\n#\n# create the first dictionary as an empty dictionary\n# and then add key-value pairs to the dictionary\nbosco = {}\nbosco[\"Name\"] = \"Bosco\"\nbosco[\"Age\"] = 6\nbosco[\"Breed\"] = \"Havanese\"\n\n# create the second dictionary as an empty dictionary\n# and then add key-value pairs to the dictionary\nfaith = {}\nfaith[\"Name\"] = \"Faith\"\nfaith[\"Age\"] = 14\nfaith[\"Breed\"] = \"Havanese\"",
      "metadata": {
        "trusted": true
      },
      "execution_count": null,
      "outputs": []
    },
    {
      "cell_type": "code",
      "source": "# display the entire contents of both dictionaries\nprint(bosco)\nprint(faith)",
      "metadata": {
        "trusted": true
      },
      "execution_count": null,
      "outputs": []
    },
    {
      "cell_type": "code",
      "source": "# display only specific attributes of the dictionaries\nprint(f\"The name of the first dog is: {bosco['Name']}\")\nprint(f\"The name of the first dog is: {faith['Name']}\")",
      "metadata": {
        "trusted": true
      },
      "execution_count": null,
      "outputs": []
    },
    {
      "cell_type": "code",
      "source": "# Questions:\n# 1) How would you decide which structured type you should use to store data?\n# 2) How are these structured types similar to and different from each other?\n# 3) What are the benefits associated with using the dictionary structured type?",
      "metadata": {},
      "execution_count": null,
      "outputs": []
    }
  ]
}