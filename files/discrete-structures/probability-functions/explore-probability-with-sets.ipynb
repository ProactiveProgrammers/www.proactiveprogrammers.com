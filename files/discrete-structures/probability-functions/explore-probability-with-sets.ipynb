{
  "metadata": {
    "kernelspec": {
      "name": "python",
      "display_name": "Pyolite",
      "language": "python"
    },
    "language_info": {
      "codemirror_mode": {
        "name": "python",
        "version": 3
      },
      "file_extension": ".py",
      "mimetype": "text/x-python",
      "name": "python",
      "nbconvert_exporter": "python",
      "pygments_lexer": "ipython3",
      "version": "3.8"
    },
    "toc-autonumbering": false,
    "toc-showcode": false,
    "toc-showmarkdowntxt": true
  },
  "nbformat_minor": 4,
  "nbformat": 4,
  "cells": [
    {
      "cell_type": "code",
      "source": "# Explore and understand how to calculate the \n# probability of an event using sets; note that\n# the source code in this Jupyter notebook uses\n# the standard set when the slides use a FiniteSet\n# from sympy. This notebook does not use sympy\n# because it is not a standard part of Python.",
      "metadata": {
        "trusted": true
      },
      "execution_count": null,
      "outputs": []
    },
    {
      "cell_type": "code",
      "source": "# create a function to calculate probabilities\nfrom typing import Set\ndef probability(space: Set, event: Set) -> float:\n    return len(event) / len(space)\n\nsix_sided = {*[1, 2, 3, 4, 5, 6]}\nthree = {*[3]}\n\nroll_three_probability = probability(six_sided, three)\nprint(roll_three_probability)",
      "metadata": {
        "trusted": true
      },
      "execution_count": null,
      "outputs": []
    },
    {
      "cell_type": "code",
      "source": "# Questions:\n# 1) Is this the correct probability for rolling a three?\n# 2) How did you know if the probability was correct or not?\n# 3) What is the purpose of the * operatator in the above source code?",
      "metadata": {
        "trusted": true
      },
      "execution_count": null,
      "outputs": []
    },
    {
      "cell_type": "code",
      "source": "# compute the probability of either event A or event B taking place;\n# note that this source code is similar to, but not exactly the same\n# as, the source code that uses the SymPy sets as seen in the slides\nsix_sided = {*[1, 2, 3, 4, 5, 6]}\nfirst_rolls = {*[2, 3, 5]}\nsecond_rolls = {*[1, 3, 5]}\n\nevent = first_rolls.union(second_rolls)\ntwo_rolls_probability = len(event) / len(six_sided)\nprint(two_rolls_probability)\ntwo_rolls_probability = probability(six_sided, event)\nprint(two_rolls_probability)",
      "metadata": {
        "trusted": true
      },
      "execution_count": null,
      "outputs": []
    },
    {
      "cell_type": "code",
      "source": "# compute the probability of either event A and event B taking place\nsix_sided = {*[1, 2, 3, 4, 5, 6]}\nfirst_rolls = {*[2, 3, 5]}\nsecond_rolls = {*[1, 3, 5]}\n\nevent = first_rolls.intersection(second_rolls)\ntwo_rolls_probability = len(event) / len(six_sided)\nprint(two_rolls_probability)\ntwo_rolls_probability = probability(six_sided, event)\nprint(two_rolls_probability)",
      "metadata": {
        "trusted": true
      },
      "execution_count": null,
      "outputs": []
    },
    {
      "cell_type": "code",
      "source": "# Questions:\n# 1) Does it make sense that the first probability is higher than the second? Why or why not?\n# 2) Can you think of another way to write the same Python source code as in the two previous cells?\n# 3) Does the direct use of the len function produce the same output as calling the probability function? Why or why not?",
      "metadata": {},
      "execution_count": null,
      "outputs": []
    }
  ]
}