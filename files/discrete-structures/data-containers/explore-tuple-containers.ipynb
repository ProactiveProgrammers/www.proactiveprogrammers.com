{
 "cells": [
  {
   "cell_type": "code",
   "execution_count": null,
   "metadata": {},
   "outputs": [],
   "source": [
    "# Explore and understand the characteristics of the tuple"
   ]
  },
  {
   "cell_type": "code",
   "execution_count": null,
   "metadata": {},
   "outputs": [],
   "source": [
    "# Technical Topics:\n",
    "\n",
    "# Create a tuple\n",
    "# Manipulate the contents of a tuple\n",
    "# Simultaneous assignment with tuples\n",
    "# Display a tuple's contents\n",
    "# Trade-offs associated with tuples"
   ]
  },
  {
   "cell_type": "code",
   "execution_count": null,
   "metadata": {},
   "outputs": [],
   "source": [
    "# create different quadruples of content\n",
    "# --> first approach: do not use the parentheses\n",
    "pair = 3, 4\n",
    "quadruple = \"Story number\", 3, \"is\", True\n",
    "print(quadruple)\n",
    "\n",
    "# create different quadruples of content\n",
    "# --> second approach: use the parentheses\n",
    "pair = (3, 4)\n",
    "quadruple = (\"Story number\", 3, \"is\", True)\n",
    "print(quadruple)"
   ]
  },
  {
   "cell_type": "code",
   "execution_count": null,
   "metadata": {},
   "outputs": [],
   "source": [
    "# Summary Questions:\n",
    "# 1) Do both of these assignments produce the same tuple?\n",
    "# 2) What is the difference in the syntax of these statements?\n",
    "# 3) Which approach do you prefer? Why do you prefer it?"
   ]
  },
  {
   "cell_type": "code",
   "execution_count": null,
   "metadata": {},
   "outputs": [],
   "source": [
    "# create different tuples and variables to illustrate differences\n",
    "empty_tuple = ()\n",
    "single_story = (\"Story\",)\n",
    "single_number = (3,)\n",
    "number = (3)"
   ]
  },
  {
   "cell_type": "code",
   "execution_count": null,
   "metadata": {},
   "outputs": [],
   "source": [
    "# print out the contents of the different variables created previously\n",
    "print(empty_tuple)\n",
    "print(single_story)\n",
    "print(single_number)\n",
    "print(number)"
   ]
  },
  {
   "cell_type": "code",
   "execution_count": null,
   "metadata": {},
   "outputs": [],
   "source": [
    "# print out the types of the different variables created previously\n",
    "print(type(empty_tuple))\n",
    "print(type(single_story))\n",
    "print(type(single_number))\n",
    "print(type(number))"
   ]
  },
  {
   "cell_type": "code",
   "execution_count": null,
   "metadata": {},
   "outputs": [],
   "source": [
    "# Summary Questions:\n",
    "# 1) What are the similarities and differences between these variables?\n",
    "# 2) Which of these variables are data containers and which are not?\n",
    "# 3) What are the purposes of parentheses in the Python programming language?"
   ]
  },
  {
   "cell_type": "code",
   "execution_count": null,
   "metadata": {},
   "outputs": [],
   "source": [
    "# explore the packing and unpacking of tuples\n",
    "# pack a tuple into a variable\n",
    "pair = (3,4)\n",
    "print(f\"This is the pair variable: {pair}\")\n",
    "\n",
    "# unpack the contents of a tuple\n",
    "(x, y) = pair\n",
    "print(f\"This is the x variable: {x}\")\n",
    "print(f\"This is the y variable: {y}\")\n",
    "\n",
    "# unpack and perform simultaneous assignment\n",
    "(x, y) = (y, x)\n",
    "print(f\"This is the x variable: {x}\")\n",
    "print(f\"This is the y variable: {y}\")"
   ]
  },
  {
   "cell_type": "code",
   "execution_count": null,
   "metadata": {},
   "outputs": [],
   "source": [
    "# Summary Questions:\n",
    "# 1) For tuples, when do you need to use parentheses? Why do you not need them?\n",
    "# 2) What is the purpose of \"packing\"? What is the purpose of \"unpacking\"?\n",
    "# 3) What is the purpose of the simultaneous assignment statement?"
   ]
  },
  {
   "cell_type": "code",
   "execution_count": null,
   "metadata": {},
   "outputs": [],
   "source": [
    "# Technical Tasks:\n",
    "# 1) Create a tuple that contains tuples and display the type of the containing tuple\n",
    "# 2) Use a for loop to display the contents and type of the tuples in the tuple\n",
    "# 3) Create a list that contains tuples and display the type of the containing list\n",
    "# 4) Use a for loop to display the contents and type of the tuples in the tuple\n",
    "# 5) Compare and contrast these two data containers in terms of their source code"
   ]
  }
 ],
 "metadata": {
  "kernelspec": {
   "display_name": "Python 3 (ipykernel)",
   "language": "python",
   "name": "python3"
  },
  "language_info": {
   "codemirror_mode": {
    "name": "ipython",
    "version": 3
   },
   "file_extension": ".py",
   "mimetype": "text/x-python",
   "name": "python",
   "nbconvert_exporter": "python",
   "pygments_lexer": "ipython3",
   "version": "3.10.5"
  },
  "toc-autonumbering": false,
  "toc-showcode": false,
  "toc-showmarkdowntxt": true
 },
 "nbformat": 4,
 "nbformat_minor": 4
}
