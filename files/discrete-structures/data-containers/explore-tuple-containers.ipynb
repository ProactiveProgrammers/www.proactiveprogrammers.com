{
  "metadata": {
    "kernelspec": {
      "name": "python",
      "display_name": "Pyolite",
      "language": "python"
    },
    "language_info": {
      "codemirror_mode": {
        "name": "python",
        "version": 3
      },
      "file_extension": ".py",
      "mimetype": "text/x-python",
      "name": "python",
      "nbconvert_exporter": "python",
      "pygments_lexer": "ipython3",
      "version": "3.8"
    },
    "toc-autonumbering": false,
    "toc-showcode": false,
    "toc-showmarkdowntxt": true
  },
  "nbformat_minor": 4,
  "nbformat": 4,
  "cells": [
    {
      "cell_type": "code",
      "source": "# Explore and understand the characteristics of the tuple",
      "metadata": {
        "trusted": true
      },
      "execution_count": null,
      "outputs": []
    },
    {
      "cell_type": "code",
      "source": "# create different quadruples of content\n# --> first approach: do not use the parentheses\npair = 3, 4\nquadruple = \"Story number\", 3, \"is\", True\nprint(quadruple)\n\n# create different quadruples of content\n# --> second approach: use the parentheses\npair = (3, 4)\nquadruple = (\"Story number\", 3, \"is\", True)\nprint(quadruple)",
      "metadata": {
        "trusted": true
      },
      "execution_count": null,
      "outputs": []
    },
    {
      "cell_type": "code",
      "source": "# Questions:\n# 1) Do both of these assignments produce the same tuple?\n# 2) What is the difference in the syntax of these statements?\n# 3) Which approach do you prefer? Why do you prefer it?",
      "metadata": {
        "trusted": true
      },
      "execution_count": null,
      "outputs": []
    },
    {
      "cell_type": "code",
      "source": "# create different tuples and variables to illustrate differences\nempty_tuple = ()\nsingle_story = (\"Story\",)\nsingle_number = (3,)\nnumber = (3)",
      "metadata": {
        "trusted": true
      },
      "execution_count": null,
      "outputs": []
    },
    {
      "cell_type": "code",
      "source": "# print out the contents of the different variables created previously\nprint(empty_tuple)\nprint(single_story)\nprint(single_number)\nprint(number)",
      "metadata": {
        "trusted": true
      },
      "execution_count": null,
      "outputs": []
    },
    {
      "cell_type": "code",
      "source": "# print out the types of the different variables created previously\nprint(type(empty_tuple))\nprint(type(single_story))\nprint(type(single_number))\nprint(type(number))",
      "metadata": {
        "trusted": true
      },
      "execution_count": null,
      "outputs": []
    },
    {
      "cell_type": "code",
      "source": "# Questions:\n# 1) What are the similarities and differences between these variables?\n# 2) Which of these variables are data containers and which are not?\n# 3) What are the purposes of parentheses in the Python programming language?",
      "metadata": {
        "trusted": true
      },
      "execution_count": null,
      "outputs": []
    },
    {
      "cell_type": "code",
      "source": "# explore the packing and unpacking of tuples\n# pack a tuple into a variable\npair = (3,4)\nprint(f\"This is the pair variable: {pair}\")\n\n# unpack the contents of a tuple\n(x, y) = pair\nprint(f\"This is the x variable: {x}\")\nprint(f\"This is the y variable: {y}\")\n\n# unpack and perform simultaneous assignment\n(x, y) = (y, x)\nprint(f\"This is the x variable: {x}\")\nprint(f\"This is the y variable: {y}\")",
      "metadata": {
        "trusted": true
      },
      "execution_count": null,
      "outputs": []
    },
    {
      "cell_type": "code",
      "source": "# Questions:\n# 1) For tuples, when do you need to use parentheses? Why do you not need them?\n# 2) What is the purpose of \"packing\"? What is the purpose of \"unpacking\"?\n# 3) What is the purpose of the simultaneous assignment statement?",
      "metadata": {
        "trusted": true
      },
      "execution_count": null,
      "outputs": []
    },
    {
      "cell_type": "code",
      "source": "# Tasks:\n# 1) Create a tuple that contains tuples and display the type of the containing tuple\n# 2) Use a for loop to display the contents and type of the tuples in the tuple\n# 3) Create a list that contains tuples and display the type of the containing list\n# 4) Use a for loop to display the contents and type of the tuples in the tuple\n# 5) Compare and contrast these two data containers in terms of their source code",
      "metadata": {},
      "execution_count": null,
      "outputs": []
    }
  ]
}