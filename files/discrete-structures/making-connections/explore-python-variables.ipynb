{
  "metadata": {
    "kernelspec": {
      "display_name": "Pyolite",
      "language": "python",
      "name": "python"
    },
    "language_info": {
      "codemirror_mode": {
        "name": "python",
        "version": 3
      },
      "file_extension": ".py",
      "mimetype": "text/x-python",
      "name": "python",
      "nbconvert_exporter": "python",
      "pygments_lexer": "ipython3",
      "version": "3.8"
    },
    "toc-autonumbering": false,
    "toc-showcode": false,
    "toc-showmarkdowntxt": true
  },
  "nbformat_minor": 4,
  "nbformat": 4,
  "cells": [
    {
      "cell_type": "code",
      "source": "# compute and display an exponentiation\nexponent_one = 2**2**8\nprint(\"exponent_one = \" + str(exponent_one))",
      "metadata": {
        "trusted": true
      },
      "execution_count": null,
      "outputs": []
    },
    {
      "cell_type": "code",
      "source": "# compute and display an exponentiation\nexponent_two = 2**2**10\nprint(\"exponent_two = \" + str(exponent_two))",
      "metadata": {
        "trusted": true
      },
      "execution_count": null,
      "outputs": []
    },
    {
      "cell_type": "code",
      "source": "# compare the two previously computed exponentiations\nif exponent_one >= exponent_two:\n    print(\"First exponentiation is greater than second exponentiation!\")\nelse:\n    print(\"Second exponentiation is greater than first exponentiation!\")",
      "metadata": {
        "trusted": true
      },
      "execution_count": null,
      "outputs": []
    },
    {
      "cell_type": "code",
      "source": "# Compute and display an exponentiation.\n# Please note that this computation may not\n# return a correct result and instead could crash.\n# Can you explain why it crashed? Can you explain\n# the meaning of the error message that you see?\nexponent_three = 2**2**100\nprint(\"exponent_three = \" + str(exponent_three))",
      "metadata": {
        "trusted": true
      },
      "execution_count": null,
      "outputs": []
    },
    {
      "cell_type": "code",
      "source": "# Compare values to learn more about variable comparison.\n# What is surprising about these results? Are there any\n# of these results that you expected? Why?\n# Step 1: Compare decimal values\nif 1.0 == 1.1:\n    print(\"Hey, these different decimal values are equal!? 😂\")\nelse:\n    print(\"Of course, different decimal values are not equal! 😂\")\n# Step 2: Compare decimal values and whole numbers\nif 1.0 == 1:\n    print(\"Hey, decimal values and whole numbers are equal!? 😯\")\nelse:\n    print(\"Surprisingly, decimal values and whole numbers are not equal!? 😯\")\n# Step 3: Perform decimal addition and fraction addition\nif not .33333 + .33333 + .33333 == 1:\n    print(\"These are not equal, I guess you have to be very precise!? 😬\")\nif not .33333333333 + .33333333333 + .3333333333 == 1:\n    print(\"These are not equal, I guess you have to be even more precise!? 😬\")\nif not 1/3 + 1/3 + 1/3 == 1:\n    print(\"These are not equal, I guess you have to be even more precise!? 😬\")\nelse:\n    print(\"These values are equal --- but only when you add fractions together!? 😬\")",
      "metadata": {
        "trusted": true
      },
      "execution_count": null,
      "outputs": []
    }
  ]
}