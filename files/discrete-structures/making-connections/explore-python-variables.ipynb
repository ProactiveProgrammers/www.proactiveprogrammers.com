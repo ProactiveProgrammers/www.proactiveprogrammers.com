{
 "cells": [
  {
   "cell_type": "code",
   "execution_count": null,
   "metadata": {},
   "outputs": [],
   "source": [
    "# compute and display an exponentiation\n",
    "exponent_one = 2**2**8\n",
    "print(\"exponent_one = \" + str(exponent_one))"
   ]
  },
  {
   "cell_type": "code",
   "execution_count": null,
   "metadata": {},
   "outputs": [],
   "source": [
    "# compute and display an exponentiation\n",
    "exponent_two = 2**2**10\n",
    "print(\"exponent_two = \" + str(exponent_two))"
   ]
  },
  {
   "cell_type": "code",
   "execution_count": null,
   "metadata": {},
   "outputs": [],
   "source": [
    "# compare the two previously computed exponentiations\n",
    "if exponent_one >= exponent_two:\n",
    "    print(\"First exponentiation is greater than second exponentiation!\")\n",
    "else:\n",
    "    print(\"Second exponentiation is greater than first exponentiation!\")"
   ]
  },
  {
   "cell_type": "code",
   "execution_count": null,
   "metadata": {},
   "outputs": [],
   "source": [
    "# Compute and display an exponentiation.\n",
    "# Please note that this computation may not\n",
    "# return a correct result and instead could crash.\n",
    "# Can you explain why it crashed? Can you explain\n",
    "# the meaning of the error message that you see?\n",
    "exponent_three = 2**2**100\n",
    "print(\"exponent_three = \" + str(exponent_three))"
   ]
  },
  {
   "cell_type": "code",
   "execution_count": null,
   "metadata": {},
   "outputs": [],
   "source": [
    "# Compare values to learn more about variable comparison.\n",
    "# What is surprising about these results? Are there any\n",
    "# of these results that you expected? Why?\n",
    "# Step 1: Compare decimal values\n",
    "if 1.0 == 1.1:\n",
    "    print(\"Hey, these different decimal values are equal!? 😂\")\n",
    "else:\n",
    "    print(\"Of course, different decimal values are not equal! 😂\")\n",
    "# Step 2: Compare decimal values and whole numbers\n",
    "if 1.0 == 1:\n",
    "    print(\"Hey, decimal values and whole numbers are equal!? 😯\")\n",
    "else:\n",
    "    print(\"Surprisingly, decimal values and whole numbers are not equal!? 😯\")\n",
    "# Step 3: Perform decimal addition and fraction addition\n",
    "if not .33333 + .33333 + .33333 == 1:\n",
    "    print(\"These are not equal, I guess you have to be very precise!? 😬\")\n",
    "if not .33333333333 + .33333333333 + .3333333333 == 1:\n",
    "    print(\"These are not equal, I guess you have to be even more precise!? 😬\")\n",
    "if not 1/3 + 1/3 + 1/3 == 1:\n",
    "    print(\"These are not equal, I guess you have to be even more precise!? 😬\")\n",
    "else:\n",
    "    print(\"These values are equal --- but only when you add fractions together!? 😬\")"
   ]
  }
 ],
 "metadata": {
  "kernelspec": {
   "display_name": "Python 3 (ipykernel)",
   "language": "python",
   "name": "python3"
  },
  "language_info": {
   "codemirror_mode": {
    "name": "ipython",
    "version": 3
   },
   "file_extension": ".py",
   "mimetype": "text/x-python",
   "name": "python",
   "nbconvert_exporter": "python",
   "pygments_lexer": "ipython3",
   "version": "3.10.5"
  },
  "toc-autonumbering": false,
  "toc-showcode": false,
  "toc-showmarkdowntxt": true
 },
 "nbformat": 4,
 "nbformat_minor": 4
}
