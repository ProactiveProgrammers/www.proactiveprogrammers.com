{
 "cells": [
  {
   "cell_type": "code",
   "execution_count": 1,
   "metadata": {},
   "outputs": [
    {
     "ename": "ModuleNotFoundError",
     "evalue": "No module named 'js'",
     "output_type": "error",
     "traceback": [
      "\u001b[0;31m---------------------------------------------------------------------------\u001b[0m",
      "\u001b[0;31mModuleNotFoundError\u001b[0m                       Traceback (most recent call last)",
      "Input \u001b[0;32mIn [1]\u001b[0m, in \u001b[0;36m<module>\u001b[0;34m\u001b[0m\n\u001b[0;32m----> 1\u001b[0m \u001b[38;5;28;01mimport\u001b[39;00m \u001b[38;5;21;01masyncio\u001b[39;00m\u001b[38;5;241m,\u001b[39m \u001b[38;5;21;01mjs\u001b[39;00m\u001b[38;5;241m,\u001b[39m \u001b[38;5;21;01mio\u001b[39;00m\u001b[38;5;241m,\u001b[39m \u001b[38;5;21;01mpandas\u001b[39;00m\u001b[38;5;241m,\u001b[39m \u001b[38;5;21;01mIPython\u001b[39;00m\n",
      "\u001b[0;31mModuleNotFoundError\u001b[0m: No module named 'js'"
     ]
    }
   ],
   "source": [
    "import asyncio, js, io, pandas, IPython"
   ]
  },
  {
   "cell_type": "code",
   "execution_count": 24,
   "metadata": {},
   "outputs": [],
   "source": [
    "DB_NAME = \"JupyterLite Storage\""
   ]
  },
  {
   "cell_type": "code",
   "execution_count": 35,
   "metadata": {},
   "outputs": [],
   "source": [
    "# only needed to access files in Jupyter Lite\n",
    "async def get_contents(path):\n",
    "    queue = asyncio.Queue(1)\n",
    "    IDBOpenDBRequest = js.self.indexedDB.open(DB_NAME)\n",
    "    IDBOpenDBRequest.onsuccess = IDBOpenDBRequest.onerror = queue.put_nowait\n",
    "    await queue.get()\n",
    "    if IDBOpenDBRequest.result is None:\n",
    "        return None\n",
    "    IDBTransaction = IDBOpenDBRequest.result.transaction(\"files\", \"readonly\")\n",
    "    IDBObjectStore = IDBTransaction.objectStore(\"files\")\n",
    "    IDBRequest = IDBObjectStore.get(path, \"key\")\n",
    "    IDBRequest.onsuccess = IDBRequest.onerror = queue.put_nowait\n",
    "    await queue.get()\n",
    "    return IDBRequest.result.to_py() if IDBRequest.result else None"
   ]
  },
  {
   "cell_type": "code",
   "execution_count": 38,
   "metadata": {},
   "outputs": [],
   "source": [
    "\n",
    "observations = await get_contents(\"discrete-structures/inputsobservations.txt\")\n",
    "observations_contents = observations['content'].split(\",\")"
   ]
  },
  {
   "cell_type": "code",
   "execution_count": 39,
   "metadata": {},
   "outputs": [
    {
     "name": "stdout",
     "output_type": "stream",
     "text": [
      "['5', '7', '9', '10', '12', '15']\n"
     ]
    }
   ],
   "source": [
    "print(observations_contents)"
   ]
  },
  {
   "cell_type": "code",
   "execution_count": 40,
   "metadata": {},
   "outputs": [
    {
     "name": "stdout",
     "output_type": "stream",
     "text": [
      "9.666666666666666\n"
     ]
    }
   ],
   "source": [
    "for observation in observations_contents:\n",
    "  n = int(observation)\n",
    "  sum += n\n",
    "  count += 1\n",
    "print(sum/count)"
   ]
  },
  {
   "cell_type": "code",
   "execution_count": null,
   "metadata": {},
   "outputs": [],
   "source": []
  }
 ],
 "metadata": {
  "kernelspec": {
   "display_name": "Python 3 (ipykernel)",
   "language": "python",
   "name": "python3"
  },
  "language_info": {
   "codemirror_mode": {
    "name": "ipython",
    "version": 3
   },
   "file_extension": ".py",
   "mimetype": "text/x-python",
   "name": "python",
   "nbconvert_exporter": "python",
   "pygments_lexer": "ipython3",
   "version": "3.10.2"
  },
  "toc-autonumbering": false,
  "toc-showcode": false,
  "toc-showmarkdowntxt": true
 },
 "nbformat": 4,
 "nbformat_minor": 4
}
