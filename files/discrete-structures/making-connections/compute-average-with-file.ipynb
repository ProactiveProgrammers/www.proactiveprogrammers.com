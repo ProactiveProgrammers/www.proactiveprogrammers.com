{
  "metadata": {
    "kernelspec": {
      "display_name": "Pyolite",
      "language": "python",
      "name": "python"
    },
    "language_info": {
      "codemirror_mode": {
        "name": "python",
        "version": 3
      },
      "file_extension": ".py",
      "mimetype": "text/x-python",
      "name": "python",
      "nbconvert_exporter": "python",
      "pygments_lexer": "ipython3",
      "version": "3.8"
    },
    "toc-autonumbering": false,
    "toc-showcode": false,
    "toc-showmarkdowntxt": true
  },
  "nbformat_minor": 4,
  "nbformat": 4,
  "cells": [
    {
      "cell_type": "code",
      "source": "# import the needed packages; this could take time\n# and perhaps produce a warning that does not\n# influence the correctness of the program\nimport asyncio, js, io, IPython",
      "metadata": {
        "trusted": true
      },
      "execution_count": null,
      "outputs": []
    },
    {
      "cell_type": "code",
      "source": "# define the name of the storage database\nDB_NAME = \"JupyterLite Storage\"",
      "metadata": {
        "trusted": true
      },
      "execution_count": null,
      "outputs": []
    },
    {
      "cell_type": "code",
      "source": "# access files in Jupyter Lite\nasync def get_contents(path):\n    queue = asyncio.Queue(1)\n    IDBOpenDBRequest = js.self.indexedDB.open(DB_NAME)\n    IDBOpenDBRequest.onsuccess = IDBOpenDBRequest.onerror = queue.put_nowait\n    await queue.get()\n    if IDBOpenDBRequest.result is None:\n        return None\n    IDBTransaction = IDBOpenDBRequest.result.transaction(\"files\", \"readonly\")\n    IDBObjectStore = IDBTransaction.objectStore(\"files\")\n    IDBRequest = IDBObjectStore.get(path, \"key\")\n    IDBRequest.onsuccess = IDBRequest.onerror = queue.put_nowait\n    await queue.get()\n    return IDBRequest.result.to_py() if IDBRequest.result else None",
      "metadata": {
        "trusted": true
      },
      "execution_count": null,
      "outputs": []
    },
    {
      "cell_type": "code",
      "source": "# input the observation data and display the contents of the file\nobservations = await get_contents(\"discrete-structures/making-connections/observations.txt\")\nobservations_contents = observations['content'].split(\"\\n\")\nprint(observations_contents)",
      "metadata": {
        "trusted": true
      },
      "execution_count": null,
      "outputs": []
    },
    {
      "cell_type": "code",
      "source": "# compute the average of the observations and\n# display the sum, the count, and the average\nsum = 0\ncount = 0\nfor observation in observations_contents:\n  n = int(observation)\n  sum += n\n  count += 1\nprint(\"sum = \" + str(sum))\nprint(\"count = \" + str(count))\nprint(\"average = \" + str(sum/count))",
      "metadata": {
        "trusted": true
      },
      "execution_count": null,
      "outputs": []
    }
  ]
}