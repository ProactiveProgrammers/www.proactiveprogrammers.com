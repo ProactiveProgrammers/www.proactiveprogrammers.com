{
  "metadata": {
    "kernelspec": {
      "name": "python",
      "display_name": "Pyolite",
      "language": "python"
    },
    "language_info": {
      "codemirror_mode": {
        "name": "python",
        "version": 3
      },
      "file_extension": ".py",
      "mimetype": "text/x-python",
      "name": "python",
      "nbconvert_exporter": "python",
      "pygments_lexer": "ipython3",
      "version": "3.8"
    },
    "toc-autonumbering": false,
    "toc-showcode": false,
    "toc-showmarkdowntxt": true
  },
  "nbformat_minor": 4,
  "nbformat": 4,
  "cells": [
    {
      "cell_type": "code",
      "source": "# Explore and understand different approaches to\n# performing \"object-oriented\" programming in Python",
      "metadata": {
        "trusted": true
      },
      "execution_count": null,
      "outputs": []
    },
    {
      "cell_type": "code",
      "source": "# define \"objects\" with limited semantics using an array\nbosco = [\"Bosco\", 6, \"Havanese\"]\nfaith = [\"Faith\", 14, \"Havanese\"]\n\nprint(f\"The name of the dog is: {bosco[0]}\")\nprint(f\"The age of the dog is: {bosco[1]}\")\nprint(f\"The breed of the dog is: {bosco[2]}\")\n\nprint(f\"The name of the dog is: {faith[0]}\")\nprint(f\"The age of the dog is: {faith[1]}\")\nprint(f\"The breed of the dog is: {faith[2]}\")",
      "metadata": {
        "trusted": true
      },
      "execution_count": null,
      "outputs": []
    },
    {
      "cell_type": "code",
      "source": "# Questions:\n# 1) What are the benefits of this approach?\n# 2) How can this approach lead to defects in a program?\n# 3) Can this approach ensure a uniformity in the created \"objects\"?",
      "metadata": {
        "trusted": true
      },
      "execution_count": null,
      "outputs": []
    },
    {
      "cell_type": "code",
      "source": "# define \"objects\" with limited semantics using a dictionary\nbosco = {}\nbosco[\"Name\"] = \"Bosco\"\nbosco[\"Age\"] = 6\nbosco[\"Breed\"] = \"Havanese\"\n\nfaith = {}\nfaith[\"Name\"] = \"Faith\"\nfaith[\"Age\"] = 14\nfaith[\"Breed\"] = \"Havanese\"\n\nprint(f\"The dog's name is: {bosco['Name']}\")\nprint(f\"The dog's age is: {bosco['Age']}\")\nprint(f\"The dog's breed is: {bosco['Breed']}\")\n\nprint(f\"The dog's name is: {faith['Name']}\")\nprint(f\"The dog's age is: {faith['Age']}\")\nprint(f\"The dog's breed is: {faith['Breed']}\")",
      "metadata": {
        "trusted": true
      },
      "execution_count": null,
      "outputs": []
    },
    {
      "cell_type": "code",
      "source": "# Questions:\n# 1) What are the benefits of this approach?\n# 2) How can this approach lead to defects in a program?\n# 3) Can this approach ensure a uniformity in the created \"objects\"?\n# 4) Do you prefer the list-based approach or the dictionary-based approach? Why?\n# 5) What are the characteristics of an approach better than these two approaches?",
      "metadata": {
        "trusted": true
      },
      "execution_count": null,
      "outputs": []
    },
    {
      "cell_type": "code",
      "source": "# Task:\n# Implement your own \"dog object\" using a list and a dictionary\n# Reflect critically on which approach you prefer and why you prefer it",
      "metadata": {
        "trusted": true
      },
      "execution_count": null,
      "outputs": []
    },
    {
      "cell_type": "code",
      "source": "# Questions:\n# 1) What are the similarities and differences between functions and dictionaries?\n# 2) Does a function implement a mapping through a computation or storage?\n# 3) Does a dictionary implement a mapping through a computation or storage?\n# 4) What are the similarities and differences in the ways to create a dictionary?\n# 5) Do all approaches to creating a dictionary lead to the same mapping?",
      "metadata": {
        "trusted": true
      },
      "execution_count": null,
      "outputs": []
    },
    {
      "cell_type": "code",
      "source": "# Question: why does one approach work for creating a set\n# out of a list when the other approach causes a TypeError?",
      "metadata": {
        "trusted": true
      },
      "execution_count": null,
      "outputs": []
    },
    {
      "cell_type": "code",
      "source": "# define a class to represent a Dog entity\nclass Dog:\n\n    # define the constructor for the Dog class\n    def __init__(self, name, age, breed):\n        self.name = name\n        self.age = age\n        self.breed = breed\n\n    # define a description method for the dog\n    def description(self):\n        return f\"{self.name} is a {self.age} years old {self.breed}\"\n\n    # define an action method for the dog\n    def action(self, action):\n        return f\"Hey, {self.name} {action}!\"\n\n    # define a __str__ method for the dog\n    def __str__(self):\n        return f\"{self.name} is a {self.age} years old {self.breed}\"",
      "metadata": {
        "trusted": true
      },
      "execution_count": null,
      "outputs": []
    },
    {
      "cell_type": "code",
      "source": "# create instances of the Dog class and display their contents\nbosco = Dog(\"Bosco\", 6, \"Havanese\")\n\nprint(bosco)\n\nprint(f\"The dog's name is: {bosco.name}\")\nprint(f\"The dog's age is: {bosco.age}\")\nprint(f\"The dog's breed is: {bosco.breed}\")\n\nfaith = Dog(\"Faith\", 14, \"Havanese\")\n\nprint()\nprint(faith)\n\nprint(f\"The dog's name is: {faith.name}\")\nprint(f\"The dog's age is: {faith.age}\")\nprint(f\"The dog's breed is: {faith.breed}\")",
      "metadata": {
        "trusted": true
      },
      "execution_count": null,
      "outputs": []
    },
    {
      "cell_type": "code",
      "source": "# use the methods associted with the Dog class\nprint(bosco.description())\nprint()\nprint(bosco.action(\"roll over\"))\n\nprint(faith.description())\nprint()\nprint(faith.action(\"waive bye-bye\"))",
      "metadata": {
        "trusted": true
      },
      "execution_count": null,
      "outputs": []
    },
    {
      "cell_type": "code",
      "source": "# Questions:\n# 1) Which approach to object-oriented programming do you most prefer? Why?\n# 2) What are the benefits and drawbacks of each of the three approaches?\n# 3) If you had to pick one approach for the next engineering effort, what would you pick?",
      "metadata": {
        "trusted": true
      },
      "execution_count": null,
      "outputs": []
    }
  ]
}