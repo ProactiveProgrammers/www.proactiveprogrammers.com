{
 "cells": [
  {
   "cell_type": "code",
   "execution_count": null,
   "metadata": {},
   "outputs": [],
   "source": [
    "# Calculate the square root of a number"
   ]
  },
  {
   "cell_type": "code",
   "execution_count": null,
   "metadata": {},
   "outputs": [],
   "source": [
    "# Technical Topics:\n",
    "\n",
    "# Assign a value to a variable\n",
    "# Use an iteration construct for repeatedly perform a computation\n",
    "# Use a tolerance value to control the number of iterative computations\n",
    "# Use formatted print statements to produce output\n",
    "# Observe how close an approximation is to the exact answer"
   ]
  },
  {
   "cell_type": "code",
   "execution_count": null,
   "metadata": {},
   "outputs": [],
   "source": [
    "# define a source code segment that can calculate\n",
    "# the square root of a number using an iterative\n",
    "# approach and this display the best guess\n",
    "n = 5\n",
    "guess = 2.0\n",
    "while abs(n - guess*guess) > 0.000001:\n",
    "    guess = guess - (guess*guess - n)/(2*guess)\n",
    "root = guess\n",
    "print(f\"🙂 The square root of {n} is {root}\")"
   ]
  },
  {
   "cell_type": "code",
   "execution_count": null,
   "metadata": {},
   "outputs": [],
   "source": [
    "# define a source code segment that can calculate\n",
    "# the square root of a number using an iterative\n",
    "# approach and this display the best guess\n",
    "n = 4\n",
    "guess = 1.0\n",
    "while abs(n - guess*guess) > 0.0001:\n",
    "    guess = guess - (guess*guess - n)/(2*guess)\n",
    "root = guess\n",
    "print(f\"🙂 The square root of {n} is {root}\")"
   ]
  },
  {
   "cell_type": "code",
   "execution_count": null,
   "metadata": {},
   "outputs": [],
   "source": [
    "# Summary Questions:\n",
    "\n",
    "# 1) What is the input of the above source code segments?\n",
    "# 2) What is the ouptut of the above source code segments?\n",
    "# 3) What are the downsides associated with this approach?\n",
    "# 4) Can you implement this as a function instead of a \"script\"?\n",
    "# 5) What are the benefits of using a function?"
   ]
  },
  {
   "cell_type": "code",
   "execution_count": null,
   "metadata": {},
   "outputs": [],
   "source": [
    "# Tasks:\n",
    "\n",
    "# 1) Implement the above source code segment as a function\n",
    "# 2) Make sure that the function has type annotations for the\n",
    "#    input and the output parameters\n",
    "# 3) Do not produce output with a print statement in the function\n",
    "# 4) Call the function with input and capture the output in a variable\n",
    "# 5) Display the output of the function using an f-string and a print statement"
   ]
  }
 ],
 "metadata": {
  "kernelspec": {
   "display_name": "Python 3 (ipykernel)",
   "language": "python",
   "name": "python3"
  },
  "language_info": {
   "codemirror_mode": {
    "name": "ipython",
    "version": 3
   },
   "file_extension": ".py",
   "mimetype": "text/x-python",
   "name": "python",
   "nbconvert_exporter": "python",
   "pygments_lexer": "ipython3",
   "version": "3.10.5"
  },
  "toc-autonumbering": false,
  "toc-showcode": false,
  "toc-showmarkdowntxt": true
 },
 "nbformat": 4,
 "nbformat_minor": 4
}
