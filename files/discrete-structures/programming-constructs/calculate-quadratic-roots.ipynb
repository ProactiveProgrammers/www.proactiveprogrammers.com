{
 "cells": [
  {
   "cell_type": "code",
   "execution_count": null,
   "metadata": {},
   "outputs": [],
   "source": [
    "# Calculate the quadratic roots of an equation"
   ]
  },
  {
   "cell_type": "code",
   "execution_count": null,
   "metadata": {},
   "outputs": [],
   "source": [
    "# Technical Topics:\n",
    "\n",
    "# Assign a value to a variable\n",
    "# Use an iteration construct for repeatedly perform a computation\n",
    "# Use a tolerance value to control the number of iterative computations\n",
    "# Use formatted print statements to produce output\n",
    "# Observe how close an approximation is to the exact answer\n",
    "# Use the matplotlib package to create function visualizations"
   ]
  },
  {
   "cell_type": "code",
   "execution_count": null,
   "metadata": {},
   "outputs": [],
   "source": [
    "# define a function that can calculate the quadratic roots\n",
    "# of a mathematical function\n",
    "def calc_quad_eqn_roots(a: float, b: float, c: float):\n",
    "    \"\"\"Calculate roots of quadratic equation.\"\"\"\n",
    "    D = (b * b - 4 * a * c) ** 0.5\n",
    "    x_one = (-b + D) / (2 * a)\n",
    "    x_two = (-b - D) / (2 * a)\n",
    "    return x_one, x_two"
   ]
  },
  {
   "cell_type": "code",
   "execution_count": null,
   "metadata": {},
   "outputs": [],
   "source": [
    "# Questions:\n",
    "# 1) What are the inputs to the above function?\n",
    "# 2) What are the outputs of the above function?\n",
    "# 3) What are the data types of the inputs and the outputs?\n",
    "# 4) What is the purpose of this function?\n",
    "# 5) How does this function achieve that purpose?\n",
    "# 6) How would you write this function as an equation?"
   ]
  },
  {
   "cell_type": "code",
   "execution_count": null,
   "metadata": {},
   "outputs": [],
   "source": [
    "# define the three values for the input\n",
    "a = 1\n",
    "b = 2\n",
    "c = 1\n",
    "# call the function with the three inputs and\n",
    "# capture the output created by the function\n",
    "x_one, x_two = calc_quad_eqn_roots(a, b, c)\n",
    "# display the output of the function using f-strings\n",
    "print(f\"✨ The first root of the equation is {x_one}\")\n",
    "print(f\"✨ The second root of the equation is {x_two}\")"
   ]
  },
  {
   "cell_type": "code",
   "execution_count": null,
   "metadata": {},
   "outputs": [],
   "source": [
    "# define the three values for the input\n",
    "a = 1\n",
    "b = -7\n",
    "c = 10\n",
    "# call the function with the three inputs and\n",
    "# capture the output created by the function\n",
    "x_one, x_two = calc_quad_eqn_roots(a, b, c)\n",
    "# display the output of the function using f-strings\n",
    "print(f\"✨ The first root of the equation is {x_one}\")\n",
    "print(f\"✨ The second root of the equation is {x_two}\")"
   ]
  },
  {
   "cell_type": "code",
   "execution_count": null,
   "metadata": {},
   "outputs": [],
   "source": [
    "# define the three values for the input\n",
    "a = 1\n",
    "b = 1\n",
    "c = 1\n",
    "# call the function with the three inputs and\n",
    "# capture the output created by the function\n",
    "x_one, x_two = calc_quad_eqn_roots(a, b, c)\n",
    "# display the output of the function using f-strings\n",
    "print(f\"✨ The first root of the equation is {x_one}\")\n",
    "print(f\"✨ The second root of the equation is {x_two}\")"
   ]
  },
  {
   "cell_type": "code",
   "execution_count": null,
   "metadata": {},
   "outputs": [],
   "source": [
    "# Here are some references to consider:\n",
    "# 1) https://www.calculatorsoup.com/calculators/algebra/quadratic-formula-calculator.php\n",
    "# 2) https://betterexplained.com/articles/a-visual-intuitive-guide-to-imaginary-numbers/\n",
    "#\n",
    "# Can you explain the meaning of this program's output?\n",
    "# Why does the output contain numbers that are using the letter \"j\"?"
   ]
  },
  {
   "cell_type": "code",
   "execution_count": null,
   "metadata": {},
   "outputs": [],
   "source": [
    "# Visualize the first function for which the roots were calculated\n",
    "# Reference for additional examples and the code on which this example was based:\n",
    "# https://tbc-python.fossee.in/convert-notebook/Algebra_by__P._Abbott_And_M._E._Wardle/Chapter_13_Graphs_of_Quadratic_Functions.ipynb\n",
    "import numpy\n",
    "import matplotlib\n",
    "from matplotlib import pyplot\n",
    "%matplotlib inline\n",
    "x=numpy.linspace(-3,3,20);\n",
    "y=1*x**2 + 2*x + 1;\n",
    "pyplot.plot(x,y);\n",
    "pyplot.title(\"Quadratic Function Plot: a = 1, b = 2, c = 1\")\n",
    "pyplot.xlabel(\"x axis\")\n",
    "pyplot.ylabel(\"y axis\")\n",
    "pyplot.grid()\n",
    "pyplot.show()\n",
    "\n",
    "# Note that this graph should show that\n",
    "# x = -1 and x = -1 (i.e., the same value)\n",
    "# are the inputs that cause the function to\n",
    "# produce the same output! Does this function\n",
    "# plot show that there might also be other roots?"
   ]
  },
  {
   "cell_type": "code",
   "execution_count": null,
   "metadata": {},
   "outputs": [],
   "source": [
    "# Visualize the first function for which the roots were calculated\n",
    "# Reference for additional examples and the code on which this example was based:\n",
    "# https://tbc-python.fossee.in/convert-notebook/Algebra_by__P._Abbott_And_M._E._Wardle/Chapter_13_Graphs_of_Quadratic_Functions.ipynb\n",
    "import numpy\n",
    "import matplotlib\n",
    "from matplotlib import pyplot\n",
    "%matplotlib inline\n",
    "x=numpy.linspace(-3,10,20);\n",
    "y=1*x**2 + -7*x + 10;\n",
    "pyplot.plot(x,y);\n",
    "pyplot.title(\"Quadratic Function Plot: a = 1, b = -7, c = 10\")\n",
    "pyplot.xlabel(\"x axis\")\n",
    "pyplot.ylabel(\"y axis\")\n",
    "pyplot.grid()\n",
    "pyplot.show()\n",
    "\n",
    "# Note that this graph should show that\n",
    "# x = 2 and x = 5 are the inputs that cause\n",
    "# the function to produce the same output!"
   ]
  },
  {
   "cell_type": "code",
   "execution_count": null,
   "metadata": {},
   "outputs": [],
   "source": [
    "# Visualize the first function for which the roots were calculated\n",
    "# Reference for additional examples and the code on which this example was based:\n",
    "# https://tbc-python.fossee.in/convert-notebook/Algebra_by__P._Abbott_And_M._E._Wardle/Chapter_13_Graphs_of_Quadratic_Functions.ipynb\n",
    "import numpy\n",
    "import matplotlib\n",
    "from matplotlib import pyplot\n",
    "%matplotlib inline\n",
    "x=numpy.linspace(-5,5,20);\n",
    "y=1*x**2 + 1*x + 1;\n",
    "pyplot.plot(x,y);\n",
    "pyplot.title(\"Quadratic Function Plot: a = 1, b = 1, c = 1\")\n",
    "pyplot.xlabel(\"x axis\")\n",
    "pyplot.ylabel(\"y axis\")\n",
    "pyplot.grid()\n",
    "pyplot.show()\n",
    "\n",
    "# Note that this function plot is harder to interpret\n",
    "# given the fact that the quadratic roots of this\n",
    "# function are imaginary. Refer to page 22 of the\n",
    "# \"Doing Math with Python\" book for a follow-on\n",
    "# discussion of why this program produces this output."
   ]
  },
  {
   "cell_type": "code",
   "execution_count": null,
   "metadata": {},
   "outputs": [],
   "source": [
    "# It is difficult to see how this visualization shows the complex\n",
    "# numbers that are the root of this quadratic function.\n",
    "\n",
    "# Make sure to read the following article to learn more about\n",
    "# how quadratic functions and imaginary numbers work:\n",
    "# https://betterexplained.com/articles/a-visual-intuitive-guide-to-imaginary-numbers/\n",
    "\n",
    "# You can also refer to the explanation in the following page:\n",
    "# https://mathbitsnotebook.com/Algebra1/Quadratics/QDcomplex.html\n",
    "# Question: can you see what is different about the first two\n",
    "# plots and the final plot with imaginary numbers?"
   ]
  },
  {
   "cell_type": "code",
   "execution_count": null,
   "metadata": {},
   "outputs": [],
   "source": [
    "# Summary Questions:\n",
    "\n",
    "# 1) What are the roots of a quadratic equation?\n",
    "# 2) How does the iterative approach calculate the roots of a quadratic equation?\n",
    "# 3) How do you use the graphs to identify the roots of a quadratic equation?"
   ]
  },
  {
   "cell_type": "code",
   "execution_count": null,
   "metadata": {},
   "outputs": [],
   "source": [
    "# Tasks:\n",
    "\n",
    "# 1) Find another example of a quadratic function that does not produce imaginary roots\n",
    "# 2) Find another example of a quadratic function that does produce imaginary roots\n",
    "# 3) Make sure that you call calc_quad_eqn_roots for both functions in 1) and 2)\n",
    "# 4) Create a graph using matplotlib for both of the functions in 1) and 2)\n",
    "# 5) Write a summary sentence that explains the purpose of calc_quad_eqn_roots"
   ]
  },
  {
   "cell_type": "code",
   "execution_count": null,
   "metadata": {},
   "outputs": [],
   "source": [
    "# Create a graph for inclusion in the slides on the Proactive Programmers web site\n",
    "# Note: learners who are exploring this material may run this code while bearing\n",
    "# in mind that it may only work with a local Jupyter Lab server run through Poetry\n",
    "\n",
    "import numpy\n",
    "import matplotlib\n",
    "from matplotlib import pyplot\n",
    "%matplotlib inline\n",
    "figure = pyplot.figure()\n",
    "pyplot.rcParams[\"figure.figsize\"] = [8.00, 4.50]\n",
    "pyplot.rcParams[\"figure.autolayout\"] = True\n",
    "x=numpy.linspace(-3,3,20);\n",
    "y=1*x**2 + 2*x + 1;\n",
    "pyplot.plot(x,y);\n",
    "pyplot.title(\"Quadratic Function Plot: a = 1, b = 2, c = 1\")\n",
    "pyplot.xlabel(\"x axis\")\n",
    "pyplot.ylabel(\"y axis\")\n",
    "pyplot.grid()\n",
    "pyplot.show()\n",
    "figure.savefig(\"quadratic-graph-one-two-one.svg\", transparent=True)"
   ]
  },
  {
   "cell_type": "code",
   "execution_count": null,
   "metadata": {},
   "outputs": [],
   "source": [
    "# Create a graph for inclusion in the slides on the Proactive Programmers web site\n",
    "# Note: learners who are exploring this material may run this code while bearing\n",
    "# in mind that it may only work with a local Jupyter Lab server run through Poetry\n",
    "\n",
    "import numpy\n",
    "import matplotlib\n",
    "from matplotlib import pyplot\n",
    "%matplotlib inline\n",
    "figure = pyplot.figure()\n",
    "pyplot.rcParams[\"figure.figsize\"] = [8.00, 4.50]\n",
    "pyplot.rcParams[\"figure.autolayout\"] = True\n",
    "x=numpy.linspace(-3,10,20);\n",
    "y=1*x**2 + -7*x + 10;\n",
    "pyplot.plot(x,y);\n",
    "pyplot.title(\"Quadratic Function Plot: a = 1, b = -7, c = 10\")\n",
    "pyplot.xlabel(\"x axis\")\n",
    "pyplot.ylabel(\"y axis\")\n",
    "pyplot.grid()\n",
    "pyplot.show()\n",
    "figure.savefig(\"quadratic-graph-one-negativeseven-ten.svg\", transparent=True)"
   ]
  }
 ],
 "metadata": {
  "kernelspec": {
   "display_name": "Python 3 (ipykernel)",
   "language": "python",
   "name": "python3"
  },
  "language_info": {
   "codemirror_mode": {
    "name": "ipython",
    "version": 3
   },
   "file_extension": ".py",
   "mimetype": "text/x-python",
   "name": "python",
   "nbconvert_exporter": "python",
   "pygments_lexer": "ipython3",
   "version": "3.10.5"
  },
  "toc-autonumbering": false,
  "toc-showcode": false,
  "toc-showmarkdowntxt": true
 },
 "nbformat": 4,
 "nbformat_minor": 4
}
