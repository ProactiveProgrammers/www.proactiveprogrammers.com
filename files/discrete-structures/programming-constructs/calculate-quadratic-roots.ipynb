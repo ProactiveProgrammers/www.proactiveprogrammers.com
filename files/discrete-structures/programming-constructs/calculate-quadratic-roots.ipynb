{
  "metadata": {
    "kernelspec": {
      "name": "python",
      "display_name": "Pyolite",
      "language": "python"
    },
    "language_info": {
      "codemirror_mode": {
        "name": "python",
        "version": 3
      },
      "file_extension": ".py",
      "mimetype": "text/x-python",
      "name": "python",
      "nbconvert_exporter": "python",
      "pygments_lexer": "ipython3",
      "version": "3.8"
    },
    "toc-autonumbering": false,
    "toc-showcode": false,
    "toc-showmarkdowntxt": true
  },
  "nbformat_minor": 4,
  "nbformat": 4,
  "cells": [
    {
      "cell_type": "code",
      "source": "# define a function that can calculate the quadratic roots\n# of a mathematical function\ndef calc_quad_eqn_roots(a: float, b: float, c: float):\n    \"\"\"Calculate roots of quadratic equation.\"\"\"\n    D = (b * b - 4 * a * c) ** 0.5\n    x_one = (-b + D) / (2 * a)\n    x_two = (-b - D) / (2 * a)\n    return x_one, x_two",
      "metadata": {
        "trusted": true
      },
      "execution_count": null,
      "outputs": []
    },
    {
      "cell_type": "code",
      "source": "# Questions:\n# 1) What are the inputs to the above function?\n# 2) What are the outputs of the above function?\n# 3) What are the data types of the inputs and the outputs?\n# 4) What is the purpose of this function?\n# 5) How does this function achieve that purpose?\n# 6) How would you write this function as an equation?",
      "metadata": {
        "trusted": true
      },
      "execution_count": null,
      "outputs": []
    },
    {
      "cell_type": "code",
      "source": "# define the three values for the input\na = 1\nb = 2\nc = 1\n# call the function with the three inputs and\n# capture the output created by the function\nx_one, x_two = calc_quad_eqn_roots(a, b, c)\n# display the output of the function using f-strings\nprint(f\"✨ The first root of the equation is {x_one}\")\nprint(f\"✨ The second root of the equation is {x_two}\")",
      "metadata": {
        "trusted": true
      },
      "execution_count": null,
      "outputs": []
    },
    {
      "cell_type": "code",
      "source": "# define the three values for the input\na = 1\nb = -7\nc = 10\n# call the function with the three inputs and\n# capture the output created by the function\nx_one, x_two = calc_quad_eqn_roots(a, b, c)\n# display the output of the function using f-strings\nprint(f\"✨ The first root of the equation is {x_one}\")\nprint(f\"✨ The second root of the equation is {x_two}\")",
      "metadata": {
        "trusted": true
      },
      "execution_count": null,
      "outputs": []
    },
    {
      "cell_type": "code",
      "source": "# define the three values for the input\na = 1\nb = 1\nc = 1\n# call the function with the three inputs and\n# capture the output created by the function\nx_one, x_two = calc_quad_eqn_roots(a, b, c)\n# display the output of the function using f-strings\nprint(f\"✨ The first root of the equation is {x_one}\")\nprint(f\"✨ The second root of the equation is {x_two}\")",
      "metadata": {
        "trusted": true
      },
      "execution_count": null,
      "outputs": []
    },
    {
      "cell_type": "code",
      "source": "# Here are some references to consider:\n# 1) https://www.calculatorsoup.com/calculators/algebra/quadratic-formula-calculator.php\n# 2) https://betterexplained.com/articles/a-visual-intuitive-guide-to-imaginary-numbers/\n#\n# Can you explain the meaning of this program's output?\n# Why does the output contain numbers that are using the letter \"j\"?",
      "metadata": {},
      "execution_count": null,
      "outputs": []
    },
    {
      "cell_type": "code",
      "source": "# Visualize the first function for which the roots were calculated\n# Reference for additional examples and the code on which this example was based:\n# https://tbc-python.fossee.in/convert-notebook/Algebra_by__P._Abbott_And_M._E._Wardle/Chapter_13_Graphs_of_Quadratic_Functions.ipynb\nimport numpy\nimport matplotlib\nfrom matplotlib import pyplot\n%matplotlib inline\nx=numpy.linspace(-3,3,20);\ny=1*x**2 + 2*x + 1;\npyplot.plot(x,y);\npyplot.title(\"Quadratic Function Plot: a = 1, b = 2, c = 1\")\npyplot.xlabel(\"x axis\")\npyplot.ylabel(\"y axis\")\npyplot.grid()\npyplot.show()\n# Note that this graph should show that\n# x = -1 and x = -1 (i.e., the same value)\n# are the inputs that cause the function to\n# produce the same output! Does this function\n# plot show that there might also be other roots?",
      "metadata": {
        "trusted": true
      },
      "execution_count": null,
      "outputs": []
    },
    {
      "cell_type": "code",
      "source": "# Visualize the first function for which the roots were calculated\n# Reference for additional examples and the code on which this example was based:\n# https://tbc-python.fossee.in/convert-notebook/Algebra_by__P._Abbott_And_M._E._Wardle/Chapter_13_Graphs_of_Quadratic_Functions.ipynb\nimport numpy\nimport matplotlib\nfrom matplotlib import pyplot\n%matplotlib inline\nx=numpy.linspace(-3,10,20);\ny=1*x**2 + -7*x + 10;\npyplot.plot(x,y);\npyplot.title(\"Quadratic Function Plot: a = 1, b = -7, c = 10\")\npyplot.xlabel(\"x axis\")\npyplot.ylabel(\"y axis\")\npyplot.grid()\npyplot.show()\n# Note that this graph should show that\n# x = 2 and x = 5 are the inputs that cause\n# the function to produce the same output!",
      "metadata": {
        "trusted": true
      },
      "execution_count": null,
      "outputs": []
    },
    {
      "cell_type": "code",
      "source": "# Visualize the first function for which the roots were calculated\n# Reference for additional examples and the code on which this example was based:\n# https://tbc-python.fossee.in/convert-notebook/Algebra_by__P._Abbott_And_M._E._Wardle/Chapter_13_Graphs_of_Quadratic_Functions.ipynb\nimport numpy\nimport matplotlib\nfrom matplotlib import pyplot\n%matplotlib inline\nx=numpy.linspace(-5,5,20);\ny=1*x**2 + 1*x + 1;\npyplot.plot(x,y);\npyplot.title(\"Quadratic Function Plot: a = 1, b = 1, c = 1\")\npyplot.xlabel(\"x axis\")\npyplot.ylabel(\"y axis\")\npyplot.grid()\npyplot.show()\n# Note that this function plot is harder to interpret\n# given the fact that the quadratic roots of this\n# function are imaginary. Refer to page 22 of the\n# \"Doing Math with Python\" book for a follow-on\n# discussion of why this program produces this output.",
      "metadata": {
        "trusted": true
      },
      "execution_count": null,
      "outputs": []
    },
    {
      "cell_type": "code",
      "source": "# It is difficult to see how this visualization shows the complex\n# numbers that are the root of this quadratic function.\n# Make sure to read the following article to learn more about\n# how quadratic functions and imaginary numbers work:\n# https://betterexplained.com/articles/a-visual-intuitive-guide-to-imaginary-numbers/\n# You can also refer to the explanation in the following page:\n# https://mathbitsnotebook.com/Algebra1/Quadratics/QDcomplex.html\n# Question: can you see what is different about the first two\n# plots and the final plot with imaginary numbers?",
      "metadata": {
        "trusted": true
      },
      "execution_count": null,
      "outputs": []
    },
    {
      "cell_type": "code",
      "source": "# Next steps:\n# 1) Find another example of a quadratic function that does not produce imaginary roots\n# 2) Find another example of a quadratic function that does produce imaginary roots\n# 3) Make sure that you call calc_quad_eqn_roots for both functions in 1) and 2)\n# 4) Create a graph using matplotlib for both of the functions in 1) and 2)\n# 5) Write a summary sentence that explains the purpose of calc_quad_eqn_roots",
      "metadata": {},
      "execution_count": null,
      "outputs": []
    }
  ]
}