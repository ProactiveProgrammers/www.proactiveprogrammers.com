{
 "cells": [
  {
   "cell_type": "code",
   "execution_count": null,
   "metadata": {},
   "outputs": [],
   "source": [
    "# Explore and understand how to create and access the\n",
    "# contents inside of a set in the Python language"
   ]
  },
  {
   "cell_type": "code",
   "execution_count": null,
   "metadata": {},
   "outputs": [],
   "source": [
    "# Technical Topics:\n",
    "\n",
    "# Create sets\n",
    "# Set union operation\n",
    "# Set intersection operation\n",
    "# Set difference operations\n",
    "# Display the contents of sets"
   ]
  },
  {
   "cell_type": "code",
   "execution_count": null,
   "metadata": {},
   "outputs": [],
   "source": [
    "# perform set creation"
   ]
  },
  {
   "cell_type": "code",
   "execution_count": null,
   "metadata": {},
   "outputs": [],
   "source": [
    "# create a set out of a list\n",
    "x = set(['pencil', 'paper', 'pen',\n",
    "         'pencil', 'wallet', 'pen'])\n",
    "\n",
    "# display the contents of the set\n",
    "print(\"Set defined with a list:\")\n",
    "print(x)"
   ]
  },
  {
   "cell_type": "code",
   "execution_count": null,
   "metadata": {},
   "outputs": [],
   "source": [
    "# create a set out of a tuple\n",
    "x = set(('pencil', 'paper', 'pen',\n",
    "         'pencil', 'wallet', 'pen'))\n",
    "\n",
    "# display the contents of the set\n",
    "print(\"Set defined with a tuple:\")\n",
    "print(x)"
   ]
  },
  {
   "cell_type": "code",
   "execution_count": null,
   "metadata": {},
   "outputs": [],
   "source": [
    "# create a set with multiple data types inside of it\n",
    "x = {53, 'pencil',\n",
    "     (1, 1, 2, 3, 5), 3.14159}\n",
    "\n",
    "print(\"Set with multiple types:\")\n",
    "print(x)"
   ]
  },
  {
   "cell_type": "code",
   "execution_count": null,
   "metadata": {},
   "outputs": [],
   "source": [
    "# cannot create a set out of mutable elements\n",
    "list = [53, 'pencil',\n",
    "        (1, 1, 2, 3, 5), 3.14159]\n",
    "x = {list}"
   ]
  },
  {
   "cell_type": "code",
   "execution_count": null,
   "metadata": {},
   "outputs": [],
   "source": [
    "# Technical Question: why does one approach work for creating a set\n",
    "# out of a list when the other approach causes a TypeError?"
   ]
  },
  {
   "cell_type": "code",
   "execution_count": null,
   "metadata": {},
   "outputs": [],
   "source": [
    "# perform the set operations"
   ]
  },
  {
   "cell_type": "code",
   "execution_count": null,
   "metadata": {},
   "outputs": [],
   "source": [
    "# create four sets and then compute their union\n",
    "a = {1, 2, 3, 4}\n",
    "b = {2, 3, 4, 5}\n",
    "c = {3, 4, 5, 6}\n",
    "d = {4, 5, 6, 7}\n",
    "print(a.union(b, c, d))\n",
    "print(a | b | c | d)"
   ]
  },
  {
   "cell_type": "code",
   "execution_count": null,
   "metadata": {},
   "outputs": [],
   "source": [
    "# create four sets and then compute their intersection\n",
    "a = {1, 2, 3, 4}\n",
    "b = {2, 3, 4, 5}\n",
    "c = {3, 4, 5, 6}\n",
    "d = {4, 5, 6, 7}\n",
    "print(a.intersection(b, c, d))\n",
    "print(a & b & c & d)"
   ]
  },
  {
   "cell_type": "code",
   "execution_count": null,
   "metadata": {},
   "outputs": [],
   "source": [
    "# create four sets and then compute a difference\n",
    "a = {1, 2, 3, 4}\n",
    "b = {2, 3, 4, 5}\n",
    "c = {3, 4, 5, 6}\n",
    "d = {4, 5, 6, 7}\n",
    "print(a.difference(b, c))\n",
    "print(a - b - c)"
   ]
  },
  {
   "cell_type": "code",
   "execution_count": null,
   "metadata": {},
   "outputs": [],
   "source": [
    "# create sets using a set comprehension"
   ]
  },
  {
   "cell_type": "code",
   "execution_count": null,
   "metadata": {},
   "outputs": [],
   "source": [
    "# create a set of the odd positive values\n",
    "odd_positives = {n for n in range(100)\n",
    "                 if n % 2 == 1}\n",
    "\n",
    "for odd_positive in odd_positives:\n",
    "    print(odd_positive)\n",
    "\n",
    "print(odd_positives)"
   ]
  },
  {
   "cell_type": "code",
   "execution_count": null,
   "metadata": {},
   "outputs": [],
   "source": [
    "# create a set of the even positive values\n",
    "even_positives = {n for n in range(100)\n",
    "                  if n % 2 == 0}\n",
    "\n",
    "for even_positive in even_positives:\n",
    "    print(even_positive)\n",
    "\n",
    "print(even_positives)"
   ]
  },
  {
   "cell_type": "code",
   "execution_count": null,
   "metadata": {},
   "outputs": [],
   "source": [
    "# create sets using a set comprehension and boolean logic"
   ]
  },
  {
   "cell_type": "code",
   "execution_count": null,
   "metadata": {},
   "outputs": [],
   "source": [
    "# create a set were the values are either odd or the specific value of 2\n",
    "odd_positives_two = {n for n in range(20) if n % 2 == 1 or n == 2}\n",
    "\n",
    "for value in odd_positives_two:\n",
    "    print(value)\n",
    "\n",
    "print(odd_positives_two)"
   ]
  },
  {
   "cell_type": "code",
   "execution_count": null,
   "metadata": {},
   "outputs": [],
   "source": [
    "# create a set where the numbers are both divisible by 2 and by 4\n",
    "even_positives_by_four = {n for n in range(20) if n % 2 == 0 and n % 4 == 0}\n",
    "\n",
    "for value in even_positives_by_four:\n",
    "    print(value)\n",
    "\n",
    "print(even_positives_by_four)"
   ]
  },
  {
   "cell_type": "code",
   "execution_count": null,
   "metadata": {},
   "outputs": [],
   "source": [
    "# Summary Questions:\n",
    "# 1) What is the behavior of the set union function?\n",
    "# 2) What is the behavior of the set intersection function?\n",
    "# 3) What is the behavior of the set union function?\n",
    "# 4) What is the purpose of a set comprehension?\n",
    "# 5) What are the restrictions associated with creating a set?"
   ]
  }
 ],
 "metadata": {
  "kernelspec": {
   "display_name": "Python 3 (ipykernel)",
   "language": "python",
   "name": "python3"
  },
  "language_info": {
   "codemirror_mode": {
    "name": "ipython",
    "version": 3
   },
   "file_extension": ".py",
   "mimetype": "text/x-python",
   "name": "python",
   "nbconvert_exporter": "python",
   "pygments_lexer": "ipython3",
   "version": "3.10.5"
  },
  "toc-autonumbering": false,
  "toc-showcode": false,
  "toc-showmarkdowntxt": true
 },
 "nbformat": 4,
 "nbformat_minor": 4
}
