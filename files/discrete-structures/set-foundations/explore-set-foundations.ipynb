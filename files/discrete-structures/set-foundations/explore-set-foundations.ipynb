{
  "metadata": {
    "kernelspec": {
      "name": "python",
      "display_name": "Pyolite",
      "language": "python"
    },
    "language_info": {
      "codemirror_mode": {
        "name": "python",
        "version": 3
      },
      "file_extension": ".py",
      "mimetype": "text/x-python",
      "name": "python",
      "nbconvert_exporter": "python",
      "pygments_lexer": "ipython3",
      "version": "3.8"
    },
    "toc-autonumbering": false,
    "toc-showcode": false,
    "toc-showmarkdowntxt": true
  },
  "nbformat_minor": 4,
  "nbformat": 4,
  "cells": [
    {
      "cell_type": "code",
      "source": "# Explore and understand how to create and access the\n# contents inside of a set in the Python language",
      "metadata": {
        "trusted": true
      },
      "execution_count": null,
      "outputs": []
    },
    {
      "cell_type": "code",
      "source": "# --> perform set creation",
      "metadata": {
        "trusted": true
      },
      "execution_count": 1,
      "outputs": []
    },
    {
      "cell_type": "code",
      "source": "# create a set out of a list\nx = set(['pencil', 'paper', 'pen',\n         'pencil', 'wallet', 'pen'])\n\n# display the contents of the set\nprint(\"Set defined with a list:\")\nprint(x)",
      "metadata": {
        "trusted": true
      },
      "execution_count": 1,
      "outputs": [
        {
          "name": "stdout",
          "text": "Set defined with a list:\n{'wallet', 'paper', 'pen', 'pencil'}\n",
          "output_type": "stream"
        }
      ]
    },
    {
      "cell_type": "code",
      "source": "# create a set out of a tuple\nx = set(('pencil', 'paper', 'pen',\n         'pencil', 'wallet', 'pen'))\n\n# display the contents of the set\nprint(\"Set defined with a tuple:\")\nprint(x)",
      "metadata": {
        "trusted": true
      },
      "execution_count": 3,
      "outputs": [
        {
          "name": "stdout",
          "text": "Set defined with a tuple:\n{'wallet', 'paper', 'pen', 'pencil'}\n",
          "output_type": "stream"
        }
      ]
    },
    {
      "cell_type": "code",
      "source": "# create a set with multiple data types inside of it\nx = {53, 'pencil',\n     (1, 1, 2, 3, 5), 3.14159}\n\nprint(\"Set with multiple types:\")\nprint(x)",
      "metadata": {
        "trusted": true
      },
      "execution_count": 4,
      "outputs": [
        {
          "name": "stdout",
          "text": "Set with multiple types:\n{(1, 1, 2, 3, 5), 3.14159, 53, 'pencil'}\n",
          "output_type": "stream"
        }
      ]
    },
    {
      "cell_type": "code",
      "source": "# cannot create a set out of mutable elements\nlist = [53, 'pencil',\n        (1, 1, 2, 3, 5), 3.14159]\nx = {list}",
      "metadata": {
        "trusted": true
      },
      "execution_count": 5,
      "outputs": [
        {
          "ename": "<class 'TypeError'>",
          "evalue": "unhashable type: 'list'",
          "traceback": [
            "\u001b[0;31m---------------------------------------------------------------------------\u001b[0m",
            "\u001b[0;31mTypeError\u001b[0m                                 Traceback (most recent call last)",
            "Input \u001b[0;32mIn [5]\u001b[0m, in \u001b[0;36m<cell line: 4>\u001b[0;34m()\u001b[0m\n\u001b[1;32m      1\u001b[0m \u001b[38;5;66;03m# cannot create a set out of mutable elements\u001b[39;00m\n\u001b[1;32m      2\u001b[0m \u001b[38;5;28mlist\u001b[39m \u001b[38;5;241m=\u001b[39m [\u001b[38;5;241m53\u001b[39m, \u001b[38;5;124m'\u001b[39m\u001b[38;5;124mpencil\u001b[39m\u001b[38;5;124m'\u001b[39m,\n\u001b[1;32m      3\u001b[0m         (\u001b[38;5;241m1\u001b[39m, \u001b[38;5;241m1\u001b[39m, \u001b[38;5;241m2\u001b[39m, \u001b[38;5;241m3\u001b[39m, \u001b[38;5;241m5\u001b[39m), \u001b[38;5;241m3.14159\u001b[39m]\n\u001b[0;32m----> 4\u001b[0m x \u001b[38;5;241m=\u001b[39m {\u001b[38;5;28mlist\u001b[39m}\n",
            "\u001b[0;31mTypeError\u001b[0m: unhashable type: 'list'"
          ],
          "output_type": "error"
        }
      ]
    },
    {
      "cell_type": "code",
      "source": "# Question: why does one approach work for creating a set\n# out of a list when the other approach causes a TypeError?",
      "metadata": {
        "trusted": true
      },
      "execution_count": 6,
      "outputs": []
    },
    {
      "cell_type": "code",
      "source": "# --> perform the set operations",
      "metadata": {
        "trusted": true
      },
      "execution_count": 7,
      "outputs": []
    },
    {
      "cell_type": "code",
      "source": "# create four sets and then compute their union\na = {1, 2, 3, 4}\nb = {2, 3, 4, 5}\nc = {3, 4, 5, 6}\nd = {4, 5, 6, 7}\nprint(a.union(b, c, d))\nprint(a | b | c | d)",
      "metadata": {
        "trusted": true
      },
      "execution_count": 8,
      "outputs": [
        {
          "name": "stdout",
          "text": "{1, 2, 3, 4, 5, 6, 7}\n{1, 2, 3, 4, 5, 6, 7}\n",
          "output_type": "stream"
        }
      ]
    },
    {
      "cell_type": "code",
      "source": "# create four sets and then compute their intersection\na = {1, 2, 3, 4}\nb = {2, 3, 4, 5}\nc = {3, 4, 5, 6}\nd = {4, 5, 6, 7}\nprint(a.intersection(b, c, d))\nprint(a & b & c & d)",
      "metadata": {
        "trusted": true
      },
      "execution_count": 9,
      "outputs": [
        {
          "name": "stdout",
          "text": "{4}\n{4}\n",
          "output_type": "stream"
        }
      ]
    },
    {
      "cell_type": "code",
      "source": "# create four sets and then compute a difference\na = {1, 2, 3, 4}\nb = {2, 3, 4, 5}\nc = {3, 4, 5, 6}\nd = {4, 5, 6, 7}\nprint(a.difference(b, c))\nprint(a - b - c)",
      "metadata": {
        "trusted": true
      },
      "execution_count": 10,
      "outputs": [
        {
          "name": "stdout",
          "text": "{1}\n{1}\n",
          "output_type": "stream"
        }
      ]
    },
    {
      "cell_type": "code",
      "source": "# --> create sets using a set comprehension",
      "metadata": {
        "trusted": true
      },
      "execution_count": 11,
      "outputs": []
    },
    {
      "cell_type": "code",
      "source": "# create a set of the odd positive values\nodd_positives = {n for n in range(100)\n                 if n % 2 == 1}\n\nfor odd_positive in odd_positives:\n    print(odd_positive)\n\nprint(odd_positives)",
      "metadata": {
        "trusted": true
      },
      "execution_count": 13,
      "outputs": [
        {
          "name": "stdout",
          "text": "1\n3\n5\n7\n9\n11\n13\n15\n17\n19\n21\n23\n25\n27\n29\n31\n33\n35\n37\n39\n41\n43\n45\n47\n49\n51\n53\n55\n57\n59\n61\n63\n65\n67\n69\n71\n73\n75\n77\n79\n81\n83\n85\n87\n89\n91\n93\n95\n97\n99\n{1, 3, 5, 7, 9, 11, 13, 15, 17, 19, 21, 23, 25, 27, 29, 31, 33, 35, 37, 39, 41, 43, 45, 47, 49, 51, 53, 55, 57, 59, 61, 63, 65, 67, 69, 71, 73, 75, 77, 79, 81, 83, 85, 87, 89, 91, 93, 95, 97, 99}\n",
          "output_type": "stream"
        }
      ]
    },
    {
      "cell_type": "code",
      "source": "# create a set of the even positive values\neven_positives = {n for n in range(100)\n                  if n % 2 == 0}\n\nfor even_positive in even_positives:\n    print(even_positive)\n\nprint(even_positives)",
      "metadata": {
        "trusted": true
      },
      "execution_count": 14,
      "outputs": [
        {
          "name": "stdout",
          "text": "0\n2\n4\n6\n8\n10\n12\n14\n16\n18\n20\n22\n24\n26\n28\n30\n32\n34\n36\n38\n40\n42\n44\n46\n48\n50\n52\n54\n56\n58\n60\n62\n64\n66\n68\n70\n72\n74\n76\n78\n80\n82\n84\n86\n88\n90\n92\n94\n96\n98\n{0, 2, 4, 6, 8, 10, 12, 14, 16, 18, 20, 22, 24, 26, 28, 30, 32, 34, 36, 38, 40, 42, 44, 46, 48, 50, 52, 54, 56, 58, 60, 62, 64, 66, 68, 70, 72, 74, 76, 78, 80, 82, 84, 86, 88, 90, 92, 94, 96, 98}\n",
          "output_type": "stream"
        }
      ]
    },
    {
      "cell_type": "code",
      "source": "# --> create sets using a set comprehension and boolean logic",
      "metadata": {
        "trusted": true
      },
      "execution_count": 15,
      "outputs": []
    },
    {
      "cell_type": "code",
      "source": "# create a set were the values are either odd or the specific value of 2\nodd_positives_two = {n for n in range(20) if n % 2 == 1 or n == 2}\n\nfor value in odd_positives_two:\n    print(value)\n\nprint(odd_positives_two)",
      "metadata": {
        "trusted": true
      },
      "execution_count": 19,
      "outputs": [
        {
          "name": "stdout",
          "text": "1\n2\n3\n5\n7\n9\n11\n13\n15\n17\n19\n{1, 2, 3, 5, 7, 9, 11, 13, 15, 17, 19}\n",
          "output_type": "stream"
        }
      ]
    },
    {
      "cell_type": "code",
      "source": "# create a set where the numbers are both divisible by 2 and by 4\neven_positives_by_four = {n for n in range(20) if n % 2 == 0 and n % 4 == 0}\n\nfor value in even_positives_by_four:\n    print(value)\n\nprint(even_positives_by_four)",
      "metadata": {
        "trusted": true
      },
      "execution_count": 23,
      "outputs": [
        {
          "name": "stdout",
          "text": "0\n4\n8\n12\n16\n{0, 4, 8, 12, 16}\n",
          "output_type": "stream"
        }
      ]
    },
    {
      "cell_type": "code",
      "source": "",
      "metadata": {},
      "execution_count": null,
      "outputs": []
    }
  ]
}