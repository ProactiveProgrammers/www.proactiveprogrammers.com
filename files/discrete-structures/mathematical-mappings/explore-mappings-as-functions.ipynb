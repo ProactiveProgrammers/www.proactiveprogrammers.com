{
  "metadata": {
    "kernelspec": {
      "name": "python",
      "display_name": "Pyolite",
      "language": "python"
    },
    "language_info": {
      "codemirror_mode": {
        "name": "python",
        "version": 3
      },
      "file_extension": ".py",
      "mimetype": "text/x-python",
      "name": "python",
      "nbconvert_exporter": "python",
      "pygments_lexer": "ipython3",
      "version": "3.8"
    },
    "toc-autonumbering": false,
    "toc-showcode": false,
    "toc-showmarkdowntxt": true
  },
  "nbformat_minor": 4,
  "nbformat": 4,
  "cells": [
    {
      "cell_type": "code",
      "source": "# Explore and understand how to create mappings from\n# an input to an output through the use of a function",
      "metadata": {
        "trusted": true
      },
      "execution_count": null,
      "outputs": []
    },
    {
      "cell_type": "code",
      "source": "# define the fibonacci function\nfrom typing import Tuple\ndef fibonacci(number: int) -> Tuple[int]:\n    result = ()\n    a = 1\n    b = 1\n    for i in range(number):\n        result += (a,)\n        a, b = b, a + b\n    return result\n\n# call the fibonacci function multiple times\nprint(f\"fibonnacci(1) = {fibonacci(1)}\")\nprint(f\"fibonnacci(2) = {fibonacci(2)}\")\nprint(f\"fibonnacci(3) = {fibonacci(3)}\")\nprint(f\"fibonnacci(4) = {fibonacci(4)}\")\nprint(f\"fibonnacci(5) = {fibonacci(5)}\")\nprint(f\"fibonnacci(6) = {fibonacci(6)}\")\nprint(f\"fibonnacci(7) = {fibonacci(7)}\")",
      "metadata": {
        "trusted": true
      },
      "execution_count": null,
      "outputs": []
    },
    {
      "cell_type": "code",
      "source": "# define the factorial function\ndef factorial(number: int) -> int:\n    factorial_value = 1\n    values = list(range(1, number + 1))\n    for value in values:\n        factorial_value = factorial_value * value\n    return factorial_value",
      "metadata": {
        "trusted": true
      },
      "execution_count": null,
      "outputs": []
    },
    {
      "cell_type": "code",
      "source": "# call the factorial function multiple times\nprint(f\"factorial(1) = {factorial(1)}\")\nprint(f\"factorial(2) = {factorial(2)}\")\nprint(f\"factorial(3) = {factorial(3)}\")\nprint(f\"factorial(4) = {factorial(4)}\")\nprint(f\"factorial(5) = {factorial(5)}\")\nprint(f\"factorial(6) = {factorial(6)}\")\nprint(f\"factorial(7) = {factorial(7)}\")",
      "metadata": {
        "trusted": true
      },
      "execution_count": null,
      "outputs": []
    },
    {
      "cell_type": "code",
      "source": "# define the collatz function\nfrom typing import Iterator\ndef collatz(number: int) -> Iterator[int]:\n    yield number\n    while number != 1:\n        if number % 2 == 0:\n            number = number // 2\n        else:\n            number = 3 * number + 1\n        yield number",
      "metadata": {
        "trusted": true
      },
      "execution_count": null,
      "outputs": []
    },
    {
      "cell_type": "code",
      "source": "# call the collatz function\nprint(f\"collatz(1) = {list(collatz(1))}\")\nprint(f\"collatz(2) = {list(collatz(2))}\")\nprint(f\"collatz(3) = {list(collatz(3))}\")\nprint(f\"collatz(4) = {list(collatz(4))}\")\nprint(f\"collatz(5) = {list(collatz(5))}\")\nprint(f\"collatz(6) = {list(collatz(6))}\")\nprint(f\"collatz(7) = {list(collatz(7))}\")",
      "metadata": {
        "trusted": true
      },
      "execution_count": null,
      "outputs": []
    },
    {
      "cell_type": "code",
      "source": "# answer the following questions about these three functions:\n# 1) What are the inputs and outputs of the fibonacci function?\n# 2) What are the inputs and outputs of the factorial function?\n# 3) What are the inputs and outputs of the collatz function?\n# 4) Do each of these functions halt for any arbitrary input?\n# 5) What is the pattern between the inputs and outputs of these functions?\n# 6) Are the different ways in which you could implement at least one of these functions?\n# 7) What happened when you called these functions with different inputs?",
      "metadata": {
        "trusted": true
      },
      "execution_count": null,
      "outputs": []
    }
  ]
}