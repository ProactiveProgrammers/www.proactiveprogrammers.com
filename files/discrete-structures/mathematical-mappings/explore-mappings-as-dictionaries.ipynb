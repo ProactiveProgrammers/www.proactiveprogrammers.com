{
  "metadata": {
    "kernelspec": {
      "name": "python",
      "display_name": "Pyolite",
      "language": "python"
    },
    "language_info": {
      "codemirror_mode": {
        "name": "python",
        "version": 3
      },
      "file_extension": ".py",
      "mimetype": "text/x-python",
      "name": "python",
      "nbconvert_exporter": "python",
      "pygments_lexer": "ipython3",
      "version": "3.8"
    },
    "toc-autonumbering": false,
    "toc-showcode": false,
    "toc-showmarkdowntxt": true
  },
  "nbformat_minor": 4,
  "nbformat": 4,
  "cells": [
    {
      "cell_type": "code",
      "source": "# Explore and understand how to create and access the\n# contents inside of a set in the Python language",
      "metadata": {
        "trusted": true
      },
      "execution_count": null,
      "outputs": []
    },
    {
      "cell_type": "code",
      "source": "# --> perform set creation",
      "metadata": {
        "trusted": true
      },
      "execution_count": null,
      "outputs": []
    },
    {
      "cell_type": "code",
      "source": "# create a set out of a list\nx = set(['pencil', 'paper', 'pen',\n         'pencil', 'wallet', 'pen'])\n\n# display the contents of the set\nprint(\"Set defined with a list:\")\nprint(x)",
      "metadata": {
        "trusted": true
      },
      "execution_count": null,
      "outputs": []
    },
    {
      "cell_type": "code",
      "source": "# create a set out of a tuple\nx = set(('pencil', 'paper', 'pen',\n         'pencil', 'wallet', 'pen'))\n\n# display the contents of the set\nprint(\"Set defined with a tuple:\")\nprint(x)",
      "metadata": {
        "trusted": true
      },
      "execution_count": null,
      "outputs": []
    },
    {
      "cell_type": "code",
      "source": "# create a set with multiple data types inside of it\nx = {53, 'pencil',\n     (1, 1, 2, 3, 5), 3.14159}\n\nprint(\"Set with multiple types:\")\nprint(x)",
      "metadata": {
        "trusted": true
      },
      "execution_count": null,
      "outputs": []
    },
    {
      "cell_type": "code",
      "source": "# cannot create a set out of mutable elements\nlist = [53, 'pencil',\n        (1, 1, 2, 3, 5), 3.14159]\nx = {list}",
      "metadata": {
        "trusted": true
      },
      "execution_count": null,
      "outputs": []
    },
    {
      "cell_type": "code",
      "source": "# Question: why does one approach work for creating a set\n# out of a list when the other approach causes a TypeError?",
      "metadata": {
        "trusted": true
      },
      "execution_count": null,
      "outputs": []
    },
    {
      "cell_type": "code",
      "source": "# --> perform the set operations",
      "metadata": {
        "trusted": true
      },
      "execution_count": null,
      "outputs": []
    },
    {
      "cell_type": "code",
      "source": "# create four sets and then compute their union\na = {1, 2, 3, 4}\nb = {2, 3, 4, 5}\nc = {3, 4, 5, 6}\nd = {4, 5, 6, 7}\nprint(a.union(b, c, d))\nprint(a | b | c | d)",
      "metadata": {
        "trusted": true
      },
      "execution_count": null,
      "outputs": []
    },
    {
      "cell_type": "code",
      "source": "# create four sets and then compute their intersection\na = {1, 2, 3, 4}\nb = {2, 3, 4, 5}\nc = {3, 4, 5, 6}\nd = {4, 5, 6, 7}\nprint(a.intersection(b, c, d))\nprint(a & b & c & d)",
      "metadata": {
        "trusted": true
      },
      "execution_count": null,
      "outputs": []
    },
    {
      "cell_type": "code",
      "source": "# create four sets and then compute a difference\na = {1, 2, 3, 4}\nb = {2, 3, 4, 5}\nc = {3, 4, 5, 6}\nd = {4, 5, 6, 7}\nprint(a.difference(b, c))\nprint(a - b - c)",
      "metadata": {
        "trusted": true
      },
      "execution_count": null,
      "outputs": []
    },
    {
      "cell_type": "code",
      "source": "# --> create sets using a set comprehension",
      "metadata": {
        "trusted": true
      },
      "execution_count": null,
      "outputs": []
    },
    {
      "cell_type": "code",
      "source": "# create a set of the odd positive values\nodd_positives = {n for n in range(100)\n                 if n % 2 == 1}\n\nfor odd_positive in odd_positives:\n    print(odd_positive)\n\nprint(odd_positives)",
      "metadata": {
        "trusted": true
      },
      "execution_count": null,
      "outputs": []
    },
    {
      "cell_type": "code",
      "source": "# create a set of the even positive values\neven_positives = {n for n in range(100)\n                  if n % 2 == 0}\n\nfor even_positive in even_positives:\n    print(even_positive)\n\nprint(even_positives)",
      "metadata": {
        "trusted": true
      },
      "execution_count": null,
      "outputs": []
    },
    {
      "cell_type": "code",
      "source": "# --> create sets using a set comprehension and boolean logic",
      "metadata": {
        "trusted": true
      },
      "execution_count": null,
      "outputs": []
    },
    {
      "cell_type": "code",
      "source": "# create a set were the values are either odd or the specific value of 2\nodd_positives_two = {n for n in range(20) if n % 2 == 1 or n == 2}\n\nfor value in odd_positives_two:\n    print(value)\n\nprint(odd_positives_two)",
      "metadata": {
        "trusted": true
      },
      "execution_count": null,
      "outputs": []
    },
    {
      "cell_type": "code",
      "source": "# create a set where the numbers are both divisible by 2 and by 4\neven_positives_by_four = {n for n in range(20) if n % 2 == 0 and n % 4 == 0}\n\nfor value in even_positives_by_four:\n    print(value)\n\nprint(even_positives_by_four)",
      "metadata": {
        "trusted": true
      },
      "execution_count": null,
      "outputs": []
    }
  ]
}