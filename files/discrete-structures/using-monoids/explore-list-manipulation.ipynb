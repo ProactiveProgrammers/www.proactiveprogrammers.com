{
  "metadata": {
    "kernelspec": {
      "name": "python",
      "display_name": "Pyolite",
      "language": "python"
    },
    "language_info": {
      "codemirror_mode": {
        "name": "python",
        "version": 3
      },
      "file_extension": ".py",
      "mimetype": "text/x-python",
      "name": "python",
      "nbconvert_exporter": "python",
      "pygments_lexer": "ipython3",
      "version": "3.8"
    },
    "toc-autonumbering": false,
    "toc-showcode": false,
    "toc-showmarkdowntxt": true
  },
  "nbformat_minor": 4,
  "nbformat": 4,
  "cells": [
    {
      "cell_type": "code",
      "source": "# Explore and understand list manipulations with sums and products\n# This content helps to explain the concept of a monoid",
      "metadata": {
        "trusted": true
      },
      "execution_count": null,
      "outputs": []
    },
    {
      "cell_type": "code",
      "source": "# create two lists and then apply the sum function to both\nstandard_list = [1, 2, 3, 4, 5]\nreversed_list = [5, 4, 3, 2, 1]\n\nsum_list = sum(standard_list)\nsum_reversed_list = sum(reversed_list)\nprint(standard_list)\nprint(reversed_list)\nprint(sum_list)\nprint(sum_reversed_list)",
      "metadata": {
        "trusted": true
      },
      "execution_count": null,
      "outputs": []
    },
    {
      "cell_type": "code",
      "source": "# Questions:\n# 1) Do both of these sums produce the same output?\n# 2) What mathematical notation would you use to express this summation?\n# 3) Why does summing the two lists produce the same output?",
      "metadata": {
        "trusted": true
      },
      "execution_count": null,
      "outputs": []
    },
    {
      "cell_type": "code",
      "source": "# create two lists and apply the product function to both\nimport math\nstandard_list = [1, 2, 3, 4, 5]\nreversed_list = [5, 4, 3, 2, 1]\nproduct_list = math.prod(standard_list)\nproduct_reversed_list = math.prod(reversed_list)\nprint(standard_list)\nprint(reversed_list)\nprint(product_list)\nprint(product_reversed_list)",
      "metadata": {
        "trusted": true
      },
      "execution_count": null,
      "outputs": []
    },
    {
      "cell_type": "code",
      "source": "# Questions:\n# 1) Do both of these products produce the same output?\n# 2) What mathematical notation would you use to express this product computation?\n# 3) Why does multiplying together the two lists produce the same output?\n# 4) How are summations and products different?\n# 5) How are summations and products the same?\n# 6) What is the purpose of the import math statement?\n# 7) What is the purpose of the math.prod(standard_list) statement?",
      "metadata": {
        "trusted": true
      },
      "execution_count": null,
      "outputs": []
    }
  ]
}