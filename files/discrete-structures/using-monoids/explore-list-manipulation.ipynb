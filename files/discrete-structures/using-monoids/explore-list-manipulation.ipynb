{
 "cells": [
  {
   "cell_type": "code",
   "execution_count": null,
   "metadata": {},
   "outputs": [],
   "source": [
    "# Explore and understand list manipulations with sums and products\n",
    "# This content helps to explain and/or motivate the concept of a monoid"
   ]
  },
  {
   "cell_type": "code",
   "execution_count": null,
   "metadata": {},
   "outputs": [],
   "source": [
    "# Technical Topics:\n",
    "\n",
    "# Create a list\n",
    "# Manipulate the contents of a list\n",
    "# Display a list's contents\n",
    "# Trade-offs associated with listsj\n",
    "# Using lists to motivate the monoid discrete structure"
   ]
  },
  {
   "cell_type": "code",
   "execution_count": null,
   "metadata": {},
   "outputs": [],
   "source": [
    "# create two lists and then apply the sum function to both\n",
    "standard_list = [1, 2, 3, 4, 5]\n",
    "reversed_list = [5, 4, 3, 2, 1]\n",
    "\n",
    "sum_list = sum(standard_list)\n",
    "sum_reversed_list = sum(reversed_list)\n",
    "print(standard_list)\n",
    "print(reversed_list)\n",
    "print(sum_list)\n",
    "print(sum_reversed_list)"
   ]
  },
  {
   "cell_type": "code",
   "execution_count": 1,
   "metadata": {},
   "outputs": [],
   "source": [
    "# Summary Questions:\n",
    "# 1) Do both of these sums produce the same output?\n",
    "# 2) What mathematical notation would you use to express this summation?\n",
    "# 3) Why does summing the two lists produce the same output?"
   ]
  },
  {
   "cell_type": "code",
   "execution_count": null,
   "metadata": {},
   "outputs": [],
   "source": [
    "# create two lists and apply the product function to both\n",
    "import math\n",
    "standard_list = [1, 2, 3, 4, 5]\n",
    "reversed_list = [5, 4, 3, 2, 1]\n",
    "product_list = math.prod(standard_list)\n",
    "product_reversed_list = math.prod(reversed_list)\n",
    "print(standard_list)\n",
    "print(reversed_list)\n",
    "print(product_list)\n",
    "print(product_reversed_list)"
   ]
  },
  {
   "cell_type": "code",
   "execution_count": null,
   "metadata": {},
   "outputs": [],
   "source": [
    "# Summary Questions:\n",
    "# 1) Do both of these products produce the same output?\n",
    "# 2) What mathematical notation would you use to express this product computation?\n",
    "# 3) Why does multiplying together the two lists produce the same output?\n",
    "# 4) How are summations and products different?\n",
    "# 5) How are summations and products the same?\n",
    "# 6) What is the purpose of the import math statement?\n",
    "# 7) What is the purpose of the math.prod(standard_list) statement?"
   ]
  }
 ],
 "metadata": {
  "kernelspec": {
   "display_name": "Python 3 (ipykernel)",
   "language": "python",
   "name": "python3"
  },
  "language_info": {
   "codemirror_mode": {
    "name": "ipython",
    "version": 3
   },
   "file_extension": ".py",
   "mimetype": "text/x-python",
   "name": "python",
   "nbconvert_exporter": "python",
   "pygments_lexer": "ipython3",
   "version": "3.10.5"
  },
  "toc-autonumbering": false,
  "toc-showcode": false,
  "toc-showmarkdowntxt": true
 },
 "nbformat": 4,
 "nbformat_minor": 4
}
