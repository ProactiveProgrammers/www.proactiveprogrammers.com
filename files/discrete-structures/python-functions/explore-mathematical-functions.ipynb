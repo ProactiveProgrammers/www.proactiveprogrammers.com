{
 "cells": [
  {
   "cell_type": "code",
   "execution_count": null,
   "metadata": {},
   "outputs": [],
   "source": []
  },
  {
   "cell_type": "code",
   "execution_count": null,
   "metadata": {},
   "outputs": [],
   "source": []
  },
  {
   "cell_type": "code",
   "execution_count": null,
   "metadata": {},
   "outputs": [],
   "source": [
    "# Absolute value mathematical function\n",
    "#\n",
    "# define a function that computes the absolute\n",
    "# value of a number using conditional logic\n",
    "def abs(n: int) -> int:\n",
    "    if n >= 0:\n",
    "        return n\n",
    "    return -n"
   ]
  },
  {
   "cell_type": "code",
   "execution_count": null,
   "metadata": {},
   "outputs": [],
   "source": [
    "# call the abs function with different values and display the output\n",
    "abs_positive_input = abs(100)\n",
    "abs_negative_input = abs(-100)\n",
    "abs_zero_input = abs(0)\n",
    "print(f\"The absolute value of a positive number is {abs_positive_input}\")\n",
    "print(f\"The absolute value of a negative number is {abs_negative_input}\")\n",
    "print(f\"The absolute value of zero is {abs_zero_input}\")"
   ]
  },
  {
   "cell_type": "code",
   "execution_count": null,
   "metadata": {},
   "outputs": [],
   "source": [
    "# Technical Questions:\n",
    "\n",
    "# 1) What is the input of the above source code segments?\n",
    "# 2) What is the ouptut of the above source code segments?\n",
    "# 3) How is this source code different than the code in the slides?\n",
    "# 4) Which approach (e.g., with or without type annotations) do you prefer and why?\n",
    "# 5) How would you test this function to ensure it works correctly?"
   ]
  },
  {
   "cell_type": "code",
   "execution_count": null,
   "metadata": {},
   "outputs": [],
   "source": [
    "# Square root mathematical function\n",
    "#\n",
    "# define a function that computes the\n",
    "# square root of a number using an iteration construct\n",
    "def sqrt(num: int, tol: float) -> float:\n",
    "    guess = 1.0\n",
    "    while abs(num - guess*guess) > tol:\n",
    "        guess = guess - (guess*guess - num)/(2*guess)\n",
    "    return guess"
   ]
  },
  {
   "cell_type": "code",
   "execution_count": null,
   "metadata": {},
   "outputs": [],
   "source": [
    "# call the square root function with a different input\n",
    "number = 5\n",
    "tolerance = 0.0001\n",
    "square_root_number = sqrt(number, tolerance)\n",
    "print(f\"🙂 The square root of {number} is {square_root_number}\")"
   ]
  },
  {
   "cell_type": "code",
   "execution_count": null,
   "metadata": {},
   "outputs": [],
   "source": [
    "# call the square root function with a different input\n",
    "number = 4\n",
    "tolerance = 0.0001\n",
    "square_root_number = sqrt(number, tolerance)\n",
    "print(f\"🙂 The square root of {number} is {square_root_number}\")"
   ]
  },
  {
   "cell_type": "code",
   "execution_count": null,
   "metadata": {},
   "outputs": [],
   "source": [
    "# Technical Questions:\n",
    "\n",
    "# 1) What is the input of the above source code segments?\n",
    "# 2) What is the ouptut of the above source code segments?\n",
    "# 3) What are the functions formal and actual parameters?\n",
    "# 4) Why do the formal and actual parameters not have to have the same name?\n",
    "# 5) How would you test this function to ensure it works correctly?"
   ]
  },
  {
   "cell_type": "code",
   "execution_count": null,
   "metadata": {},
   "outputs": [],
   "source": [
    "# Recursive factorial function\n",
    "#\n",
    "# define a function that computes a factorial number\n",
    "# Reference: https://www.mathsisfun.com/numbers/factorial.html\n",
    "def factorial(number: int) -> int:\n",
    "    if number == 1:\n",
    "        return 1\n",
    "    return number * factorial(number - 1)"
   ]
  },
  {
   "cell_type": "code",
   "execution_count": null,
   "metadata": {},
   "outputs": [],
   "source": [
    "# call the factorial function with a different input\n",
    "factorial_input = 4\n",
    "factorial_number = factorial(factorial_input)\n",
    "print(f\"✨ {factorial_input}! is {factorial_number}\")"
   ]
  },
  {
   "cell_type": "code",
   "execution_count": null,
   "metadata": {},
   "outputs": [],
   "source": [
    "# call the factorial function with a different input\n",
    "factorial_input = 5\n",
    "factorial_number = factorial(factorial_input)\n",
    "print(f\"✨ {factorial_input}! is {factorial_number}\")"
   ]
  },
  {
   "cell_type": "code",
   "execution_count": null,
   "metadata": {},
   "outputs": [],
   "source": [
    "# Technical Questions:\n",
    "\n",
    "# 1) What is the input of the above source code segments?\n",
    "# 2) What is the ouptut of the above source code segments?\n",
    "# 3) What is the recursive case of the factorial function?\n",
    "# 4) What is the base case of the factorial function?\n",
    "# 5) Can you \"trace\" the execution of the recursive factorial function?"
   ]
  },
  {
   "cell_type": "code",
   "execution_count": null,
   "metadata": {},
   "outputs": [],
   "source": [
    "# Technical Task:\n",
    "\n",
    "# Call all of these functions with your own inputs and confirm\n",
    "# that they work correctly. Also, could you write these functions on your own?"
   ]
  }
 ],
 "metadata": {
  "kernelspec": {
   "display_name": "Python 3 (ipykernel)",
   "language": "python",
   "name": "python3"
  },
  "language_info": {
   "codemirror_mode": {
    "name": "ipython",
    "version": 3
   },
   "file_extension": ".py",
   "mimetype": "text/x-python",
   "name": "python",
   "nbconvert_exporter": "python",
   "pygments_lexer": "ipython3",
   "version": "3.10.5"
  },
  "toc-autonumbering": false,
  "toc-showcode": false,
  "toc-showmarkdowntxt": true
 },
 "nbformat": 4,
 "nbformat_minor": 4
}
