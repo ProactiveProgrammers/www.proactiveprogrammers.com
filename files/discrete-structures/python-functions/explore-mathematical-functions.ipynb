{
  "metadata": {
    "kernelspec": {
      "name": "python",
      "display_name": "Pyolite",
      "language": "python"
    },
    "language_info": {
      "codemirror_mode": {
        "name": "python",
        "version": 3
      },
      "file_extension": ".py",
      "mimetype": "text/x-python",
      "name": "python",
      "nbconvert_exporter": "python",
      "pygments_lexer": "ipython3",
      "version": "3.8"
    },
    "toc-autonumbering": false,
    "toc-showcode": false,
    "toc-showmarkdowntxt": true
  },
  "nbformat_minor": 4,
  "nbformat": 4,
  "cells": [
    {
      "cell_type": "code",
      "source": "# define a source code segment that can calculate\n# the square root of a number using an iterative\n# approach and this display the best guess\nn = 5\nguess = 2.0\nwhile abs(n - guess*guess) > 0.000001:\n    guess = guess - (guess*guess - n)/(2*guess)\nroot = guess\nprint(f\"🙂 The square root of {n} is {root}\")",
      "metadata": {
        "trusted": true
      },
      "execution_count": null,
      "outputs": []
    },
    {
      "cell_type": "code",
      "source": "# define a source code segment that can calculate\n# the square root of a number using an iterative\n# approach and this display the best guess\nn = 4\nguess = 1.0\nwhile abs(n - guess*guess) > 0.0001:\n    guess = guess - (guess*guess - n)/(2*guess)\nroot = guess\nprint(f\"🙂 The square root of {n} is {root}\")",
      "metadata": {
        "trusted": true
      },
      "execution_count": null,
      "outputs": []
    },
    {
      "cell_type": "code",
      "source": "# Questions:\n# 1) What is the input of the above source code segments?\n# 2) What is the ouptut of the above source code segments?\n# 3) What are the downsides associated with this approach?\n# 4) Can you implement this as a function instead of a \"script\"?\n# 5) What are the benefits of using a function?",
      "metadata": {
        "trusted": true
      },
      "execution_count": null,
      "outputs": []
    },
    {
      "cell_type": "code",
      "source": "# Tasks:\n# 1) Implement the above source code segment as a function\n# 2) Make sure that the function has type annotations for the\n#    input and the output parameters\n# 3) Do not produce output with a print statement in the function\n# 4) Call the function with input and capture the output in a variable\n# 5) Display the output of the function using an f-string and a print statement",
      "metadata": {
        "trusted": true
      },
      "execution_count": null,
      "outputs": []
    }
  ]
}