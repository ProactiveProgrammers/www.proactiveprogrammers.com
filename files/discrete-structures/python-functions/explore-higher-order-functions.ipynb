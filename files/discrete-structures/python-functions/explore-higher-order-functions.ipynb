{
 "cells": [
  {
   "cell_type": "code",
   "execution_count": null,
   "metadata": {},
   "outputs": [],
   "source": [
    "# Demonstrate the use of Python functions that are formulated in different ways"
   ]
  },
  {
   "cell_type": "code",
   "execution_count": null,
   "metadata": {},
   "outputs": [],
   "source": [
    "# Technical Topics:\n",
    "\n",
    "# Type annotations for Python functions\n",
    "# Higher-order functions that take as input a Callable function\n",
    "# Definition of a function in the Python language\n",
    "# Invocation of a function in the Python language\n",
    "# The memory address used for storage of a function"
   ]
  },
  {
   "cell_type": "code",
   "execution_count": null,
   "metadata": {},
   "outputs": [],
   "source": [
    "from typing import Callable\n",
    "\n",
    "# define a function that can square a number;\n",
    "# use print statements for the purposes of\n",
    "# debugging so that the behavior of this\n",
    "# function and the next function are most clear\n",
    "def square(number: int) -> int:\n",
    "    print(f\"Called square({number})\")\n",
    "    print(f\"  returning {number*number}\")\n",
    "    return number * number\n",
    "\n",
    "\n",
    "# define a higher-order function that can accept a function\n",
    "# as input and a number as input and then call the provided\n",
    "# function with the provided input; again, use print\n",
    "# statements for the purposes of debugging so that the\n",
    "# behavior of this function is most clear\n",
    "def call_twice(f: Callable[[int], int], number: int) -> int:\n",
    "    print(f\"Calling twice {f} with number {number}\")\n",
    "    return f(f(number))"
   ]
  },
  {
   "cell_type": "code",
   "execution_count": null,
   "metadata": {},
   "outputs": [],
   "source": [
    "num = 5\n",
    "result = call_twice(square, num)\n",
    "print(\"Calling the square twice with \" + str(num) + \" is \" + str(result))"
   ]
  },
  {
   "cell_type": "code",
   "execution_count": null,
   "metadata": {},
   "outputs": [],
   "source": [
    "# define a source code segment that can calculate\n",
    "# the square root of a number using an iterative\n",
    "# approach and this display the best guess\n",
    "num = 5\n",
    "result = num ** 4\n",
    "print(\"Checking the computation of square twice as \" + str(num) + \" is \" + str(result))"
   ]
  },
  {
   "cell_type": "code",
   "execution_count": null,
   "metadata": {},
   "outputs": [],
   "source": [
    "# Summary Questions:\n",
    "\n",
    "# 1) What is the input of the above source code segments?\n",
    "# 2) What is the ouptut of the above source code segments?\n",
    "# 3) What is the meaning of the <function square at [...]> notation?\n",
    "# 4) What is the meaning of def call_twice(f: Callable[[int], int], number: int) -> int notation?\n",
    "# 5) What are the benefits of using higher-order functions in Python?"
   ]
  },
  {
   "cell_type": "code",
   "execution_count": null,
   "metadata": {},
   "outputs": [],
   "source": []
  },
  {
   "cell_type": "code",
   "execution_count": null,
   "metadata": {},
   "outputs": [],
   "source": [
    "# Technical Task: \n",
    "\n",
    "# Call the call_twice function with different inputs\n",
    "# and confirm that it produces the correct output.\n",
    "# For instance, can you implement a cube function and then\n",
    "# pass that as input to the call_twice function?"
   ]
  }
 ],
 "metadata": {
  "kernelspec": {
   "display_name": "Python 3 (ipykernel)",
   "language": "python",
   "name": "python3"
  },
  "language_info": {
   "codemirror_mode": {
    "name": "ipython",
    "version": 3
   },
   "file_extension": ".py",
   "mimetype": "text/x-python",
   "name": "python",
   "nbconvert_exporter": "python",
   "pygments_lexer": "ipython3",
   "version": "3.10.5"
  },
  "toc-autonumbering": false,
  "toc-showcode": false,
  "toc-showmarkdowntxt": true
 },
 "nbformat": 4,
 "nbformat_minor": 4
}
