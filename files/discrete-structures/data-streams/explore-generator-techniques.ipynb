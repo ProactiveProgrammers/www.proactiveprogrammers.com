{
  "metadata": {
    "kernelspec": {
      "name": "python",
      "display_name": "Pyolite",
      "language": "python"
    },
    "language_info": {
      "codemirror_mode": {
        "name": "python",
        "version": 3
      },
      "file_extension": ".py",
      "mimetype": "text/x-python",
      "name": "python",
      "nbconvert_exporter": "python",
      "pygments_lexer": "ipython3",
      "version": "3.8"
    },
    "toc-autonumbering": false,
    "toc-showcode": false,
    "toc-showmarkdowntxt": true
  },
  "nbformat_minor": 4,
  "nbformat": 4,
  "cells": [
    {
      "cell_type": "code",
      "source": "# --> explore and understand how to use generator expressions",
      "metadata": {
        "trusted": true
      },
      "execution_count": null,
      "outputs": []
    },
    {
      "cell_type": "code",
      "source": "# create and display both a list comprehension and a generator expression\n# so as to explore how they are similar and different in Python\nlist_comprehension = ['Hello' for i in range(3)]\n\ngenerator_expression = ('Hello' for i in range(3))\n\nprint(list_comprehension)\nprint(generator_expression)",
      "metadata": {
        "trusted": true
      },
      "execution_count": null,
      "outputs": []
    },
    {
      "cell_type": "code",
      "source": "# Questions:\n# 1) What is the meaning of the output from the first print statement?\n# 2) What is the meaning of the output from the second print statement?\n# 3) Why do these two approaches not produce the same output?",
      "metadata": {
        "trusted": true
      },
      "execution_count": null,
      "outputs": []
    },
    {
      "cell_type": "code",
      "source": "# create a generator expression and then attempt to iterate through it twice after display\n\n# Step 1) Create the generator expression for even numbers\neven_squares = (x * x for x in range(10) if x % 2 == 0)\n\n# Step 2) Display the generator expression itself\nprint(even_squares)\n\n# Step 3) Display the contents of the generator expression\nprint(\"Starting to display the contents of even_squares the first time ...\")\nfor value in even_squares:\n    print(value)\nprint(\"... done displaying the contents of even_squares the first time!\")\n    \nprint(\"Starting to display the contents of even_squares the second time ...\")\nfor value in even_squares:\n    print(value)\nprint(\"... done displaying the contents of even_squares the second time!\")",
      "metadata": {
        "trusted": true
      },
      "execution_count": null,
      "outputs": []
    },
    {
      "cell_type": "code",
      "source": "# Questions:\n# 1) What is the meaning of the output when even_squares is directly passed to print?\n# 2) How do you explain the output of the for print statements and the two for loops?\n# 3) What are the trade-offs associated with using generator expressions?",
      "metadata": {
        "trusted": true
      },
      "execution_count": null,
      "outputs": []
    },
    {
      "cell_type": "code",
      "source": "# --> demonstrate the use of a generator function, which is distinct from a generator expression",
      "metadata": {
        "trusted": true
      },
      "execution_count": null,
      "outputs": []
    },
    {
      "cell_type": "code",
      "source": "# define a generator function\ndef fibonacci_generator(n):\n    a = 1\n    b = 1\n    for i in range(n):\n        yield a\n        a, b = b, a + b\n\n# display the address of the generator function\nprint(fibonacci_generator)\n\n# display the contents created by the generator function\nfor value in fibonacci_generator(10):\n    print(value, end=\" \")",
      "metadata": {
        "trusted": true
      },
      "execution_count": null,
      "outputs": []
    },
    {
      "cell_type": "code",
      "source": "# create and call a generator function that can \"endlessly\" generate values\ndef integers(n: int) -> int:\n    while True:\n        yield n\n        n += 1\n\n# start at the value of 10 and then print all of the \n# values that are yielded by the integers generator function\n#\n# IMPORTANT: these two lines of code will continously produce\n# values unless you <right click> and then choose <Restart Kernel ...>\n#\n# IMPORTANT: once you are done inspecting the output produced by\n# these two lines of source code you should <right click> and then\n# choose <Clear All Outputs>\nfor value in integers(10):\n    print(value)",
      "metadata": {
        "trusted": true
      },
      "execution_count": null,
      "outputs": []
    },
    {
      "cell_type": "code",
      "source": "# Questions:\n# 1) What is the difference between a generator function and a generator expression?\n# 2) Will the integers function generate a truly endless stream of data values?\n# 3) How do you use the Jupyter Notebook interface to stop an endless stream?",
      "metadata": {},
      "execution_count": null,
      "outputs": []
    }
  ]
}