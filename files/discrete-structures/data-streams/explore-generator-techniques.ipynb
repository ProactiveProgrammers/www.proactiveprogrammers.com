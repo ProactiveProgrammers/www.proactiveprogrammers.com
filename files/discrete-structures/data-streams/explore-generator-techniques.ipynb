{
 "cells": [
  {
   "cell_type": "code",
   "execution_count": null,
   "metadata": {},
   "outputs": [],
   "source": [
    "# Explore and understand how to use generator expressions"
   ]
  },
  {
   "cell_type": "code",
   "execution_count": null,
   "metadata": {},
   "outputs": [],
   "source": [
    "# Technical Topics:\n",
    "\n",
    "# Create lists and tuples\n",
    "# Generator functions\n",
    "# Generator expressions\n",
    "# Display the contents of generators\n",
    "# Generators that execute infinitely"
   ]
  },
  {
   "cell_type": "code",
   "execution_count": null,
   "metadata": {},
   "outputs": [],
   "source": [
    "# create and display both a list comprehension and a generator expression\n",
    "# so as to explore how they are similar and different in Python\n",
    "list_comprehension = ['Hello' for i in range(3)]\n",
    "\n",
    "generator_expression = ('Hello' for i in range(3))\n",
    "\n",
    "print(list_comprehension)\n",
    "print(generator_expression)"
   ]
  },
  {
   "cell_type": "code",
   "execution_count": null,
   "metadata": {},
   "outputs": [],
   "source": [
    "# Questions:\n",
    "# 1) What is the meaning of the output from the first print statement?\n",
    "# 2) What is the meaning of the output from the second print statement?\n",
    "# 3) Why do these two approaches not produce the same output?"
   ]
  },
  {
   "cell_type": "code",
   "execution_count": null,
   "metadata": {},
   "outputs": [],
   "source": [
    "# create a generator expression and then attempt to iterate through it twice after display\n",
    "\n",
    "# Step 1) Create the generator expression for even numbers\n",
    "even_squares = (x * x for x in range(10) if x % 2 == 0)\n",
    "\n",
    "# Step 2) Display the generator expression itself\n",
    "print(even_squares)\n",
    "\n",
    "# Step 3) Display the contents of the generator expression\n",
    "print(\"Starting to display the contents of even_squares the first time ...\")\n",
    "for value in even_squares:\n",
    "    print(value)\n",
    "print(\"... done displaying the contents of even_squares the first time!\")\n",
    "    \n",
    "print(\"Starting to display the contents of even_squares the second time ...\")\n",
    "for value in even_squares:\n",
    "    print(value)\n",
    "print(\"... done displaying the contents of even_squares the second time!\")"
   ]
  },
  {
   "cell_type": "code",
   "execution_count": null,
   "metadata": {},
   "outputs": [],
   "source": [
    "# Summary Questions:\n",
    "# 1) What is the meaning of the output when even_squares is directly passed to print?\n",
    "# 2) How do you explain the output of the for print statements and the two for loops?\n",
    "# 3) What are the trade-offs associated with using generator expressions?"
   ]
  },
  {
   "cell_type": "code",
   "execution_count": null,
   "metadata": {},
   "outputs": [],
   "source": [
    "# --> demonstrate the use of a generator function, which is distinct from a generator expression"
   ]
  },
  {
   "cell_type": "code",
   "execution_count": null,
   "metadata": {},
   "outputs": [],
   "source": [
    "# define a generator function\n",
    "def fibonacci_generator(n):\n",
    "    a = 1\n",
    "    b = 1\n",
    "    for i in range(n):\n",
    "        yield a\n",
    "        a, b = b, a + b\n",
    "\n",
    "# display the address of the generator function\n",
    "print(fibonacci_generator)\n",
    "\n",
    "# display the contents created by the generator function\n",
    "for value in fibonacci_generator(10):\n",
    "    print(value, end=\" \")"
   ]
  },
  {
   "cell_type": "code",
   "execution_count": null,
   "metadata": {},
   "outputs": [],
   "source": [
    "# create and call a generator function that can \"endlessly\" generate values\n",
    "def integers(n: int) -> int:\n",
    "    while True:\n",
    "        yield n\n",
    "        n += 1\n",
    "\n",
    "# start at the value of 10 and then print all of the \n",
    "# values that are yielded by the integers generator function\n",
    "#\n",
    "# IMPORTANT: these two lines of code will continously produce\n",
    "# values unless you <right click> and then choose <Restart Kernel ...>\n",
    "#\n",
    "# IMPORTANT: once you are done inspecting the output produced by\n",
    "# these two lines of source code you should <right click> and then\n",
    "# choose <Clear All Outputs>\n",
    "#\n",
    "# NOTE: the exact sequence of commands that you must type may\n",
    "# vary depending on whether you are running this Jupyter notebook\n",
    "# in Google Colab or in Jupyter Lite; please see the course\n",
    "# instructor or one of the student technical leaders if you are\n",
    "# not sure how to cause this function to stop running\n",
    "for value in integers(10):\n",
    "    print(value)"
   ]
  },
  {
   "cell_type": "code",
   "execution_count": null,
   "metadata": {},
   "outputs": [],
   "source": [
    "# Summary Questions:\n",
    "# 1) What is the difference between a generator function and a generator expression?\n",
    "# 2) Will the integers function generate a truly endless stream of data values?\n",
    "# 3) How do you use the Jupyter Notebook interface to stop an endless stream?"
   ]
  }
 ],
 "metadata": {
  "kernelspec": {
   "display_name": "Python 3 (ipykernel)",
   "language": "python",
   "name": "python3"
  },
  "language_info": {
   "codemirror_mode": {
    "name": "ipython",
    "version": 3
   },
   "file_extension": ".py",
   "mimetype": "text/x-python",
   "name": "python",
   "nbconvert_exporter": "python",
   "pygments_lexer": "ipython3",
   "version": "3.10.5"
  },
  "toc-autonumbering": false,
  "toc-showcode": false,
  "toc-showmarkdowntxt": true
 },
 "nbformat": 4,
 "nbformat_minor": 4
}
