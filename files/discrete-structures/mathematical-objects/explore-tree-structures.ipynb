{
  "metadata": {
    "kernelspec": {
      "name": "python",
      "display_name": "Pyolite",
      "language": "python"
    },
    "language_info": {
      "codemirror_mode": {
        "name": "python",
        "version": 3
      },
      "file_extension": ".py",
      "mimetype": "text/x-python",
      "name": "python",
      "nbconvert_exporter": "python",
      "pygments_lexer": "ipython3",
      "version": "3.8"
    },
    "toc-autonumbering": false,
    "toc-showcode": false,
    "toc-showmarkdowntxt": true
  },
  "nbformat_minor": 4,
  "nbformat": 4,
  "cells": [
    {
      "cell_type": "code",
      "source": "# create a Node discrete structure\n\nclass Node:\n  \n    def __init__(self, value):\n        self.left = None\n        self.data = value\n        self.right = None",
      "metadata": {
        "trusted": true
      },
      "execution_count": null,
      "outputs": []
    },
    {
      "cell_type": "code",
      "source": "# create a simple Tree discrete structure\n\n# Limitations of this Tree:\n# 1) Does not provide a delete function\n# 2) Does not re-balance the tree\n# 3) Does not provide a visualization\n\n# NOTE: The referenced GitHub Gist does provide a delete\n# function but it is neither implemented or used here\n\nclass Tree:\n\n    def createNode(self, data):\n        return Node(data)\n\n    def insert(self, node , data):\n        # if tree is empty , return a root node\n        if node is None:\n            return self.createNode(data)\n        # if data is smaller than parent , insert it into left side\n        if data < node.data:\n            node.left = self.insert(node.left, data)\n        elif data > node.data:\n            node.right = self.insert(node.right, data)\n        return node\n\n    def search(self, node, data):\n        # if root is None or root is the search data\n        if node is None or node.data == data:\n            return node\n        if node.data < data:\n            return self.search(node.right, data)\n        else:\n            return self.search(node.left, data)\n\n    def traverseInorder(self, root):\n        if root is not None:\n            self.traverseInorder(root.left)\n            print (root.data)\n            self.traverseInorder(root.right)\n\n    def traversePreorder(self, root):\n        if root is not None:\n            print (root.data)\n            self.traversePreorder(root.left)\n            self.traversePreorder(root.right)\n\n    def traversePostorder(self, root):\n        if root is not None:\n            self.traversePostorder(root.left)\n            self.traversePostorder(root.right)\n            print (root.data)",
      "metadata": {
        "trusted": true
      },
      "execution_count": null,
      "outputs": []
    },
    {
      "cell_type": "code",
      "source": "# Create an instance of the Tree discrete structure\n\nroot = None\ntree = Tree()\nroot = tree.insert(root, 100)\n\nprint(\"Display the root of the tree\")\nprint(root)\n\nfifty = tree.insert(root, 50)\ntree.insert(fifty, 10)\ntree.insert(fifty, 90)\n\nonefifty = tree.insert(root, 150)\ntree.insert(onefifty, 120)\ntree.insert(onefifty, 200)\n\n# Traverse the contents of the Tree discrete structure\n# Inorder traversal: Left, Node, Right\n# Preorder traversal: Node, Left, Right\n# Postorder traversal: Left, Right, Node\n\nprint(\"Inorder traversal\")\ntree.traverseInorder(root)\nprint()\n\nprint(\"Preorder Traversal\")\ntree.traversePreorder(root)\nprint()\n\nprint(\"Postorder Traversal\")\ntree.traversePostorder(root)\nprint()\n\n# Search for contents inside of the Tree discrete structure\n# 150 is found in the tree\n# 100 is found in the tree\n# 0 is not found in the tree\n# Do not try to access the data attribute of the final search!\n\nprint(\"Searching for the value of 150\")\nfound = tree.search(root, 150)\nprint(found.data)\nprint()\n\nprint(\"Searching for the value of 100\")\nfound = tree.search(root, 100)\nprint(found.data)\nprint()\n\nprint(\"Searching for the value of 0\")\nfound = tree.search(root, 0)\nprint(found)",
      "metadata": {
        "trusted": true
      },
      "execution_count": null,
      "outputs": []
    },
    {
      "cell_type": "code",
      "source": "# Questions:\n# 1) What are the similiarities and differences between inorder, preorder, and postorder tree traversal?\n# 2) What is the meaning of the output when you attempt to print the entire tree?\n# 3) What happens if you attempt to access the data attribute for a failed search of a tree?",
      "metadata": {
        "trusted": true
      },
      "execution_count": null,
      "outputs": []
    },
    {
      "cell_type": "code",
      "source": "# Task: Create your own tree instance and then perform traversals on the tree",
      "metadata": {
        "trusted": true
      },
      "execution_count": null,
      "outputs": []
    },
    {
      "cell_type": "code",
      "source": "# Task: Add the delete function and then demonstrate its use by deleting a node from both of the trees",
      "metadata": {
        "trusted": true
      },
      "execution_count": null,
      "outputs": []
    }
  ]
}