{
  "metadata": {
    "kernelspec": {
      "name": "python",
      "display_name": "Pyolite",
      "language": "python"
    },
    "language_info": {
      "codemirror_mode": {
        "name": "python",
        "version": 3
      },
      "file_extension": ".py",
      "mimetype": "text/x-python",
      "name": "python",
      "nbconvert_exporter": "python",
      "pygments_lexer": "ipython3",
      "version": "3.8"
    },
    "toc-autonumbering": false,
    "toc-showcode": false,
    "toc-showmarkdowntxt": true
  },
  "nbformat_minor": 4,
  "nbformat": 4,
  "cells": [
    {
      "cell_type": "code",
      "source": "# Explore and understand different approaches to\n# creating and using mathematical objects in Python",
      "metadata": {
        "trusted": true
      },
      "execution_count": null,
      "outputs": []
    },
    {
      "cell_type": "code",
      "source": "# Define a MovingAverage class\nclass MovingAverage:\n\n    def __init__(self, num_points):\n        self.__points = []\n        self.__length = 0\n        self.__num_points = num_points\n\n    def append(self, new_value):\n        points = self.__points\n        if self.__length == self.__num_points:\n            points.pop(0)\n        else:\n            self.__length += 1\n        points.append(new_value)\n\n    def value(self):\n        points = self.__points\n        length = self.__length\n        if length > 0:\n            return sum(points) / length\n        return None",
      "metadata": {
        "trusted": true
      },
      "execution_count": null,
      "outputs": []
    },
    {
      "cell_type": "code",
      "source": "# Questions:\n# 1) What is the purpose of the __init__ method?\n# 2) What is the purpose of the append method?\n# 3) What is the purpose of the value method?\n# 4) How is a MovingAverage different that the direct computation of an average?\n# 5) In what way(s) is the value method potentially inefficient?",
      "metadata": {
        "trusted": true
      },
      "execution_count": null,
      "outputs": []
    },
    {
      "cell_type": "code",
      "source": "# Define a function that supports the random generation of values\nimport random\n\ndef generate_random_integers(size, minimum, maximum):\n    # Reference:\n    # https://www.geeksforgeeks.org/generating-random-number-list-in-python/\n    random_list = random.sample(range(minimum, maximum), size)\n    return random_list",
      "metadata": {
        "trusted": true
      },
      "execution_count": null,
      "outputs": []
    },
    {
      "cell_type": "code",
      "source": "# Define a function that uses a MovingAverage to smooth a list of data values\n\ndef smooth(data, num_points):\n    average = MovingAverage(num_points)\n    for value in data:\n        average.append(value)\n        yield average.value()",
      "metadata": {
        "trusted": true
      },
      "execution_count": null,
      "outputs": []
    },
    {
      "cell_type": "code",
      "source": "# Reference:\n# https://docs.python.org/3/library/statistics.html\n# Reference:\n# Chapter 11 of Programminimumg and Mathematical Thinking\n\n# --> demonstrate the MovingAverage for a small fixed data set\nsmall_fixed_data = [1, 2, 3, 4, 4]\nwindow = 5\nprint(f\"Computing the moving average for a small, fixed list of values {small_fixed_data}\\n\")\nfor smoothed_value in smooth(small_fixed_data, window):\n    print(f\"\\tCurrent moving average of {window} values is {smoothed_value}\")\n    \n# Task: Make sure to run this cell multiple times. Does it always produce the same output?",
      "metadata": {
        "trusted": true
      },
      "execution_count": null,
      "outputs": []
    },
    {
      "cell_type": "code",
      "source": "# --> demonstrate the MovingAverage for a small randomly generated data set\n\nsmall_random_data = generate_random_integers(5, 0, 100)\nwindow = 5\nprint(f\"Computing the moving average for a small, random list of values {small_random_data}\\n\")\nfor smoothed_value in smooth(small_random_data, window):\n    print(f\"\\tCurrent moving average of {window} values is {smoothed_value}\")\n    \n# Task: Make sure to run this cell multiple times. Does it always produce the same output?",
      "metadata": {
        "trusted": true
      },
      "execution_count": null,
      "outputs": []
    },
    {
      "cell_type": "code",
      "source": "# Question: How do you know that the two previous cells are computing the correct value?",
      "metadata": {
        "trusted": true
      },
      "execution_count": null,
      "outputs": []
    },
    {
      "cell_type": "code",
      "source": "# --> demonstrate the MovingAverage for a medium randomly generated data set\n# --> define window to keep a small number of data values for the moving average\nmedium_random_data = generate_random_integers(50, 0, 100)\nwindow = 5\nprint(f\"Computing the moving average for a medium, random list of values {medium_random_data}\\n\")\nfor smoothed_value in smooth(medium_random_data, window):\n    print(f\"\\tCurrent moving average of {window} values is {smoothed_value:.4f}\")",
      "metadata": {
        "trusted": true
      },
      "execution_count": null,
      "outputs": []
    },
    {
      "cell_type": "code",
      "source": "# --> demonstrate the MovingAverage for a medium randomly generated data set\n# --> define window to keep a small number of data values for the moving average\n# --> make sure to use the same medium_random_data set with the larger window\nwindow = 50\nprint(f\"Computing the moving average for a medium, random list of values {medium_random_data}\\n\")\nfor smoothed_value in smooth(medium_random_data, window):\n    print(f\"\\tCurrent moving average of {window} values is {smoothed_value:.4f}\")",
      "metadata": {
        "trusted": true
      },
      "execution_count": null,
      "outputs": []
    },
    {
      "cell_type": "code",
      "source": "# Task: run both of these two previous cells multiple times and observe the output!\n# Note: when you are completing this task, make sure to always run the first cell\n# and then run the second cell, ensuring that you are using the same value for medium_random_data",
      "metadata": {
        "trusted": true
      },
      "execution_count": null,
      "outputs": []
    },
    {
      "cell_type": "code",
      "source": "# Questions:\n# 1) How does the value of the window change the output of the two previous cells?\n# 2) Whare are the trade-offs associated with the value chosen for the window?\n# 3) What are the situations in which it is a good idea to compute a MovingAverage?",
      "metadata": {
        "trusted": true
      },
      "execution_count": null,
      "outputs": []
    }
  ]
}